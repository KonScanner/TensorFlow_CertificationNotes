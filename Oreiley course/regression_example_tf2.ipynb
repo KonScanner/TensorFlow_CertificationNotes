{
 "cells": [
  {
   "cell_type": "markdown",
   "metadata": {},
   "source": [
    "# Regression Example\n",
    "### Predicting house prices in Boston, Massachusetts"
   ]
  },
  {
   "cell_type": "code",
   "execution_count": 14,
   "metadata": {},
   "outputs": [],
   "source": [
    "import numpy as np\n",
    "from tensorflow.keras.datasets import boston_housing\n",
    "from tensorflow.keras.models import Sequential\n",
    "from tensorflow.keras.layers import Dropout, Dense, BatchNormalization\n",
    "from tensorflow.keras.callbacks import ModelCheckpoint\n",
    "from tensorflow.keras.callbacks import TensorBoard\n",
    "import os\n",
    "\n"
   ]
  },
  {
   "cell_type": "code",
   "execution_count": 15,
   "metadata": {
    "tags": []
   },
   "outputs": [],
   "source": [
    "(x_train, y_train), (x_validation, y_validation) = boston_housing.load_data() "
   ]
  },
  {
   "cell_type": "code",
   "execution_count": 16,
   "metadata": {
    "tags": []
   },
   "outputs": [
    {
     "output_type": "stream",
     "name": "stdout",
     "text": "(404, 13)\n(102, 13)\n[  1.23247   0.        8.14      0.        0.538     6.142    91.7\n   3.9769    4.      307.       21.      396.9      18.72   ]\n[ 18.0846   0.      18.1      0.       0.679    6.434  100.       1.8347\n  24.     666.      20.2     27.25    29.05  ]\n15.2\n"
    }
   ],
   "source": [
    "print(x_train.shape,x_validation.shape,x_train[0],x_validation[0], y_train[0], sep='\\n')"
   ]
  },
  {
   "cell_type": "code",
   "execution_count": 17,
   "metadata": {
    "tags": []
   },
   "outputs": [
    {
     "output_type": "stream",
     "name": "stdout",
     "text": "Model: \"sequential_1\"\n_________________________________________________________________\nLayer (type)                 Output Shape              Param #   \n=================================================================\ndense_3 (Dense)              (None, 32)                448       \n_________________________________________________________________\nbatch_normalization_2 (Batch (None, 32)                128       \n_________________________________________________________________\ndense_4 (Dense)              (None, 16)                528       \n_________________________________________________________________\nbatch_normalization_3 (Batch (None, 16)                64        \n_________________________________________________________________\ndropout_1 (Dropout)          (None, 16)                0         \n_________________________________________________________________\ndense_5 (Dense)              (None, 1)                 17        \n=================================================================\nTotal params: 1,185\nTrainable params: 1,089\nNon-trainable params: 96\n_________________________________________________________________\n"
    }
   ],
   "source": [
    "model = Sequential()\n",
    "\n",
    "# First hidden layer\n",
    "model.add(Dense(32, input_dim=13, activation='relu'))\n",
    "model.add(BatchNormalization())\n",
    "\n",
    "# Second hidden layer\n",
    "model.add(Dense(16, input_dim=13, activation='relu'))\n",
    "model.add(BatchNormalization())\n",
    "model.add(Dropout(0.4))\n",
    "\n",
    "# Ouptut layer\n",
    "model.add(Dense(1, activation='linear'))\n",
    "\n",
    "model.summary()"
   ]
  },
  {
   "cell_type": "code",
   "execution_count": 18,
   "metadata": {},
   "outputs": [],
   "source": [
    "model.compile(loss='mean_squared_error', optimizer='nadam') # MSE is better for regression problems and faster\n",
    "output_directory = 'model_output/'\n",
    "run_name = 'regression_baseline_04Base'\n",
    "output_path = output_directory + run_name"
   ]
  },
  {
   "cell_type": "code",
   "execution_count": 19,
   "metadata": {},
   "outputs": [],
   "source": [
    "if not os.path.exists(output_path):\n",
    "    os.makedirs(output_path)\n",
    "if not os.path.exists('logs/'):\n",
    "    os.makedirs('logs')\n",
    "    "
   ]
  },
  {
   "cell_type": "code",
   "execution_count": 20,
   "metadata": {},
   "outputs": [],
   "source": [
    "model_checkpoint = ModelCheckpoint(output_path + '/weights.{epoch:02d}.hdf5',save_weights_only=True)"
   ]
  },
  {
   "cell_type": "code",
   "execution_count": 21,
   "metadata": {},
   "outputs": [],
   "source": [
    "tensorboard = TensorBoard(log_dir='logs/' +run_name)"
   ]
  },
  {
   "cell_type": "markdown",
   "metadata": {},
   "source": [
    "### Training"
   ]
  },
  {
   "cell_type": "code",
   "execution_count": 22,
   "metadata": {
    "tags": []
   },
   "outputs": [
    {
     "output_type": "stream",
     "name": "stdout",
     "text": "Epoch 1/32\n 2/51 [>.............................] - ETA: 36s - loss: 672.8044WARNING:tensorflow:Method (on_train_batch_end) is slow compared to the batch update (0.735389). Check your callbacks.\n51/51 [==============================] - 2s 35ms/step - loss: 577.3305 - val_loss: 666.4503\nEpoch 2/32\n51/51 [==============================] - 0s 4ms/step - loss: 562.6277 - val_loss: 617.1904\nEpoch 3/32\n51/51 [==============================] - 0s 4ms/step - loss: 543.9161 - val_loss: 585.5445\nEpoch 4/32\n51/51 [==============================] - 0s 4ms/step - loss: 525.0046 - val_loss: 561.7756\nEpoch 5/32\n51/51 [==============================] - 0s 4ms/step - loss: 503.6891 - val_loss: 518.3738\nEpoch 6/32\n51/51 [==============================] - 0s 5ms/step - loss: 485.9664 - val_loss: 488.2428\nEpoch 7/32\n51/51 [==============================] - 0s 4ms/step - loss: 456.0039 - val_loss: 446.4290\nEpoch 8/32\n51/51 [==============================] - 0s 5ms/step - loss: 428.0901 - val_loss: 420.3071\nEpoch 9/32\n51/51 [==============================] - 0s 5ms/step - loss: 394.7840 - val_loss: 388.4474\nEpoch 10/32\n51/51 [==============================] - 0s 5ms/step - loss: 364.5746 - val_loss: 326.5083\nEpoch 11/32\n51/51 [==============================] - 0s 6ms/step - loss: 332.3511 - val_loss: 278.4438\nEpoch 12/32\n51/51 [==============================] - 0s 5ms/step - loss: 298.7497 - val_loss: 217.9145\nEpoch 13/32\n51/51 [==============================] - 0s 5ms/step - loss: 258.5744 - val_loss: 172.9298\nEpoch 14/32\n51/51 [==============================] - 0s 6ms/step - loss: 227.1103 - val_loss: 140.4333\nEpoch 15/32\n51/51 [==============================] - 0s 6ms/step - loss: 200.1744 - val_loss: 98.5851\nEpoch 16/32\n51/51 [==============================] - 0s 6ms/step - loss: 165.7002 - val_loss: 92.7479\nEpoch 17/32\n51/51 [==============================] - 0s 4ms/step - loss: 137.3277 - val_loss: 75.0725\nEpoch 18/32\n51/51 [==============================] - 0s 5ms/step - loss: 124.3170 - val_loss: 69.9374\nEpoch 19/32\n51/51 [==============================] - 0s 5ms/step - loss: 103.2068 - val_loss: 59.0042\nEpoch 20/32\n51/51 [==============================] - 0s 5ms/step - loss: 98.6903 - val_loss: 61.1648\nEpoch 21/32\n51/51 [==============================] - 0s 5ms/step - loss: 79.7590 - val_loss: 72.2989\nEpoch 22/32\n51/51 [==============================] - 0s 4ms/step - loss: 77.8201 - val_loss: 100.9164\nEpoch 23/32\n51/51 [==============================] - 0s 4ms/step - loss: 73.6731 - val_loss: 85.3143\nEpoch 24/32\n51/51 [==============================] - 0s 4ms/step - loss: 61.0785 - val_loss: 101.4064\nEpoch 25/32\n51/51 [==============================] - 0s 4ms/step - loss: 64.7253 - val_loss: 100.8381\nEpoch 26/32\n51/51 [==============================] - 0s 6ms/step - loss: 61.4650 - val_loss: 127.7175\nEpoch 27/32\n51/51 [==============================] - 0s 4ms/step - loss: 55.4318 - val_loss: 107.3227\nEpoch 28/32\n51/51 [==============================] - 0s 4ms/step - loss: 59.3068 - val_loss: 99.2290\nEpoch 29/32\n51/51 [==============================] - 0s 4ms/step - loss: 55.8521 - val_loss: 102.3205\nEpoch 30/32\n51/51 [==============================] - 0s 4ms/step - loss: 51.2161 - val_loss: 121.3475\nEpoch 31/32\n51/51 [==============================] - 0s 4ms/step - loss: 62.6547 - val_loss: 116.4573\nEpoch 32/32\n51/51 [==============================] - 0s 4ms/step - loss: 55.9834 - val_loss: 155.9864\n"
    },
    {
     "output_type": "execute_result",
     "data": {
      "text/plain": "<tensorflow.python.keras.callbacks.History at 0x1fa6b965490>"
     },
     "metadata": {},
     "execution_count": 22
    }
   ],
   "source": [
    "model.fit(x_train, y_train, batch_size=8, epochs=32, verbose=1, validation_data=(x_validation,y_validation), callbacks=[model_checkpoint, tensorboard])"
   ]
  },
  {
   "cell_type": "markdown",
   "metadata": {},
   "source": [
    "### Inference"
   ]
  },
  {
   "cell_type": "code",
   "execution_count": 23,
   "metadata": {},
   "outputs": [],
   "source": [
    "model.load_weights(output_path + '/weights.31.hdf5')\n"
   ]
  },
  {
   "cell_type": "code",
   "execution_count": 24,
   "metadata": {},
   "outputs": [
    {
     "output_type": "execute_result",
     "data": {
      "text/plain": "array([  9.32909,   0.     ,  18.1    ,   0.     ,   0.713  ,   6.185  ,\n        98.7    ,   2.2616 ,  24.     , 666.     ,  20.2    , 396.9    ,\n        18.13   ])"
     },
     "metadata": {},
     "execution_count": 24
    }
   ],
   "source": [
    "x_validation[42]"
   ]
  },
  {
   "cell_type": "code",
   "execution_count": 25,
   "metadata": {},
   "outputs": [
    {
     "output_type": "execute_result",
     "data": {
      "text/plain": "14.1"
     },
     "metadata": {},
     "execution_count": 25
    }
   ],
   "source": [
    "y_validation[42]"
   ]
  },
  {
   "cell_type": "code",
   "execution_count": 26,
   "metadata": {},
   "outputs": [
    {
     "output_type": "execute_result",
     "data": {
      "text/plain": "array([[13.82048]], dtype=float32)"
     },
     "metadata": {},
     "execution_count": 26
    }
   ],
   "source": [
    "model.predict(np.reshape(x_validation[42],[1,13]))"
   ]
  },
  {
   "cell_type": "code",
   "execution_count": null,
   "metadata": {},
   "outputs": [],
   "source": []
  }
 ],
 "metadata": {
  "language_info": {
   "codemirror_mode": {
    "name": "ipython",
    "version": 3
   },
   "file_extension": ".py",
   "mimetype": "text/x-python",
   "name": "python",
   "nbconvert_exporter": "python",
   "pygments_lexer": "ipython3",
   "version": "3.8.3-final"
  },
  "orig_nbformat": 2,
  "kernelspec": {
   "name": "python38164bit0942e7715c2041d4a9221d3e47caa33a",
   "display_name": "Python 3.8.1 64-bit"
  }
 },
 "nbformat": 4,
 "nbformat_minor": 2
}