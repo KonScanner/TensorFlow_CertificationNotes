{
  "nbformat": 4,
  "nbformat_minor": 0,
  "metadata": {
    "colab": {
      "name": "creating_word_vectors_with_word2vec.ipynb",
      "provenance": [],
      "collapsed_sections": []
    },
    "kernelspec": {
      "name": "python3",
      "display_name": "Python 3"
    },
    "accelerator": "GPU"
  },
  "cells": [
    {
      "cell_type": "markdown",
      "metadata": {
        "id": "84MA_nEru-lx",
        "colab_type": "text"
      },
      "source": [
        "# Creating Word Vectors with word2vec"
      ]
    },
    {
      "cell_type": "code",
      "metadata": {
        "id": "d1uQgyLzvA9n",
        "colab_type": "code",
        "colab": {}
      },
      "source": [
        "import nltk\n",
        "from nltk import word_tokenize, sent_tokenize\n",
        "import gensim\n",
        "from gensim.models.word2vec import Word2Vec\n",
        "from sklearn.manifold import TSNE\n",
        "import pandas as pd\n",
        "from bokeh.io import output_notebook\n",
        "from bokeh.plotting import show, figure"
      ],
      "execution_count": 1,
      "outputs": []
    },
    {
      "cell_type": "code",
      "metadata": {
        "id": "Zi6dL-cFvEnB",
        "colab_type": "code",
        "colab": {
          "base_uri": "https://localhost:8080/",
          "height": 68
        },
        "outputId": "a6feceec-21f1-4d44-ed27-4c655892be02"
      },
      "source": [
        "nltk.download('punkt') # English-language sentence tokenizer (not all periods end sentences; not all sentences start with a capital letter)"
      ],
      "execution_count": 2,
      "outputs": [
        {
          "output_type": "stream",
          "text": [
            "[nltk_data] Downloading package punkt to /root/nltk_data...\n",
            "[nltk_data]   Unzipping tokenizers/punkt.zip.\n"
          ],
          "name": "stdout"
        },
        {
          "output_type": "execute_result",
          "data": {
            "text/plain": [
              "True"
            ]
          },
          "metadata": {
            "tags": []
          },
          "execution_count": 2
        }
      ]
    },
    {
      "cell_type": "code",
      "metadata": {
        "id": "pwhTblr7vFqY",
        "colab_type": "code",
        "colab": {
          "base_uri": "https://localhost:8080/",
          "height": 68
        },
        "outputId": "b4a3431e-287e-4e96-c74e-45d1e5a688f2"
      },
      "source": [
        "nltk.download('gutenberg')"
      ],
      "execution_count": 3,
      "outputs": [
        {
          "output_type": "stream",
          "text": [
            "[nltk_data] Downloading package gutenberg to /root/nltk_data...\n",
            "[nltk_data]   Unzipping corpora/gutenberg.zip.\n"
          ],
          "name": "stdout"
        },
        {
          "output_type": "execute_result",
          "data": {
            "text/plain": [
              "True"
            ]
          },
          "metadata": {
            "tags": []
          },
          "execution_count": 3
        }
      ]
    },
    {
      "cell_type": "code",
      "metadata": {
        "id": "9Q3kP4-8vG4P",
        "colab_type": "code",
        "colab": {
          "base_uri": "https://localhost:8080/",
          "height": 34
        },
        "outputId": "a05600a9-34aa-46a8-fd6c-3877993a0785"
      },
      "source": [
        "from nltk.corpus import gutenberg\n",
        "\n",
        "len(gutenberg.fileids())"
      ],
      "execution_count": 4,
      "outputs": [
        {
          "output_type": "execute_result",
          "data": {
            "text/plain": [
              "18"
            ]
          },
          "metadata": {
            "tags": []
          },
          "execution_count": 4
        }
      ]
    },
    {
      "cell_type": "code",
      "metadata": {
        "id": "lrsEKTXNvJ9w",
        "colab_type": "code",
        "colab": {
          "base_uri": "https://localhost:8080/",
          "height": 323
        },
        "outputId": "8d41a0b1-aebc-43a4-dd42-6f7bfd5fb728"
      },
      "source": [
        "gutenberg.fileids()"
      ],
      "execution_count": 5,
      "outputs": [
        {
          "output_type": "execute_result",
          "data": {
            "text/plain": [
              "['austen-emma.txt',\n",
              " 'austen-persuasion.txt',\n",
              " 'austen-sense.txt',\n",
              " 'bible-kjv.txt',\n",
              " 'blake-poems.txt',\n",
              " 'bryant-stories.txt',\n",
              " 'burgess-busterbrown.txt',\n",
              " 'carroll-alice.txt',\n",
              " 'chesterton-ball.txt',\n",
              " 'chesterton-brown.txt',\n",
              " 'chesterton-thursday.txt',\n",
              " 'edgeworth-parents.txt',\n",
              " 'melville-moby_dick.txt',\n",
              " 'milton-paradise.txt',\n",
              " 'shakespeare-caesar.txt',\n",
              " 'shakespeare-hamlet.txt',\n",
              " 'shakespeare-macbeth.txt',\n",
              " 'whitman-leaves.txt']"
            ]
          },
          "metadata": {
            "tags": []
          },
          "execution_count": 5
        }
      ]
    },
    {
      "cell_type": "markdown",
      "metadata": {
        "id": "TrDGUN66vMSK",
        "colab_type": "text"
      },
      "source": [
        "### Tokenization of text"
      ]
    },
    {
      "cell_type": "code",
      "metadata": {
        "id": "YbcaZkMpvLFX",
        "colab_type": "code",
        "colab": {}
      },
      "source": [
        "gberg_sent_tokens = sent_tokenize(gutenberg.raw())"
      ],
      "execution_count": 6,
      "outputs": []
    },
    {
      "cell_type": "code",
      "metadata": {
        "id": "gEibOYOkvN73",
        "colab_type": "code",
        "colab": {
          "base_uri": "https://localhost:8080/",
          "height": 139
        },
        "outputId": "346d25d9-6e50-44fd-f146-9c3aa132718a"
      },
      "source": [
        "gberg_sent_tokens[0:6]"
      ],
      "execution_count": 7,
      "outputs": [
        {
          "output_type": "execute_result",
          "data": {
            "text/plain": [
              "['[Emma by Jane Austen 1816]\\n\\nVOLUME I\\n\\nCHAPTER I\\n\\n\\nEmma Woodhouse, handsome, clever, and rich, with a comfortable home\\nand happy disposition, seemed to unite some of the best blessings\\nof existence; and had lived nearly twenty-one years in the world\\nwith very little to distress or vex her.',\n",
              " \"She was the youngest of the two daughters of a most affectionate,\\nindulgent father; and had, in consequence of her sister's marriage,\\nbeen mistress of his house from a very early period.\",\n",
              " 'Her mother\\nhad died too long ago for her to have more than an indistinct\\nremembrance of her caresses; and her place had been supplied\\nby an excellent woman as governess, who had fallen little short\\nof a mother in affection.',\n",
              " \"Sixteen years had Miss Taylor been in Mr. Woodhouse's family,\\nless as a governess than a friend, very fond of both daughters,\\nbut particularly of Emma.\",\n",
              " 'Between _them_ it was more the intimacy\\nof sisters.',\n",
              " \"Even before Miss Taylor had ceased to hold the nominal\\noffice of governess, the mildness of her temper had hardly allowed\\nher to impose any restraint; and the shadow of authority being\\nnow long passed away, they had been living together as friend and\\nfriend very mutually attached, and Emma doing just what she liked;\\nhighly esteeming Miss Taylor's judgment, but directed chiefly by\\nher own.\"]"
            ]
          },
          "metadata": {
            "tags": []
          },
          "execution_count": 7
        }
      ]
    },
    {
      "cell_type": "code",
      "metadata": {
        "id": "h1GMYQegvOyA",
        "colab_type": "code",
        "colab": {
          "base_uri": "https://localhost:8080/",
          "height": 35
        },
        "outputId": "e368c309-e519-41c2-d10c-8fcad2f15212"
      },
      "source": [
        "gberg_sent_tokens[1]"
      ],
      "execution_count": 8,
      "outputs": [
        {
          "output_type": "execute_result",
          "data": {
            "application/vnd.google.colaboratory.intrinsic": {
              "type": "string"
            },
            "text/plain": [
              "\"She was the youngest of the two daughters of a most affectionate,\\nindulgent father; and had, in consequence of her sister's marriage,\\nbeen mistress of his house from a very early period.\""
            ]
          },
          "metadata": {
            "tags": []
          },
          "execution_count": 8
        }
      ]
    },
    {
      "cell_type": "code",
      "metadata": {
        "id": "v5r6HseQvQH3",
        "colab_type": "code",
        "colab": {
          "base_uri": "https://localhost:8080/",
          "height": 663
        },
        "outputId": "aac972a3-e849-44b0-b3d8-1af02a0c515b"
      },
      "source": [
        "word_tokenize(gberg_sent_tokens[1])"
      ],
      "execution_count": 9,
      "outputs": [
        {
          "output_type": "execute_result",
          "data": {
            "text/plain": [
              "['She',\n",
              " 'was',\n",
              " 'the',\n",
              " 'youngest',\n",
              " 'of',\n",
              " 'the',\n",
              " 'two',\n",
              " 'daughters',\n",
              " 'of',\n",
              " 'a',\n",
              " 'most',\n",
              " 'affectionate',\n",
              " ',',\n",
              " 'indulgent',\n",
              " 'father',\n",
              " ';',\n",
              " 'and',\n",
              " 'had',\n",
              " ',',\n",
              " 'in',\n",
              " 'consequence',\n",
              " 'of',\n",
              " 'her',\n",
              " 'sister',\n",
              " \"'s\",\n",
              " 'marriage',\n",
              " ',',\n",
              " 'been',\n",
              " 'mistress',\n",
              " 'of',\n",
              " 'his',\n",
              " 'house',\n",
              " 'from',\n",
              " 'a',\n",
              " 'very',\n",
              " 'early',\n",
              " 'period',\n",
              " '.']"
            ]
          },
          "metadata": {
            "tags": []
          },
          "execution_count": 9
        }
      ]
    },
    {
      "cell_type": "code",
      "metadata": {
        "id": "joykEflovRjn",
        "colab_type": "code",
        "colab": {
          "base_uri": "https://localhost:8080/",
          "height": 35
        },
        "outputId": "7c1ba9a5-613f-4ca7-dd18-79bff67d789b"
      },
      "source": [
        "word_tokenize(gberg_sent_tokens[1])[14]"
      ],
      "execution_count": 10,
      "outputs": [
        {
          "output_type": "execute_result",
          "data": {
            "application/vnd.google.colaboratory.intrinsic": {
              "type": "string"
            },
            "text/plain": [
              "'father'"
            ]
          },
          "metadata": {
            "tags": []
          },
          "execution_count": 10
        }
      ]
    },
    {
      "cell_type": "code",
      "metadata": {
        "id": "6Z9aoljIvTPg",
        "colab_type": "code",
        "colab": {}
      },
      "source": [
        "# a convenient method that handles newlines, as well as tokenizing sentences and words in one shot\n",
        "gberg_sents = gutenberg.sents()"
      ],
      "execution_count": 11,
      "outputs": []
    },
    {
      "cell_type": "code",
      "metadata": {
        "id": "IGlYj_N9vUiQ",
        "colab_type": "code",
        "colab": {
          "base_uri": "https://localhost:8080/",
          "height": 1000
        },
        "outputId": "d20ed762-d397-4688-f834-f5cf277598ff"
      },
      "source": [
        "gberg_sents[0:6]"
      ],
      "execution_count": 13,
      "outputs": [
        {
          "output_type": "execute_result",
          "data": {
            "text/plain": [
              "[['[', 'Emma', 'by', 'Jane', 'Austen', '1816', ']'],\n",
              " ['VOLUME', 'I'],\n",
              " ['CHAPTER', 'I'],\n",
              " ['Emma',\n",
              "  'Woodhouse',\n",
              "  ',',\n",
              "  'handsome',\n",
              "  ',',\n",
              "  'clever',\n",
              "  ',',\n",
              "  'and',\n",
              "  'rich',\n",
              "  ',',\n",
              "  'with',\n",
              "  'a',\n",
              "  'comfortable',\n",
              "  'home',\n",
              "  'and',\n",
              "  'happy',\n",
              "  'disposition',\n",
              "  ',',\n",
              "  'seemed',\n",
              "  'to',\n",
              "  'unite',\n",
              "  'some',\n",
              "  'of',\n",
              "  'the',\n",
              "  'best',\n",
              "  'blessings',\n",
              "  'of',\n",
              "  'existence',\n",
              "  ';',\n",
              "  'and',\n",
              "  'had',\n",
              "  'lived',\n",
              "  'nearly',\n",
              "  'twenty',\n",
              "  '-',\n",
              "  'one',\n",
              "  'years',\n",
              "  'in',\n",
              "  'the',\n",
              "  'world',\n",
              "  'with',\n",
              "  'very',\n",
              "  'little',\n",
              "  'to',\n",
              "  'distress',\n",
              "  'or',\n",
              "  'vex',\n",
              "  'her',\n",
              "  '.'],\n",
              " ['She',\n",
              "  'was',\n",
              "  'the',\n",
              "  'youngest',\n",
              "  'of',\n",
              "  'the',\n",
              "  'two',\n",
              "  'daughters',\n",
              "  'of',\n",
              "  'a',\n",
              "  'most',\n",
              "  'affectionate',\n",
              "  ',',\n",
              "  'indulgent',\n",
              "  'father',\n",
              "  ';',\n",
              "  'and',\n",
              "  'had',\n",
              "  ',',\n",
              "  'in',\n",
              "  'consequence',\n",
              "  'of',\n",
              "  'her',\n",
              "  'sister',\n",
              "  \"'\",\n",
              "  's',\n",
              "  'marriage',\n",
              "  ',',\n",
              "  'been',\n",
              "  'mistress',\n",
              "  'of',\n",
              "  'his',\n",
              "  'house',\n",
              "  'from',\n",
              "  'a',\n",
              "  'very',\n",
              "  'early',\n",
              "  'period',\n",
              "  '.'],\n",
              " ['Her',\n",
              "  'mother',\n",
              "  'had',\n",
              "  'died',\n",
              "  'too',\n",
              "  'long',\n",
              "  'ago',\n",
              "  'for',\n",
              "  'her',\n",
              "  'to',\n",
              "  'have',\n",
              "  'more',\n",
              "  'than',\n",
              "  'an',\n",
              "  'indistinct',\n",
              "  'remembrance',\n",
              "  'of',\n",
              "  'her',\n",
              "  'caresses',\n",
              "  ';',\n",
              "  'and',\n",
              "  'her',\n",
              "  'place',\n",
              "  'had',\n",
              "  'been',\n",
              "  'supplied',\n",
              "  'by',\n",
              "  'an',\n",
              "  'excellent',\n",
              "  'woman',\n",
              "  'as',\n",
              "  'governess',\n",
              "  ',',\n",
              "  'who',\n",
              "  'had',\n",
              "  'fallen',\n",
              "  'little',\n",
              "  'short',\n",
              "  'of',\n",
              "  'a',\n",
              "  'mother',\n",
              "  'in',\n",
              "  'affection',\n",
              "  '.']]"
            ]
          },
          "metadata": {
            "tags": []
          },
          "execution_count": 13
        }
      ]
    },
    {
      "cell_type": "code",
      "metadata": {
        "id": "39ph4DvsvWJQ",
        "colab_type": "code",
        "colab": {
          "base_uri": "https://localhost:8080/",
          "height": 680
        },
        "outputId": "8999c2c5-e31f-4c7e-ad3f-d37e14ae3bd5"
      },
      "source": [
        "gberg_sents[4]"
      ],
      "execution_count": 14,
      "outputs": [
        {
          "output_type": "execute_result",
          "data": {
            "text/plain": [
              "['She',\n",
              " 'was',\n",
              " 'the',\n",
              " 'youngest',\n",
              " 'of',\n",
              " 'the',\n",
              " 'two',\n",
              " 'daughters',\n",
              " 'of',\n",
              " 'a',\n",
              " 'most',\n",
              " 'affectionate',\n",
              " ',',\n",
              " 'indulgent',\n",
              " 'father',\n",
              " ';',\n",
              " 'and',\n",
              " 'had',\n",
              " ',',\n",
              " 'in',\n",
              " 'consequence',\n",
              " 'of',\n",
              " 'her',\n",
              " 'sister',\n",
              " \"'\",\n",
              " 's',\n",
              " 'marriage',\n",
              " ',',\n",
              " 'been',\n",
              " 'mistress',\n",
              " 'of',\n",
              " 'his',\n",
              " 'house',\n",
              " 'from',\n",
              " 'a',\n",
              " 'very',\n",
              " 'early',\n",
              " 'period',\n",
              " '.']"
            ]
          },
          "metadata": {
            "tags": []
          },
          "execution_count": 14
        }
      ]
    },
    {
      "cell_type": "code",
      "metadata": {
        "id": "6h8GCeNfvbBo",
        "colab_type": "code",
        "colab": {
          "base_uri": "https://localhost:8080/",
          "height": 35
        },
        "outputId": "98aad503-bc20-456e-de95-9e44a5bc539e"
      },
      "source": [
        "gberg_sents[4][14]"
      ],
      "execution_count": 15,
      "outputs": [
        {
          "output_type": "execute_result",
          "data": {
            "application/vnd.google.colaboratory.intrinsic": {
              "type": "string"
            },
            "text/plain": [
              "'father'"
            ]
          },
          "metadata": {
            "tags": []
          },
          "execution_count": 15
        }
      ]
    },
    {
      "cell_type": "code",
      "metadata": {
        "id": "EvaxsfVTvcW4",
        "colab_type": "code",
        "colab": {
          "base_uri": "https://localhost:8080/",
          "height": 34
        },
        "outputId": "819d1797-8a85-431c-c631-c8fc87be25d1"
      },
      "source": [
        "# another convenient method that we don't immediately need: \n",
        "gutenberg.words()\n",
        "\n",
        "# gutenberg.words() is analogous to the following line, which need not be run: \n",
        "# word_tokenize(gutenberg.raw())"
      ],
      "execution_count": 16,
      "outputs": [
        {
          "output_type": "execute_result",
          "data": {
            "text/plain": [
              "['[', 'Emma', 'by', 'Jane', 'Austen', '1816', ']', ...]"
            ]
          },
          "metadata": {
            "tags": []
          },
          "execution_count": 16
        }
      ]
    },
    {
      "cell_type": "code",
      "metadata": {
        "id": "IeOVRDoIvdhJ",
        "colab_type": "code",
        "colab": {
          "base_uri": "https://localhost:8080/",
          "height": 34
        },
        "outputId": "edf97509-48a6-48fc-9a8d-293439e9e516"
      },
      "source": [
        "# our Gutenberg corpus is 2.6m words in length: \n",
        "len(gutenberg.words())"
      ],
      "execution_count": 17,
      "outputs": [
        {
          "output_type": "execute_result",
          "data": {
            "text/plain": [
              "2621613"
            ]
          },
          "metadata": {
            "tags": []
          },
          "execution_count": 17
        }
      ]
    },
    {
      "cell_type": "code",
      "metadata": {
        "id": "6WfngSMfvhYg",
        "colab_type": "code",
        "colab": {}
      },
      "source": [
        ""
      ],
      "execution_count": null,
      "outputs": []
    },
    {
      "cell_type": "markdown",
      "metadata": {
        "id": "7sZyziSXvijG",
        "colab_type": "text"
      },
      "source": [
        "### Running word2vec"
      ]
    },
    {
      "cell_type": "code",
      "metadata": {
        "id": "r0X2cUncvjlg",
        "colab_type": "code",
        "colab": {
          "base_uri": "https://localhost:8080/",
          "height": 71
        },
        "outputId": "a22a1ec7-a252-42c1-8722-d2380291cee7"
      },
      "source": [
        "model = Word2Vec(sentences=gberg_sents, size=64, sg=1, window=10, min_count=5, workers=8)\n",
        "model.save('raw_gutenberg_model.w2v')\n"
      ],
      "execution_count": 18,
      "outputs": [
        {
          "output_type": "stream",
          "text": [
            "/usr/local/lib/python3.6/dist-packages/smart_open/smart_open_lib.py:253: UserWarning: This function is deprecated, use smart_open.open instead. See the migration notes for details: https://github.com/RaRe-Technologies/smart_open/blob/master/README.rst#migrating-to-the-new-open-function\n",
            "  'See the migration notes for details: %s' % _MIGRATION_NOTES_URL\n"
          ],
          "name": "stderr"
        }
      ]
    },
    {
      "cell_type": "markdown",
      "metadata": {
        "id": "Pe4VVFh_vqFS",
        "colab_type": "text"
      },
      "source": [
        "### Evaluate"
      ]
    },
    {
      "cell_type": "code",
      "metadata": {
        "id": "OFIM2z3OvodQ",
        "colab_type": "code",
        "colab": {
          "base_uri": "https://localhost:8080/",
          "height": 71
        },
        "outputId": "3116b984-d64c-4f61-f69c-da82da81c166"
      },
      "source": [
        "# skip re-training the model with the next line:  \n",
        "model = gensim.models.Word2Vec.load('raw_gutenberg_model.w2v')\n",
        "\n"
      ],
      "execution_count": 19,
      "outputs": [
        {
          "output_type": "stream",
          "text": [
            "/usr/local/lib/python3.6/dist-packages/smart_open/smart_open_lib.py:253: UserWarning: This function is deprecated, use smart_open.open instead. See the migration notes for details: https://github.com/RaRe-Technologies/smart_open/blob/master/README.rst#migrating-to-the-new-open-function\n",
            "  'See the migration notes for details: %s' % _MIGRATION_NOTES_URL\n"
          ],
          "name": "stderr"
        }
      ]
    },
    {
      "cell_type": "code",
      "metadata": {
        "id": "KHVEi7q6vsqx",
        "colab_type": "code",
        "colab": {
          "base_uri": "https://localhost:8080/",
          "height": 306
        },
        "outputId": "3101fb81-a38b-4f44-f279-776aad825ad8"
      },
      "source": [
        "model.wv['dog']"
      ],
      "execution_count": 20,
      "outputs": [
        {
          "output_type": "execute_result",
          "data": {
            "text/plain": [
              "array([ 3.8860184e-01, -1.3514456e-01,  9.3909360e-02,  2.9134524e-01,\n",
              "        3.4199722e-02,  9.7620912e-02, -6.0048245e-02, -1.7240748e-01,\n",
              "       -5.4713517e-01,  5.1955181e-01, -5.3144950e-01,  2.6515886e-02,\n",
              "       -2.3254623e-01,  1.5099242e-01,  1.5213323e-01,  1.8493994e-01,\n",
              "       -1.3945773e-01, -3.5197276e-01, -1.3518563e-01, -5.8792078e-01,\n",
              "        1.7958093e-01, -3.5033777e-01,  2.8343424e-01, -1.3415277e-01,\n",
              "       -3.2894412e-01, -2.0980074e-01,  2.1197915e-01, -1.4676289e-01,\n",
              "       -3.7010437e-01, -4.8135701e-01, -3.9316875e-01, -2.1858032e-01,\n",
              "       -2.5742960e-01,  2.9314622e-02,  1.0151608e-01, -8.2955301e-01,\n",
              "       -3.3397490e-01,  7.5473614e-02, -1.6446263e-01,  1.8014897e-01,\n",
              "        9.7646676e-02, -3.8634649e-01, -3.6173075e-01,  1.1698970e-01,\n",
              "       -3.7834194e-01, -1.4834623e-01, -1.2280551e-01,  9.6468106e-03,\n",
              "        5.4638531e-02,  5.8814698e-01, -1.7105897e-01,  1.5666448e-01,\n",
              "       -3.8211527e-03, -4.8711514e-05, -6.3591234e-02, -3.2564472e-02,\n",
              "        8.1395251e-01,  8.7624110e-02,  5.8957379e-02, -1.3097793e-01,\n",
              "       -8.5136026e-02,  1.5311643e-01,  2.3555206e-01, -5.2187156e-02],\n",
              "      dtype=float32)"
            ]
          },
          "metadata": {
            "tags": []
          },
          "execution_count": 20
        }
      ]
    },
    {
      "cell_type": "code",
      "metadata": {
        "id": "kXaZBtGevtOA",
        "colab_type": "code",
        "colab": {
          "base_uri": "https://localhost:8080/",
          "height": 34
        },
        "outputId": "147602ca-9103-4e99-f9b2-53ecea6e6cfd"
      },
      "source": [
        "len(model.wv['dog'])"
      ],
      "execution_count": 21,
      "outputs": [
        {
          "output_type": "execute_result",
          "data": {
            "text/plain": [
              "64"
            ]
          },
          "metadata": {
            "tags": []
          },
          "execution_count": 21
        }
      ]
    },
    {
      "cell_type": "code",
      "metadata": {
        "id": "W92mqZFXvuco",
        "colab_type": "code",
        "colab": {
          "base_uri": "https://localhost:8080/",
          "height": 241
        },
        "outputId": "6fb7f5a6-8b16-49a0-c855-515936bf0026"
      },
      "source": [
        "model.wv.most_similar('dog') # distance"
      ],
      "execution_count": 22,
      "outputs": [
        {
          "output_type": "stream",
          "text": [
            "/usr/local/lib/python3.6/dist-packages/gensim/matutils.py:737: FutureWarning: Conversion of the second argument of issubdtype from `int` to `np.signedinteger` is deprecated. In future, it will be treated as `np.int64 == np.dtype(int).type`.\n",
            "  if np.issubdtype(vec.dtype, np.int):\n"
          ],
          "name": "stderr"
        },
        {
          "output_type": "execute_result",
          "data": {
            "text/plain": [
              "[('puppy', 0.8399801254272461),\n",
              " ('chimney', 0.7804919481277466),\n",
              " ('boy', 0.7711700797080994),\n",
              " ('broth', 0.7704296112060547),\n",
              " ('sweeper', 0.7677549123764038),\n",
              " ('kick', 0.7673530578613281),\n",
              " ('thief', 0.7639141082763672),\n",
              " ('cage', 0.7617539167404175),\n",
              " ('whip', 0.7564784288406372),\n",
              " ('cow', 0.7515280842781067)]"
            ]
          },
          "metadata": {
            "tags": []
          },
          "execution_count": 22
        }
      ]
    },
    {
      "cell_type": "code",
      "metadata": {
        "id": "BjKcyEqHvvcg",
        "colab_type": "code",
        "colab": {
          "base_uri": "https://localhost:8080/",
          "height": 241
        },
        "outputId": "4111a545-41a3-4cfb-f7c7-cf7111974e93"
      },
      "source": [
        "model.wv.most_similar('think')"
      ],
      "execution_count": 23,
      "outputs": [
        {
          "output_type": "stream",
          "text": [
            "/usr/local/lib/python3.6/dist-packages/gensim/matutils.py:737: FutureWarning: Conversion of the second argument of issubdtype from `int` to `np.signedinteger` is deprecated. In future, it will be treated as `np.int64 == np.dtype(int).type`.\n",
            "  if np.issubdtype(vec.dtype, np.int):\n"
          ],
          "name": "stderr"
        },
        {
          "output_type": "execute_result",
          "data": {
            "text/plain": [
              "[('manage', 0.8418099880218506),\n",
              " ('contradict', 0.8380868434906006),\n",
              " ('suppose', 0.836441159248352),\n",
              " ('believe', 0.8199832439422607),\n",
              " ('behave', 0.8155148029327393),\n",
              " ('know', 0.8114057779312134),\n",
              " ('Mamma', 0.8086732625961304),\n",
              " ('really', 0.8075456023216248),\n",
              " ('mean', 0.8071227073669434),\n",
              " ('guess', 0.8015608787536621)]"
            ]
          },
          "metadata": {
            "tags": []
          },
          "execution_count": 23
        }
      ]
    },
    {
      "cell_type": "code",
      "metadata": {
        "id": "gPLVuiYHvwRQ",
        "colab_type": "code",
        "colab": {
          "base_uri": "https://localhost:8080/",
          "height": 241
        },
        "outputId": "52a2ee24-94da-431e-df29-0662824d74fa"
      },
      "source": [
        "model.wv.most_similar('day')"
      ],
      "execution_count": 24,
      "outputs": [
        {
          "output_type": "stream",
          "text": [
            "/usr/local/lib/python3.6/dist-packages/gensim/matutils.py:737: FutureWarning: Conversion of the second argument of issubdtype from `int` to `np.signedinteger` is deprecated. In future, it will be treated as `np.int64 == np.dtype(int).type`.\n",
            "  if np.issubdtype(vec.dtype, np.int):\n"
          ],
          "name": "stderr"
        },
        {
          "output_type": "execute_result",
          "data": {
            "text/plain": [
              "[('morning', 0.778294026851654),\n",
              " ('time', 0.7724676728248596),\n",
              " ('night', 0.7368128895759583),\n",
              " ('month', 0.72005295753479),\n",
              " ('week', 0.693356990814209),\n",
              " ('Saturday', 0.6790335774421692),\n",
              " ('sabbath', 0.675177812576294),\n",
              " ('evening', 0.6677111387252808),\n",
              " ('Adar', 0.6607083082199097),\n",
              " ('fourteenth', 0.6517543792724609)]"
            ]
          },
          "metadata": {
            "tags": []
          },
          "execution_count": 24
        }
      ]
    },
    {
      "cell_type": "code",
      "metadata": {
        "id": "f2KiJLznvyvA",
        "colab_type": "code",
        "colab": {
          "base_uri": "https://localhost:8080/",
          "height": 241
        },
        "outputId": "aca6124d-286f-4914-a28e-98e39640e39f"
      },
      "source": [
        "model.wv.most_similar('father')"
      ],
      "execution_count": 25,
      "outputs": [
        {
          "output_type": "stream",
          "text": [
            "/usr/local/lib/python3.6/dist-packages/gensim/matutils.py:737: FutureWarning: Conversion of the second argument of issubdtype from `int` to `np.signedinteger` is deprecated. In future, it will be treated as `np.int64 == np.dtype(int).type`.\n",
            "  if np.issubdtype(vec.dtype, np.int):\n"
          ],
          "name": "stderr"
        },
        {
          "output_type": "execute_result",
          "data": {
            "text/plain": [
              "[('mother', 0.8628281950950623),\n",
              " ('brother', 0.8480645418167114),\n",
              " ('sister', 0.8077663779258728),\n",
              " ('daughter', 0.7768992185592651),\n",
              " ('wife', 0.7691270112991333),\n",
              " ('Amnon', 0.7391806244850159),\n",
              " ('uncle', 0.7216702103614807),\n",
              " ('younger', 0.7145200967788696),\n",
              " ('servant', 0.713840126991272),\n",
              " ('Tamar', 0.709930419921875)]"
            ]
          },
          "metadata": {
            "tags": []
          },
          "execution_count": 25
        }
      ]
    },
    {
      "cell_type": "code",
      "metadata": {
        "id": "u7PnrKRTvzjP",
        "colab_type": "code",
        "colab": {
          "base_uri": "https://localhost:8080/",
          "height": 123
        },
        "outputId": "a2714ad7-4d9c-43f8-c9da-b7de552e92da"
      },
      "source": [
        "model.wv.doesnt_match(\"mother father daughter dog\".split())"
      ],
      "execution_count": 26,
      "outputs": [
        {
          "output_type": "stream",
          "text": [
            "/usr/local/lib/python3.6/dist-packages/gensim/models/keyedvectors.py:895: FutureWarning: arrays to stack must be passed as a \"sequence\" type such as list or tuple. Support for non-sequence iterables such as generators is deprecated as of NumPy 1.16 and will raise an error in the future.\n",
            "  vectors = vstack(self.word_vec(word, use_norm=True) for word in used_words).astype(REAL)\n",
            "/usr/local/lib/python3.6/dist-packages/gensim/matutils.py:737: FutureWarning: Conversion of the second argument of issubdtype from `int` to `np.signedinteger` is deprecated. In future, it will be treated as `np.int64 == np.dtype(int).type`.\n",
            "  if np.issubdtype(vec.dtype, np.int):\n"
          ],
          "name": "stderr"
        },
        {
          "output_type": "execute_result",
          "data": {
            "application/vnd.google.colaboratory.intrinsic": {
              "type": "string"
            },
            "text/plain": [
              "'dog'"
            ]
          },
          "metadata": {
            "tags": []
          },
          "execution_count": 26
        }
      ]
    },
    {
      "cell_type": "code",
      "metadata": {
        "id": "wzRDB9uGv0xB",
        "colab_type": "code",
        "colab": {
          "base_uri": "https://localhost:8080/",
          "height": 88
        },
        "outputId": "b6f6b48c-7575-4876-c1aa-8dbcf77692c8"
      },
      "source": [
        "model.wv.similarity('father', 'dog')"
      ],
      "execution_count": 27,
      "outputs": [
        {
          "output_type": "stream",
          "text": [
            "/usr/local/lib/python3.6/dist-packages/gensim/matutils.py:737: FutureWarning: Conversion of the second argument of issubdtype from `int` to `np.signedinteger` is deprecated. In future, it will be treated as `np.int64 == np.dtype(int).type`.\n",
            "  if np.issubdtype(vec.dtype, np.int):\n"
          ],
          "name": "stderr"
        },
        {
          "output_type": "execute_result",
          "data": {
            "text/plain": [
              "0.46994475"
            ]
          },
          "metadata": {
            "tags": []
          },
          "execution_count": 27
        }
      ]
    },
    {
      "cell_type": "code",
      "metadata": {
        "id": "FgxNdYldv2i_",
        "colab_type": "code",
        "colab": {
          "base_uri": "https://localhost:8080/",
          "height": 241
        },
        "outputId": "1357a363-728b-40f2-f67c-a8fabbdd0d13"
      },
      "source": [
        "# close, but not quite; distinctly in female direction: \n",
        "model.wv.most_similar(positive=['father', 'woman'], negative=['man'])"
      ],
      "execution_count": 28,
      "outputs": [
        {
          "output_type": "stream",
          "text": [
            "/usr/local/lib/python3.6/dist-packages/gensim/matutils.py:737: FutureWarning: Conversion of the second argument of issubdtype from `int` to `np.signedinteger` is deprecated. In future, it will be treated as `np.int64 == np.dtype(int).type`.\n",
            "  if np.issubdtype(vec.dtype, np.int):\n"
          ],
          "name": "stderr"
        },
        {
          "output_type": "execute_result",
          "data": {
            "text/plain": [
              "[('mother', 0.7833986282348633),\n",
              " ('daughter', 0.7813690900802612),\n",
              " ('husband', 0.7790541648864746),\n",
              " ('sister', 0.7786932587623596),\n",
              " ('wife', 0.7725012898445129),\n",
              " ('brother', 0.7363234758377075),\n",
              " ('daughters', 0.7005206346511841),\n",
              " ('Rachel', 0.6896263360977173),\n",
              " ('Sarai', 0.6845165491104126),\n",
              " ('Sarah', 0.6740219593048096)]"
            ]
          },
          "metadata": {
            "tags": []
          },
          "execution_count": 28
        }
      ]
    },
    {
      "cell_type": "code",
      "metadata": {
        "id": "RcT8tY3Zv3s4",
        "colab_type": "code",
        "colab": {
          "base_uri": "https://localhost:8080/",
          "height": 241
        },
        "outputId": "196340cc-836a-4a03-84a2-5ba039aadd81"
      },
      "source": [
        "# more confident about this one: \n",
        "model.wv.most_similar(positive=['son', 'woman'], negative=['man'])"
      ],
      "execution_count": 29,
      "outputs": [
        {
          "output_type": "stream",
          "text": [
            "/usr/local/lib/python3.6/dist-packages/gensim/matutils.py:737: FutureWarning: Conversion of the second argument of issubdtype from `int` to `np.signedinteger` is deprecated. In future, it will be treated as `np.int64 == np.dtype(int).type`.\n",
            "  if np.issubdtype(vec.dtype, np.int):\n"
          ],
          "name": "stderr"
        },
        {
          "output_type": "execute_result",
          "data": {
            "text/plain": [
              "[('daughter', 0.7486582398414612),\n",
              " ('wife', 0.7452919483184814),\n",
              " ('Sarai', 0.7249553203582764),\n",
              " ('Leah', 0.718904972076416),\n",
              " ('Sarah', 0.7184145450592041),\n",
              " ('Hagar', 0.7135589718818665),\n",
              " ('Bethuel', 0.7135344743728638),\n",
              " ('Abram', 0.7004900574684143),\n",
              " ('Jephunneh', 0.6973567605018616),\n",
              " ('Bilhah', 0.6933270692825317)]"
            ]
          },
          "metadata": {
            "tags": []
          },
          "execution_count": 29
        }
      ]
    },
    {
      "cell_type": "code",
      "metadata": {
        "id": "3q1aNQfQv5Nw",
        "colab_type": "code",
        "colab": {
          "base_uri": "https://localhost:8080/",
          "height": 241
        },
        "outputId": "f25bf592-1fe5-4d03-90ba-5d245ae25e0e"
      },
      "source": [
        "model.wv.most_similar(positive=['husband', 'woman'], negative=['man'])"
      ],
      "execution_count": 30,
      "outputs": [
        {
          "output_type": "stream",
          "text": [
            "/usr/local/lib/python3.6/dist-packages/gensim/matutils.py:737: FutureWarning: Conversion of the second argument of issubdtype from `int` to `np.signedinteger` is deprecated. In future, it will be treated as `np.int64 == np.dtype(int).type`.\n",
            "  if np.issubdtype(vec.dtype, np.int):\n"
          ],
          "name": "stderr"
        },
        {
          "output_type": "execute_result",
          "data": {
            "text/plain": [
              "[('wife', 0.7276437282562256),\n",
              " ('sister', 0.6854567527770996),\n",
              " ('daughter', 0.6776511669158936),\n",
              " ('mother', 0.6615833044052124),\n",
              " ('widow', 0.6540002822875977),\n",
              " ('child', 0.6526877880096436),\n",
              " ('conceived', 0.6513186693191528),\n",
              " ('maid', 0.6462736129760742),\n",
              " ('Rachel', 0.619889497756958),\n",
              " ('nurse', 0.6193939447402954)]"
            ]
          },
          "metadata": {
            "tags": []
          },
          "execution_count": 30
        }
      ]
    },
    {
      "cell_type": "code",
      "metadata": {
        "id": "BhwdfB71v6k4",
        "colab_type": "code",
        "colab": {
          "base_uri": "https://localhost:8080/",
          "height": 581
        },
        "outputId": "d60386e4-a143-4e0a-ab53-3a29b72a1e70"
      },
      "source": [
        "model.wv.most_similar(positive=['king', 'woman'], negative=['man'], topn=30)"
      ],
      "execution_count": 31,
      "outputs": [
        {
          "output_type": "stream",
          "text": [
            "/usr/local/lib/python3.6/dist-packages/gensim/matutils.py:737: FutureWarning: Conversion of the second argument of issubdtype from `int` to `np.signedinteger` is deprecated. In future, it will be treated as `np.int64 == np.dtype(int).type`.\n",
            "  if np.issubdtype(vec.dtype, np.int):\n"
          ],
          "name": "stderr"
        },
        {
          "output_type": "execute_result",
          "data": {
            "text/plain": [
              "[('Sarah', 0.7277158498764038),\n",
              " ('Rachel', 0.7238438725471497),\n",
              " ('Abram', 0.7036274671554565),\n",
              " ('Leah', 0.692919135093689),\n",
              " ('Sarai', 0.6917165517807007),\n",
              " ('Babylon', 0.687897264957428),\n",
              " ('David', 0.6863441467285156),\n",
              " ('Judah', 0.6834956407546997),\n",
              " ('Bethuel', 0.6801999807357788),\n",
              " ('daughter', 0.6733150482177734),\n",
              " ('Hagar', 0.6710746884346008),\n",
              " ('Padanaram', 0.6705467700958252),\n",
              " ('Laban', 0.6703552007675171),\n",
              " ('Pharaoh', 0.659987211227417),\n",
              " ('Jerusalem', 0.6561363935470581),\n",
              " ('Rebekah', 0.6541107892990112),\n",
              " ('Rahab', 0.6522243022918701),\n",
              " ('Bilhah', 0.6510846614837646),\n",
              " ('magicians', 0.6491096615791321),\n",
              " ('Ephron', 0.6475814580917358),\n",
              " ('Hanun', 0.6469735503196716),\n",
              " ('tribute', 0.6447017192840576),\n",
              " ('queen', 0.6439679265022278),\n",
              " ('Solomon', 0.6430158615112305),\n",
              " ('Lot', 0.6419060230255127),\n",
              " ('Onan', 0.6415507197380066),\n",
              " ('damsel', 0.6407134532928467),\n",
              " ('Jerubbaal', 0.6405037641525269),\n",
              " ('Zilpah', 0.6399076581001282),\n",
              " ('Cain', 0.6363469362258911)]"
            ]
          },
          "metadata": {
            "tags": []
          },
          "execution_count": 31
        }
      ]
    },
    {
      "cell_type": "markdown",
      "metadata": {
        "id": "KyDbERrZv-_3",
        "colab_type": "text"
      },
      "source": [
        "### Reduce word vector dimensionality with t-SNE"
      ]
    },
    {
      "cell_type": "code",
      "metadata": {
        "id": "2hQ4qZ43wCJ2",
        "colab_type": "code",
        "colab": {
          "base_uri": "https://localhost:8080/",
          "height": 34
        },
        "outputId": "afc51392-9d2d-4c5b-cabe-e3e7cbc20bf0"
      },
      "source": [
        "len(model.wv.vocab)"
      ],
      "execution_count": 32,
      "outputs": [
        {
          "output_type": "execute_result",
          "data": {
            "text/plain": [
              "17011"
            ]
          },
          "metadata": {
            "tags": []
          },
          "execution_count": 32
        }
      ]
    },
    {
      "cell_type": "code",
      "metadata": {
        "id": "evXOwjjjwHVh",
        "colab_type": "code",
        "colab": {}
      },
      "source": [
        "X = model.wv[model.wv.vocab]\n",
        "tsne = TSNE(n_components=2, n_iter=1000) # 200 is minimum iter; default is 1000\n",
        "X_2d = tsne.fit_transform(X)"
      ],
      "execution_count": 33,
      "outputs": []
    },
    {
      "cell_type": "code",
      "metadata": {
        "id": "54BQFE9zwN9f",
        "colab_type": "code",
        "colab": {
          "base_uri": "https://localhost:8080/",
          "height": 102
        },
        "outputId": "648bb314-8414-4ab4-a219-942c5e940bd2"
      },
      "source": [
        "X_2d[0:5]"
      ],
      "execution_count": 34,
      "outputs": [
        {
          "output_type": "execute_result",
          "data": {
            "text/plain": [
              "array([[ 26.159676 ,  48.444515 ],\n",
              "       [ 61.802086 ,  -5.59553  ],\n",
              "       [ 12.030325 , -30.90867  ],\n",
              "       [ 62.730694 ,  -7.9478903],\n",
              "       [ 26.197147 ,  48.381195 ]], dtype=float32)"
            ]
          },
          "metadata": {
            "tags": []
          },
          "execution_count": 34
        }
      ]
    },
    {
      "cell_type": "code",
      "metadata": {
        "id": "MoOuSDBAwOSf",
        "colab_type": "code",
        "colab": {}
      },
      "source": [
        "# create DataFrame for storing results and plotting\n",
        "coords_df = pd.DataFrame(X_2d, columns=['x','y'])\n",
        "coords_df['token'] = model.wv.vocab.keys()"
      ],
      "execution_count": 35,
      "outputs": []
    },
    {
      "cell_type": "code",
      "metadata": {
        "id": "oM36RBkCwPgH",
        "colab_type": "code",
        "colab": {
          "base_uri": "https://localhost:8080/",
          "height": 204
        },
        "outputId": "67e7b604-93f7-4d37-c550-2709c6489648"
      },
      "source": [
        "coords_df.head()"
      ],
      "execution_count": 36,
      "outputs": [
        {
          "output_type": "execute_result",
          "data": {
            "text/html": [
              "<div>\n",
              "<style scoped>\n",
              "    .dataframe tbody tr th:only-of-type {\n",
              "        vertical-align: middle;\n",
              "    }\n",
              "\n",
              "    .dataframe tbody tr th {\n",
              "        vertical-align: top;\n",
              "    }\n",
              "\n",
              "    .dataframe thead th {\n",
              "        text-align: right;\n",
              "    }\n",
              "</style>\n",
              "<table border=\"1\" class=\"dataframe\">\n",
              "  <thead>\n",
              "    <tr style=\"text-align: right;\">\n",
              "      <th></th>\n",
              "      <th>x</th>\n",
              "      <th>y</th>\n",
              "      <th>token</th>\n",
              "    </tr>\n",
              "  </thead>\n",
              "  <tbody>\n",
              "    <tr>\n",
              "      <th>0</th>\n",
              "      <td>26.159676</td>\n",
              "      <td>48.444515</td>\n",
              "      <td>[</td>\n",
              "    </tr>\n",
              "    <tr>\n",
              "      <th>1</th>\n",
              "      <td>61.802086</td>\n",
              "      <td>-5.595530</td>\n",
              "      <td>Emma</td>\n",
              "    </tr>\n",
              "    <tr>\n",
              "      <th>2</th>\n",
              "      <td>12.030325</td>\n",
              "      <td>-30.908670</td>\n",
              "      <td>by</td>\n",
              "    </tr>\n",
              "    <tr>\n",
              "      <th>3</th>\n",
              "      <td>62.730694</td>\n",
              "      <td>-7.947890</td>\n",
              "      <td>Jane</td>\n",
              "    </tr>\n",
              "    <tr>\n",
              "      <th>4</th>\n",
              "      <td>26.197147</td>\n",
              "      <td>48.381195</td>\n",
              "      <td>]</td>\n",
              "    </tr>\n",
              "  </tbody>\n",
              "</table>\n",
              "</div>"
            ],
            "text/plain": [
              "           x          y token\n",
              "0  26.159676  48.444515     [\n",
              "1  61.802086  -5.595530  Emma\n",
              "2  12.030325 -30.908670    by\n",
              "3  62.730694  -7.947890  Jane\n",
              "4  26.197147  48.381195     ]"
            ]
          },
          "metadata": {
            "tags": []
          },
          "execution_count": 36
        }
      ]
    },
    {
      "cell_type": "code",
      "metadata": {
        "id": "N51-iwjWwQUP",
        "colab_type": "code",
        "colab": {}
      },
      "source": [
        "coords_df.to_csv('raw_gutenberg_tsne.csv', index=False) #save"
      ],
      "execution_count": 37,
      "outputs": []
    },
    {
      "cell_type": "markdown",
      "metadata": {
        "id": "h4SJosBswVCt",
        "colab_type": "text"
      },
      "source": [
        "### Visualize 2D Representation"
      ]
    },
    {
      "cell_type": "code",
      "metadata": {
        "id": "vd9aB9BpwTan",
        "colab_type": "code",
        "colab": {}
      },
      "source": [
        "coords_df = pd.read_csv('raw_gutenberg_tsne.csv')"
      ],
      "execution_count": 38,
      "outputs": []
    },
    {
      "cell_type": "code",
      "metadata": {
        "id": "6h5nDqJrwYT_",
        "colab_type": "code",
        "colab": {}
      },
      "source": [
        "output_notebook() # output bokeh plots inline in notebook"
      ],
      "execution_count": 39,
      "outputs": []
    },
    {
      "cell_type": "code",
      "metadata": {
        "id": "JtJl41hOwbDA",
        "colab_type": "code",
        "colab": {}
      },
      "source": [
        "subset_df = coords_df.sample(n=200)"
      ],
      "execution_count": 43,
      "outputs": []
    },
    {
      "cell_type": "code",
      "metadata": {
        "id": "3lYhUzzNwbYo",
        "colab_type": "code",
        "colab": {}
      },
      "source": [
        "p = figure(plot_width=800, plot_height=800)\n",
        "_ = p.text(x=subset_df.x, y=subset_df.y, text=subset_df.token)"
      ],
      "execution_count": 44,
      "outputs": []
    },
    {
      "cell_type": "code",
      "metadata": {
        "id": "MLKACyj1wc0X",
        "colab_type": "code",
        "colab": {
          "base_uri": "https://localhost:8080/",
          "height": 817
        },
        "outputId": "683bbfd0-26bb-4c76-c705-15071b8849df"
      },
      "source": [
        "show(p)"
      ],
      "execution_count": 45,
      "outputs": [
        {
          "output_type": "display_data",
          "data": {
            "application/javascript": [
              "\n",
              "(function(root) {\n",
              "  function now() {\n",
              "    return new Date();\n",
              "  }\n",
              "\n",
              "  var force = true;\n",
              "\n",
              "  if (typeof root._bokeh_onload_callbacks === \"undefined\" || force === true) {\n",
              "    root._bokeh_onload_callbacks = [];\n",
              "    root._bokeh_is_loading = undefined;\n",
              "  }\n",
              "\n",
              "  var JS_MIME_TYPE = 'application/javascript';\n",
              "  var HTML_MIME_TYPE = 'text/html';\n",
              "  var EXEC_MIME_TYPE = 'application/vnd.bokehjs_exec.v0+json';\n",
              "  var CLASS_NAME = 'output_bokeh rendered_html';\n",
              "\n",
              "  /**\n",
              "   * Render data to the DOM node\n",
              "   */\n",
              "  function render(props, node) {\n",
              "    var script = document.createElement(\"script\");\n",
              "    node.appendChild(script);\n",
              "  }\n",
              "\n",
              "  /**\n",
              "   * Handle when an output is cleared or removed\n",
              "   */\n",
              "  function handleClearOutput(event, handle) {\n",
              "    var cell = handle.cell;\n",
              "\n",
              "    var id = cell.output_area._bokeh_element_id;\n",
              "    var server_id = cell.output_area._bokeh_server_id;\n",
              "    // Clean up Bokeh references\n",
              "    if (id != null && id in Bokeh.index) {\n",
              "      Bokeh.index[id].model.document.clear();\n",
              "      delete Bokeh.index[id];\n",
              "    }\n",
              "\n",
              "    if (server_id !== undefined) {\n",
              "      // Clean up Bokeh references\n",
              "      var cmd = \"from bokeh.io.state import curstate; print(curstate().uuid_to_server['\" + server_id + \"'].get_sessions()[0].document.roots[0]._id)\";\n",
              "      cell.notebook.kernel.execute(cmd, {\n",
              "        iopub: {\n",
              "          output: function(msg) {\n",
              "            var id = msg.content.text.trim();\n",
              "            if (id in Bokeh.index) {\n",
              "              Bokeh.index[id].model.document.clear();\n",
              "              delete Bokeh.index[id];\n",
              "            }\n",
              "          }\n",
              "        }\n",
              "      });\n",
              "      // Destroy server and session\n",
              "      var cmd = \"import bokeh.io.notebook as ion; ion.destroy_server('\" + server_id + \"')\";\n",
              "      cell.notebook.kernel.execute(cmd);\n",
              "    }\n",
              "  }\n",
              "\n",
              "  /**\n",
              "   * Handle when a new output is added\n",
              "   */\n",
              "  function handleAddOutput(event, handle) {\n",
              "    var output_area = handle.output_area;\n",
              "    var output = handle.output;\n",
              "\n",
              "    // limit handleAddOutput to display_data with EXEC_MIME_TYPE content only\n",
              "    if ((output.output_type != \"display_data\") || (!output.data.hasOwnProperty(EXEC_MIME_TYPE))) {\n",
              "      return\n",
              "    }\n",
              "\n",
              "    var toinsert = output_area.element.find(\".\" + CLASS_NAME.split(' ')[0]);\n",
              "\n",
              "    if (output.metadata[EXEC_MIME_TYPE][\"id\"] !== undefined) {\n",
              "      toinsert[toinsert.length - 1].firstChild.textContent = output.data[JS_MIME_TYPE];\n",
              "      // store reference to embed id on output_area\n",
              "      output_area._bokeh_element_id = output.metadata[EXEC_MIME_TYPE][\"id\"];\n",
              "    }\n",
              "    if (output.metadata[EXEC_MIME_TYPE][\"server_id\"] !== undefined) {\n",
              "      var bk_div = document.createElement(\"div\");\n",
              "      bk_div.innerHTML = output.data[HTML_MIME_TYPE];\n",
              "      var script_attrs = bk_div.children[0].attributes;\n",
              "      for (var i = 0; i < script_attrs.length; i++) {\n",
              "        toinsert[toinsert.length - 1].firstChild.setAttribute(script_attrs[i].name, script_attrs[i].value);\n",
              "      }\n",
              "      // store reference to server id on output_area\n",
              "      output_area._bokeh_server_id = output.metadata[EXEC_MIME_TYPE][\"server_id\"];\n",
              "    }\n",
              "  }\n",
              "\n",
              "  function register_renderer(events, OutputArea) {\n",
              "\n",
              "    function append_mime(data, metadata, element) {\n",
              "      // create a DOM node to render to\n",
              "      var toinsert = this.create_output_subarea(\n",
              "        metadata,\n",
              "        CLASS_NAME,\n",
              "        EXEC_MIME_TYPE\n",
              "      );\n",
              "      this.keyboard_manager.register_events(toinsert);\n",
              "      // Render to node\n",
              "      var props = {data: data, metadata: metadata[EXEC_MIME_TYPE]};\n",
              "      render(props, toinsert[toinsert.length - 1]);\n",
              "      element.append(toinsert);\n",
              "      return toinsert\n",
              "    }\n",
              "\n",
              "    /* Handle when an output is cleared or removed */\n",
              "    events.on('clear_output.CodeCell', handleClearOutput);\n",
              "    events.on('delete.Cell', handleClearOutput);\n",
              "\n",
              "    /* Handle when a new output is added */\n",
              "    events.on('output_added.OutputArea', handleAddOutput);\n",
              "\n",
              "    /**\n",
              "     * Register the mime type and append_mime function with output_area\n",
              "     */\n",
              "    OutputArea.prototype.register_mime_type(EXEC_MIME_TYPE, append_mime, {\n",
              "      /* Is output safe? */\n",
              "      safe: true,\n",
              "      /* Index of renderer in `output_area.display_order` */\n",
              "      index: 0\n",
              "    });\n",
              "  }\n",
              "\n",
              "  // register the mime type if in Jupyter Notebook environment and previously unregistered\n",
              "  if (root.Jupyter !== undefined) {\n",
              "    var events = require('base/js/events');\n",
              "    var OutputArea = require('notebook/js/outputarea').OutputArea;\n",
              "\n",
              "    if (OutputArea.prototype.mime_types().indexOf(EXEC_MIME_TYPE) == -1) {\n",
              "      register_renderer(events, OutputArea);\n",
              "    }\n",
              "  }\n",
              "\n",
              "  \n",
              "  if (typeof (root._bokeh_timeout) === \"undefined\" || force === true) {\n",
              "    root._bokeh_timeout = Date.now() + 5000;\n",
              "    root._bokeh_failed_load = false;\n",
              "  }\n",
              "\n",
              "  var NB_LOAD_WARNING = {'data': {'text/html':\n",
              "     \"<div style='background-color: #fdd'>\\n\"+\n",
              "     \"<p>\\n\"+\n",
              "     \"BokehJS does not appear to have successfully loaded. If loading BokehJS from CDN, this \\n\"+\n",
              "     \"may be due to a slow or bad network connection. Possible fixes:\\n\"+\n",
              "     \"</p>\\n\"+\n",
              "     \"<ul>\\n\"+\n",
              "     \"<li>re-rerun `output_notebook()` to attempt to load from CDN again, or</li>\\n\"+\n",
              "     \"<li>use INLINE resources instead, as so:</li>\\n\"+\n",
              "     \"</ul>\\n\"+\n",
              "     \"<code>\\n\"+\n",
              "     \"from bokeh.resources import INLINE\\n\"+\n",
              "     \"output_notebook(resources=INLINE)\\n\"+\n",
              "     \"</code>\\n\"+\n",
              "     \"</div>\"}};\n",
              "\n",
              "  function display_loaded() {\n",
              "    var el = document.getElementById(null);\n",
              "    if (el != null) {\n",
              "      el.textContent = \"BokehJS is loading...\";\n",
              "    }\n",
              "    if (root.Bokeh !== undefined) {\n",
              "      if (el != null) {\n",
              "        el.textContent = \"BokehJS \" + root.Bokeh.version + \" successfully loaded.\";\n",
              "      }\n",
              "    } else if (Date.now() < root._bokeh_timeout) {\n",
              "      setTimeout(display_loaded, 100)\n",
              "    }\n",
              "  }\n",
              "\n",
              "\n",
              "  function run_callbacks() {\n",
              "    try {\n",
              "      root._bokeh_onload_callbacks.forEach(function(callback) {\n",
              "        if (callback != null)\n",
              "          callback();\n",
              "      });\n",
              "    } finally {\n",
              "      delete root._bokeh_onload_callbacks\n",
              "    }\n",
              "    console.debug(\"Bokeh: all callbacks have finished\");\n",
              "  }\n",
              "\n",
              "  function load_libs(css_urls, js_urls, callback) {\n",
              "    if (css_urls == null) css_urls = [];\n",
              "    if (js_urls == null) js_urls = [];\n",
              "\n",
              "    root._bokeh_onload_callbacks.push(callback);\n",
              "    if (root._bokeh_is_loading > 0) {\n",
              "      console.debug(\"Bokeh: BokehJS is being loaded, scheduling callback at\", now());\n",
              "      return null;\n",
              "    }\n",
              "    if (js_urls == null || js_urls.length === 0) {\n",
              "      run_callbacks();\n",
              "      return null;\n",
              "    }\n",
              "    console.debug(\"Bokeh: BokehJS not loaded, scheduling load and callback at\", now());\n",
              "    root._bokeh_is_loading = css_urls.length + js_urls.length;\n",
              "\n",
              "    function on_load() {\n",
              "      root._bokeh_is_loading--;\n",
              "      if (root._bokeh_is_loading === 0) {\n",
              "        console.debug(\"Bokeh: all BokehJS libraries/stylesheets loaded\");\n",
              "        run_callbacks()\n",
              "      }\n",
              "    }\n",
              "\n",
              "    function on_error() {\n",
              "      console.error(\"failed to load \" + url);\n",
              "    }\n",
              "\n",
              "    for (var i = 0; i < css_urls.length; i++) {\n",
              "      var url = css_urls[i];\n",
              "      const element = document.createElement(\"link\");\n",
              "      element.onload = on_load;\n",
              "      element.onerror = on_error;\n",
              "      element.rel = \"stylesheet\";\n",
              "      element.type = \"text/css\";\n",
              "      element.href = url;\n",
              "      console.debug(\"Bokeh: injecting link tag for BokehJS stylesheet: \", url);\n",
              "      document.body.appendChild(element);\n",
              "    }\n",
              "\n",
              "    for (var i = 0; i < js_urls.length; i++) {\n",
              "      var url = js_urls[i];\n",
              "      var element = document.createElement('script');\n",
              "      element.onload = on_load;\n",
              "      element.onerror = on_error;\n",
              "      element.async = false;\n",
              "      element.src = url;\n",
              "      console.debug(\"Bokeh: injecting script tag for BokehJS library: \", url);\n",
              "      document.head.appendChild(element);\n",
              "    }\n",
              "  };\n",
              "\n",
              "  function inject_raw_css(css) {\n",
              "    const element = document.createElement(\"style\");\n",
              "    element.appendChild(document.createTextNode(css));\n",
              "    document.body.appendChild(element);\n",
              "  }\n",
              "\n",
              "  \n",
              "  var js_urls = [\"https://cdn.pydata.org/bokeh/release/bokeh-1.4.0.min.js\", \"https://cdn.pydata.org/bokeh/release/bokeh-widgets-1.4.0.min.js\", \"https://cdn.pydata.org/bokeh/release/bokeh-tables-1.4.0.min.js\", \"https://cdn.pydata.org/bokeh/release/bokeh-gl-1.4.0.min.js\"];\n",
              "  var css_urls = [];\n",
              "  \n",
              "\n",
              "  var inline_js = [\n",
              "    function(Bokeh) {\n",
              "      Bokeh.set_log_level(\"info\");\n",
              "    },\n",
              "    function(Bokeh) {\n",
              "    \n",
              "    \n",
              "    }\n",
              "  ];\n",
              "\n",
              "  function run_inline_js() {\n",
              "    \n",
              "    if (root.Bokeh !== undefined || force === true) {\n",
              "      \n",
              "    for (var i = 0; i < inline_js.length; i++) {\n",
              "      inline_js[i].call(root, root.Bokeh);\n",
              "    }\n",
              "    } else if (Date.now() < root._bokeh_timeout) {\n",
              "      setTimeout(run_inline_js, 100);\n",
              "    } else if (!root._bokeh_failed_load) {\n",
              "      console.log(\"Bokeh: BokehJS failed to load within specified timeout.\");\n",
              "      root._bokeh_failed_load = true;\n",
              "    } else if (force !== true) {\n",
              "      var cell = $(document.getElementById(null)).parents('.cell').data().cell;\n",
              "      cell.output_area.append_execute_result(NB_LOAD_WARNING)\n",
              "    }\n",
              "\n",
              "  }\n",
              "\n",
              "  if (root._bokeh_is_loading === 0) {\n",
              "    console.debug(\"Bokeh: BokehJS loaded, going straight to plotting\");\n",
              "    run_inline_js();\n",
              "  } else {\n",
              "    load_libs(css_urls, js_urls, function() {\n",
              "      console.debug(\"Bokeh: BokehJS plotting callback run at\", now());\n",
              "      run_inline_js();\n",
              "    });\n",
              "  }\n",
              "}(window));"
            ],
            "application/vnd.bokehjs_load.v0+json": "\n(function(root) {\n  function now() {\n    return new Date();\n  }\n\n  var force = true;\n\n  if (typeof root._bokeh_onload_callbacks === \"undefined\" || force === true) {\n    root._bokeh_onload_callbacks = [];\n    root._bokeh_is_loading = undefined;\n  }\n\n  \n\n  \n  if (typeof (root._bokeh_timeout) === \"undefined\" || force === true) {\n    root._bokeh_timeout = Date.now() + 5000;\n    root._bokeh_failed_load = false;\n  }\n\n  var NB_LOAD_WARNING = {'data': {'text/html':\n     \"<div style='background-color: #fdd'>\\n\"+\n     \"<p>\\n\"+\n     \"BokehJS does not appear to have successfully loaded. If loading BokehJS from CDN, this \\n\"+\n     \"may be due to a slow or bad network connection. Possible fixes:\\n\"+\n     \"</p>\\n\"+\n     \"<ul>\\n\"+\n     \"<li>re-rerun `output_notebook()` to attempt to load from CDN again, or</li>\\n\"+\n     \"<li>use INLINE resources instead, as so:</li>\\n\"+\n     \"</ul>\\n\"+\n     \"<code>\\n\"+\n     \"from bokeh.resources import INLINE\\n\"+\n     \"output_notebook(resources=INLINE)\\n\"+\n     \"</code>\\n\"+\n     \"</div>\"}};\n\n  function display_loaded() {\n    var el = document.getElementById(null);\n    if (el != null) {\n      el.textContent = \"BokehJS is loading...\";\n    }\n    if (root.Bokeh !== undefined) {\n      if (el != null) {\n        el.textContent = \"BokehJS \" + root.Bokeh.version + \" successfully loaded.\";\n      }\n    } else if (Date.now() < root._bokeh_timeout) {\n      setTimeout(display_loaded, 100)\n    }\n  }\n\n\n  function run_callbacks() {\n    try {\n      root._bokeh_onload_callbacks.forEach(function(callback) {\n        if (callback != null)\n          callback();\n      });\n    } finally {\n      delete root._bokeh_onload_callbacks\n    }\n    console.debug(\"Bokeh: all callbacks have finished\");\n  }\n\n  function load_libs(css_urls, js_urls, callback) {\n    if (css_urls == null) css_urls = [];\n    if (js_urls == null) js_urls = [];\n\n    root._bokeh_onload_callbacks.push(callback);\n    if (root._bokeh_is_loading > 0) {\n      console.debug(\"Bokeh: BokehJS is being loaded, scheduling callback at\", now());\n      return null;\n    }\n    if (js_urls == null || js_urls.length === 0) {\n      run_callbacks();\n      return null;\n    }\n    console.debug(\"Bokeh: BokehJS not loaded, scheduling load and callback at\", now());\n    root._bokeh_is_loading = css_urls.length + js_urls.length;\n\n    function on_load() {\n      root._bokeh_is_loading--;\n      if (root._bokeh_is_loading === 0) {\n        console.debug(\"Bokeh: all BokehJS libraries/stylesheets loaded\");\n        run_callbacks()\n      }\n    }\n\n    function on_error() {\n      console.error(\"failed to load \" + url);\n    }\n\n    for (var i = 0; i < css_urls.length; i++) {\n      var url = css_urls[i];\n      const element = document.createElement(\"link\");\n      element.onload = on_load;\n      element.onerror = on_error;\n      element.rel = \"stylesheet\";\n      element.type = \"text/css\";\n      element.href = url;\n      console.debug(\"Bokeh: injecting link tag for BokehJS stylesheet: \", url);\n      document.body.appendChild(element);\n    }\n\n    for (var i = 0; i < js_urls.length; i++) {\n      var url = js_urls[i];\n      var element = document.createElement('script');\n      element.onload = on_load;\n      element.onerror = on_error;\n      element.async = false;\n      element.src = url;\n      console.debug(\"Bokeh: injecting script tag for BokehJS library: \", url);\n      document.head.appendChild(element);\n    }\n  };\n\n  function inject_raw_css(css) {\n    const element = document.createElement(\"style\");\n    element.appendChild(document.createTextNode(css));\n    document.body.appendChild(element);\n  }\n\n  \n  var js_urls = [\"https://cdn.pydata.org/bokeh/release/bokeh-1.4.0.min.js\", \"https://cdn.pydata.org/bokeh/release/bokeh-widgets-1.4.0.min.js\", \"https://cdn.pydata.org/bokeh/release/bokeh-tables-1.4.0.min.js\", \"https://cdn.pydata.org/bokeh/release/bokeh-gl-1.4.0.min.js\"];\n  var css_urls = [];\n  \n\n  var inline_js = [\n    function(Bokeh) {\n      Bokeh.set_log_level(\"info\");\n    },\n    function(Bokeh) {\n    \n    \n    }\n  ];\n\n  function run_inline_js() {\n    \n    if (root.Bokeh !== undefined || force === true) {\n      \n    for (var i = 0; i < inline_js.length; i++) {\n      inline_js[i].call(root, root.Bokeh);\n    }\n    } else if (Date.now() < root._bokeh_timeout) {\n      setTimeout(run_inline_js, 100);\n    } else if (!root._bokeh_failed_load) {\n      console.log(\"Bokeh: BokehJS failed to load within specified timeout.\");\n      root._bokeh_failed_load = true;\n    } else if (force !== true) {\n      var cell = $(document.getElementById(null)).parents('.cell').data().cell;\n      cell.output_area.append_execute_result(NB_LOAD_WARNING)\n    }\n\n  }\n\n  if (root._bokeh_is_loading === 0) {\n    console.debug(\"Bokeh: BokehJS loaded, going straight to plotting\");\n    run_inline_js();\n  } else {\n    load_libs(css_urls, js_urls, function() {\n      console.debug(\"Bokeh: BokehJS plotting callback run at\", now());\n      run_inline_js();\n    });\n  }\n}(window));"
          },
          "metadata": {
            "tags": []
          }
        },
        {
          "output_type": "display_data",
          "data": {
            "text/html": [
              "\n",
              "\n",
              "\n",
              "\n",
              "\n",
              "\n",
              "  <div class=\"bk-root\" id=\"c086bb69-1875-4990-bdc0-84e42102a81e\" data-root-id=\"1101\"></div>\n"
            ]
          },
          "metadata": {
            "tags": []
          }
        },
        {
          "output_type": "display_data",
          "data": {
            "application/javascript": [
              "(function(root) {\n",
              "  function embed_document(root) {\n",
              "    \n",
              "  var docs_json = {\"1a4120da-3afe-427d-bdea-8b40437748c4\":{\"roots\":{\"references\":[{\"attributes\":{\"below\":[{\"id\":\"1110\",\"type\":\"LinearAxis\"}],\"center\":[{\"id\":\"1114\",\"type\":\"Grid\"},{\"id\":\"1119\",\"type\":\"Grid\"}],\"left\":[{\"id\":\"1115\",\"type\":\"LinearAxis\"}],\"plot_height\":800,\"plot_width\":800,\"renderers\":[{\"id\":\"1136\",\"type\":\"GlyphRenderer\"}],\"title\":{\"id\":\"1148\",\"type\":\"Title\"},\"toolbar\":{\"id\":\"1126\",\"type\":\"Toolbar\"},\"x_range\":{\"id\":\"1102\",\"type\":\"DataRange1d\"},\"x_scale\":{\"id\":\"1106\",\"type\":\"LinearScale\"},\"y_range\":{\"id\":\"1104\",\"type\":\"DataRange1d\"},\"y_scale\":{\"id\":\"1108\",\"type\":\"LinearScale\"}},\"id\":\"1101\",\"subtype\":\"Figure\",\"type\":\"Plot\"},{\"attributes\":{},\"id\":\"1125\",\"type\":\"HelpTool\"},{\"attributes\":{},\"id\":\"1108\",\"type\":\"LinearScale\"},{\"attributes\":{\"formatter\":{\"id\":\"1149\",\"type\":\"BasicTickFormatter\"},\"ticker\":{\"id\":\"1111\",\"type\":\"BasicTicker\"}},\"id\":\"1110\",\"type\":\"LinearAxis\"},{\"attributes\":{\"data_source\":{\"id\":\"1133\",\"type\":\"ColumnDataSource\"},\"glyph\":{\"id\":\"1134\",\"type\":\"Text\"},\"hover_glyph\":null,\"muted_glyph\":null,\"nonselection_glyph\":{\"id\":\"1135\",\"type\":\"Text\"},\"selection_glyph\":null,\"view\":{\"id\":\"1137\",\"type\":\"CDSView\"}},\"id\":\"1136\",\"type\":\"GlyphRenderer\"},{\"attributes\":{\"text_alpha\":{\"value\":0.1},\"text_color\":{\"value\":\"black\"},\"x\":{\"field\":\"x\"},\"y\":{\"field\":\"y\"}},\"id\":\"1135\",\"type\":\"Text\"},{\"attributes\":{},\"id\":\"1111\",\"type\":\"BasicTicker\"},{\"attributes\":{},\"id\":\"1154\",\"type\":\"UnionRenderers\"},{\"attributes\":{\"ticker\":{\"id\":\"1111\",\"type\":\"BasicTicker\"}},\"id\":\"1114\",\"type\":\"Grid\"},{\"attributes\":{},\"id\":\"1106\",\"type\":\"LinearScale\"},{\"attributes\":{},\"id\":\"1155\",\"type\":\"Selection\"},{\"attributes\":{},\"id\":\"1151\",\"type\":\"BasicTickFormatter\"},{\"attributes\":{\"callback\":null},\"id\":\"1104\",\"type\":\"DataRange1d\"},{\"attributes\":{\"callback\":null},\"id\":\"1102\",\"type\":\"DataRange1d\"},{\"attributes\":{\"formatter\":{\"id\":\"1151\",\"type\":\"BasicTickFormatter\"},\"ticker\":{\"id\":\"1116\",\"type\":\"BasicTicker\"}},\"id\":\"1115\",\"type\":\"LinearAxis\"},{\"attributes\":{},\"id\":\"1116\",\"type\":\"BasicTicker\"},{\"attributes\":{\"dimension\":1,\"ticker\":{\"id\":\"1116\",\"type\":\"BasicTicker\"}},\"id\":\"1119\",\"type\":\"Grid\"},{\"attributes\":{},\"id\":\"1149\",\"type\":\"BasicTickFormatter\"},{\"attributes\":{\"source\":{\"id\":\"1133\",\"type\":\"ColumnDataSource\"}},\"id\":\"1137\",\"type\":\"CDSView\"},{\"attributes\":{\"text_color\":{\"value\":\"black\"},\"x\":{\"field\":\"x\"},\"y\":{\"field\":\"y\"}},\"id\":\"1134\",\"type\":\"Text\"},{\"attributes\":{},\"id\":\"1123\",\"type\":\"SaveTool\"},{\"attributes\":{\"text\":\"\"},\"id\":\"1148\",\"type\":\"Title\"},{\"attributes\":{\"overlay\":{\"id\":\"1153\",\"type\":\"BoxAnnotation\"}},\"id\":\"1122\",\"type\":\"BoxZoomTool\"},{\"attributes\":{},\"id\":\"1121\",\"type\":\"WheelZoomTool\"},{\"attributes\":{},\"id\":\"1120\",\"type\":\"PanTool\"},{\"attributes\":{\"active_drag\":\"auto\",\"active_inspect\":\"auto\",\"active_multi\":null,\"active_scroll\":\"auto\",\"active_tap\":\"auto\",\"tools\":[{\"id\":\"1120\",\"type\":\"PanTool\"},{\"id\":\"1121\",\"type\":\"WheelZoomTool\"},{\"id\":\"1122\",\"type\":\"BoxZoomTool\"},{\"id\":\"1123\",\"type\":\"SaveTool\"},{\"id\":\"1124\",\"type\":\"ResetTool\"},{\"id\":\"1125\",\"type\":\"HelpTool\"}]},\"id\":\"1126\",\"type\":\"Toolbar\"},{\"attributes\":{\"callback\":null,\"data\":{\"text\":[\"shook\",\"leprosy\",\"congratulated\",\"radishes\",\"inaudible\",\"disagree\",\"seam\",\"aromatic\",\"description\",\"Weston\",\"opposing\",\"rendered\",\"intention\",\"Washington\",\"Shakespeare\",\"unfortunate\",\"Hung\",\"gazed\",\"customary\",\"communicated\",\"Gad\",\"J\",\"remarks\",\"tremendous\",\"valiantly\",\"dropt\",\"Bethhoron\",\"vows\",\"Yes\",\"happeneth\",\"sauce\",\"coffin\",\"chicken\",\"Otherwise\",\"tunes\",\"glittering\",\"mar\",\"palaces\",\"item\",\"collapsed\",\"bursting\",\"shining\",\"dish\",\"terrace\",\"earthen\",\"Penuel\",\"respite\",\"joins\",\"porter\",\"steered\",\"Personality\",\"prostitute\",\"scaped\",\"50\",\"god\",\"Thick\",\"Naboth\",\"pricking\",\"honesty\",\"seaman\",\"annexed\",\"vesture\",\"philosopher\",\"baby\",\"Arthur\",\"denial\",\"Hereby\",\"villains\",\"Cai\",\"shine\",\"rump\",\"signet\",\"rum\",\"discipline\",\"Farewell\",\"canvas\",\"glimpse\",\"tranquil\",\"destroyeth\",\"d\",\"pillow\",\"dimensions\",\"borrow\",\"School\",\"profoundly\",\"Queene\",\"reverse\",\"glued\",\"masses\",\"knaue\",\"planet\",\"campaigns\",\"famine\",\"pins\",\"fortunes\",\"beast\",\"African\",\"frighten\",\"ceasing\",\"lingering\",\"misapprehension\",\"points\",\"dialogue\",\"public\",\"pleading\",\"unless\",\"danced\",\"onely\",\"possibility\",\"Comes\",\"apparatus\",\"elderly\",\"fearfully\",\"announced\",\"Ambitious\",\"midwives\",\"block\",\"cleanse\",\"demands\",\"coin\",\"tapers\",\"Amoz\",\"Oh\",\"weeping\",\"slaughter\",\"doer\",\"enemy\",\"democratic\",\"eternally\",\"said\",\"defied\",\"Jeroboam\",\"hearkened\",\"confused\",\"Picture\",\"shades\",\"polar\",\"stalks\",\"walketh\",\"villa\",\"endeavoured\",\"Iscariot\",\"rag\",\"garnished\",\"chargeable\",\"shaggy\",\"Sag\",\"fifty\",\"prophets\",\"harm\",\"sinners\",\".\\\"'\",\"Dinner\",\"violence\",\"curate\",\"experiment\",\"serpents\",\"swan\",\"freedom\",\"Ramothgilead\",\"Left\",\"reproved\",\"arsenal\",\"enlighten\",\"Nazarite\",\"lou\",\"practise\",\"campaign\",\"parable\",\"accounts\",\"shew\",\"omer\",\"changing\",\"convicted\",\"adversity\",\"selves\",\"Turk\",\"millstones\",\"fisher\",\"proofs\",\"quake\",\"surmised\",\"dues\",\"virtue\",\"insignificant\",\"composed\",\"approached\",\"southward\",\"Question\",\"stricken\",\"Moby\",\"Thought\",\"inmost\",\"ROBERT\",\"thoughtfulness\",\"tallying\",\"genteel\",\"cape\",\"builders\",\"holds\"],\"x\":{\"__ndarray__\":\"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\",\"dtype\":\"float64\",\"shape\":[200]},\"y\":{\"__ndarray__\":\"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\",\"dtype\":\"float64\",\"shape\":[200]}},\"selected\":{\"id\":\"1155\",\"type\":\"Selection\"},\"selection_policy\":{\"id\":\"1154\",\"type\":\"UnionRenderers\"}},\"id\":\"1133\",\"type\":\"ColumnDataSource\"},{\"attributes\":{},\"id\":\"1124\",\"type\":\"ResetTool\"},{\"attributes\":{\"bottom_units\":\"screen\",\"fill_alpha\":{\"value\":0.5},\"fill_color\":{\"value\":\"lightgrey\"},\"left_units\":\"screen\",\"level\":\"overlay\",\"line_alpha\":{\"value\":1.0},\"line_color\":{\"value\":\"black\"},\"line_dash\":[4,4],\"line_width\":{\"value\":2},\"render_mode\":\"css\",\"right_units\":\"screen\",\"top_units\":\"screen\"},\"id\":\"1153\",\"type\":\"BoxAnnotation\"}],\"root_ids\":[\"1101\"]},\"title\":\"Bokeh Application\",\"version\":\"1.4.0\"}};\n",
              "  var render_items = [{\"docid\":\"1a4120da-3afe-427d-bdea-8b40437748c4\",\"roots\":{\"1101\":\"c086bb69-1875-4990-bdc0-84e42102a81e\"}}];\n",
              "  root.Bokeh.embed.embed_items_notebook(docs_json, render_items);\n",
              "\n",
              "  }\n",
              "  if (root.Bokeh !== undefined) {\n",
              "    embed_document(root);\n",
              "  } else {\n",
              "    var attempts = 0;\n",
              "    var timer = setInterval(function(root) {\n",
              "      if (root.Bokeh !== undefined) {\n",
              "        clearInterval(timer);\n",
              "        embed_document(root);\n",
              "      } else {\n",
              "        attempts++;\n",
              "        if (attempts > 100) {\n",
              "          clearInterval(timer);\n",
              "          console.log(\"Bokeh: ERROR: Unable to run BokehJS code because BokehJS library is missing\");\n",
              "        }\n",
              "      }\n",
              "    }, 10, root)\n",
              "  }\n",
              "})(window);"
            ],
            "application/vnd.bokehjs_exec.v0+json": ""
          },
          "metadata": {
            "tags": [],
            "application/vnd.bokehjs_exec.v0+json": {
              "id": "1101"
            }
          }
        }
      ]
    },
    {
      "cell_type": "code",
      "metadata": {
        "id": "cbv2YWgiwfZj",
        "colab_type": "code",
        "colab": {}
      },
      "source": [
        ""
      ],
      "execution_count": null,
      "outputs": []
    }
  ]
}