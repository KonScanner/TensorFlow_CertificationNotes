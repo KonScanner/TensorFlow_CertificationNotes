{
  "cells": [
    {
      "cell_type": "markdown",
      "metadata": {
        "id": "84MA_nEru-lx",
        "colab_type": "text"
      },
      "source": [
        "# Creating Word Vectors with word2vec"
      ]
    },
    {
      "cell_type": "code",
      "metadata": {
        "id": "d1uQgyLzvA9n",
        "colab_type": "code",
        "colab": {}
      },
      "source": [
        "import nltk\n",
        "from nltk import word_tokenize, sent_tokenize\n",
        "import gensim\n",
        "from gensim.models.word2vec import Word2Vec\n",
        "from sklearn.manifold import TSNE\n",
        "import pandas as pd\n",
        "from bokeh.io import output_notebook\n",
        "from bokeh.plotting import show, figure"
      ],
      "execution_count": 1,
      "outputs": []
    },
    {
      "cell_type": "code",
      "metadata": {
        "id": "Zi6dL-cFvEnB",
        "colab_type": "code",
        "colab": {
          "base_uri": "https://localhost:8080/",
          "height": 68
        },
        "outputId": "a6feceec-21f1-4d44-ed27-4c655892be02",
        "tags": []
      },
      "source": [
        "nltk.download('punkt') # English-language sentence tokenizer (not all periods end sentences; not all sentences start with a capital letter)"
      ],
      "execution_count": 2,
      "outputs": [
        {
          "output_type": "stream",
          "name": "stderr",
          "text": "[nltk_data] Downloading package punkt to\n[nltk_data]     C:\\Users\\kkomb\\AppData\\Roaming\\nltk_data...\n[nltk_data]   Unzipping tokenizers\\punkt.zip.\n"
        },
        {
          "output_type": "execute_result",
          "data": {
            "text/plain": "True"
          },
          "metadata": {},
          "execution_count": 2
        }
      ]
    },
    {
      "cell_type": "code",
      "metadata": {
        "id": "pwhTblr7vFqY",
        "colab_type": "code",
        "colab": {
          "base_uri": "https://localhost:8080/",
          "height": 68
        },
        "outputId": "b4a3431e-287e-4e96-c74e-45d1e5a688f2",
        "tags": []
      },
      "source": [
        "nltk.download('gutenberg')"
      ],
      "execution_count": 3,
      "outputs": [
        {
          "output_type": "stream",
          "name": "stderr",
          "text": "[nltk_data] Downloading package gutenberg to\n[nltk_data]     C:\\Users\\kkomb\\AppData\\Roaming\\nltk_data...\n[nltk_data]   Unzipping corpora\\gutenberg.zip.\n"
        },
        {
          "output_type": "execute_result",
          "data": {
            "text/plain": "True"
          },
          "metadata": {},
          "execution_count": 3
        }
      ]
    },
    {
      "cell_type": "code",
      "metadata": {
        "id": "9Q3kP4-8vG4P",
        "colab_type": "code",
        "colab": {
          "base_uri": "https://localhost:8080/",
          "height": 34
        },
        "outputId": "a05600a9-34aa-46a8-fd6c-3877993a0785"
      },
      "source": [
        "from nltk.corpus import gutenberg\n",
        "\n",
        "len(gutenberg.fileids())"
      ],
      "execution_count": 4,
      "outputs": [
        {
          "output_type": "execute_result",
          "data": {
            "text/plain": "18"
          },
          "metadata": {},
          "execution_count": 4
        }
      ]
    },
    {
      "cell_type": "code",
      "metadata": {
        "id": "lrsEKTXNvJ9w",
        "colab_type": "code",
        "colab": {
          "base_uri": "https://localhost:8080/",
          "height": 323
        },
        "outputId": "8d41a0b1-aebc-43a4-dd42-6f7bfd5fb728"
      },
      "source": [
        "gutenberg.fileids()"
      ],
      "execution_count": 5,
      "outputs": [
        {
          "output_type": "execute_result",
          "data": {
            "text/plain": "['austen-emma.txt',\n 'austen-persuasion.txt',\n 'austen-sense.txt',\n 'bible-kjv.txt',\n 'blake-poems.txt',\n 'bryant-stories.txt',\n 'burgess-busterbrown.txt',\n 'carroll-alice.txt',\n 'chesterton-ball.txt',\n 'chesterton-brown.txt',\n 'chesterton-thursday.txt',\n 'edgeworth-parents.txt',\n 'melville-moby_dick.txt',\n 'milton-paradise.txt',\n 'shakespeare-caesar.txt',\n 'shakespeare-hamlet.txt',\n 'shakespeare-macbeth.txt',\n 'whitman-leaves.txt']"
          },
          "metadata": {},
          "execution_count": 5
        }
      ]
    },
    {
      "cell_type": "markdown",
      "metadata": {
        "id": "TrDGUN66vMSK",
        "colab_type": "text"
      },
      "source": [
        "### Tokenization of text"
      ]
    },
    {
      "cell_type": "code",
      "metadata": {
        "id": "YbcaZkMpvLFX",
        "colab_type": "code",
        "colab": {}
      },
      "source": [
        "gberg_sent_tokens = sent_tokenize(gutenberg.raw())"
      ],
      "execution_count": 6,
      "outputs": []
    },
    {
      "cell_type": "code",
      "metadata": {
        "id": "gEibOYOkvN73",
        "colab_type": "code",
        "colab": {
          "base_uri": "https://localhost:8080/",
          "height": 139
        },
        "outputId": "346d25d9-6e50-44fd-f146-9c3aa132718a"
      },
      "source": [
        "gberg_sent_tokens[0:6]"
      ],
      "execution_count": 7,
      "outputs": [
        {
          "output_type": "execute_result",
          "data": {
            "text/plain": "['[Emma by Jane Austen 1816]\\n\\nVOLUME I\\n\\nCHAPTER I\\n\\n\\nEmma Woodhouse, handsome, clever, and rich, with a comfortable home\\nand happy disposition, seemed to unite some of the best blessings\\nof existence; and had lived nearly twenty-one years in the world\\nwith very little to distress or vex her.',\n \"She was the youngest of the two daughters of a most affectionate,\\nindulgent father; and had, in consequence of her sister's marriage,\\nbeen mistress of his house from a very early period.\",\n 'Her mother\\nhad died too long ago for her to have more than an indistinct\\nremembrance of her caresses; and her place had been supplied\\nby an excellent woman as governess, who had fallen little short\\nof a mother in affection.',\n \"Sixteen years had Miss Taylor been in Mr. Woodhouse's family,\\nless as a governess than a friend, very fond of both daughters,\\nbut particularly of Emma.\",\n 'Between _them_ it was more the intimacy\\nof sisters.',\n \"Even before Miss Taylor had ceased to hold the nominal\\noffice of governess, the mildness of her temper had hardly allowed\\nher to impose any restraint; and the shadow of authority being\\nnow long passed away, they had been living together as friend and\\nfriend very mutually attached, and Emma doing just what she liked;\\nhighly esteeming Miss Taylor's judgment, but directed chiefly by\\nher own.\"]"
          },
          "metadata": {},
          "execution_count": 7
        }
      ]
    },
    {
      "cell_type": "code",
      "metadata": {
        "id": "h1GMYQegvOyA",
        "colab_type": "code",
        "colab": {
          "base_uri": "https://localhost:8080/",
          "height": 35
        },
        "outputId": "e368c309-e519-41c2-d10c-8fcad2f15212"
      },
      "source": [
        "gberg_sent_tokens[1]"
      ],
      "execution_count": 8,
      "outputs": [
        {
          "output_type": "execute_result",
          "data": {
            "text/plain": "\"She was the youngest of the two daughters of a most affectionate,\\nindulgent father; and had, in consequence of her sister's marriage,\\nbeen mistress of his house from a very early period.\""
          },
          "metadata": {},
          "execution_count": 8
        }
      ]
    },
    {
      "cell_type": "code",
      "metadata": {
        "id": "v5r6HseQvQH3",
        "colab_type": "code",
        "colab": {
          "base_uri": "https://localhost:8080/",
          "height": 663
        },
        "outputId": "aac972a3-e849-44b0-b3d8-1af02a0c515b"
      },
      "source": [
        "word_tokenize(gberg_sent_tokens[1])"
      ],
      "execution_count": 9,
      "outputs": [
        {
          "output_type": "execute_result",
          "data": {
            "text/plain": "['She',\n 'was',\n 'the',\n 'youngest',\n 'of',\n 'the',\n 'two',\n 'daughters',\n 'of',\n 'a',\n 'most',\n 'affectionate',\n ',',\n 'indulgent',\n 'father',\n ';',\n 'and',\n 'had',\n ',',\n 'in',\n 'consequence',\n 'of',\n 'her',\n 'sister',\n \"'s\",\n 'marriage',\n ',',\n 'been',\n 'mistress',\n 'of',\n 'his',\n 'house',\n 'from',\n 'a',\n 'very',\n 'early',\n 'period',\n '.']"
          },
          "metadata": {},
          "execution_count": 9
        }
      ]
    },
    {
      "cell_type": "code",
      "metadata": {
        "id": "joykEflovRjn",
        "colab_type": "code",
        "colab": {
          "base_uri": "https://localhost:8080/",
          "height": 35
        },
        "outputId": "7c1ba9a5-613f-4ca7-dd18-79bff67d789b"
      },
      "source": [
        "word_tokenize(gberg_sent_tokens[1])[14]"
      ],
      "execution_count": 10,
      "outputs": [
        {
          "output_type": "execute_result",
          "data": {
            "text/plain": "'father'"
          },
          "metadata": {},
          "execution_count": 10
        }
      ]
    },
    {
      "cell_type": "code",
      "metadata": {
        "id": "6Z9aoljIvTPg",
        "colab_type": "code",
        "colab": {}
      },
      "source": [
        "# a convenient method that handles newlines, as well as tokenizing sentences and words in one shot\n",
        "gberg_sents = gutenberg.sents()"
      ],
      "execution_count": 11,
      "outputs": []
    },
    {
      "cell_type": "code",
      "metadata": {
        "id": "IGlYj_N9vUiQ",
        "colab_type": "code",
        "colab": {
          "base_uri": "https://localhost:8080/",
          "height": 1000
        },
        "outputId": "d20ed762-d397-4688-f834-f5cf277598ff"
      },
      "source": [
        "gberg_sents[0:6]"
      ],
      "execution_count": 12,
      "outputs": [
        {
          "output_type": "execute_result",
          "data": {
            "text/plain": "[['[', 'Emma', 'by', 'Jane', 'Austen', '1816', ']'],\n ['VOLUME', 'I'],\n ['CHAPTER', 'I'],\n ['Emma',\n  'Woodhouse',\n  ',',\n  'handsome',\n  ',',\n  'clever',\n  ',',\n  'and',\n  'rich',\n  ',',\n  'with',\n  'a',\n  'comfortable',\n  'home',\n  'and',\n  'happy',\n  'disposition',\n  ',',\n  'seemed',\n  'to',\n  'unite',\n  'some',\n  'of',\n  'the',\n  'best',\n  'blessings',\n  'of',\n  'existence',\n  ';',\n  'and',\n  'had',\n  'lived',\n  'nearly',\n  'twenty',\n  '-',\n  'one',\n  'years',\n  'in',\n  'the',\n  'world',\n  'with',\n  'very',\n  'little',\n  'to',\n  'distress',\n  'or',\n  'vex',\n  'her',\n  '.'],\n ['She',\n  'was',\n  'the',\n  'youngest',\n  'of',\n  'the',\n  'two',\n  'daughters',\n  'of',\n  'a',\n  'most',\n  'affectionate',\n  ',',\n  'indulgent',\n  'father',\n  ';',\n  'and',\n  'had',\n  ',',\n  'in',\n  'consequence',\n  'of',\n  'her',\n  'sister',\n  \"'\",\n  's',\n  'marriage',\n  ',',\n  'been',\n  'mistress',\n  'of',\n  'his',\n  'house',\n  'from',\n  'a',\n  'very',\n  'early',\n  'period',\n  '.'],\n ['Her',\n  'mother',\n  'had',\n  'died',\n  'too',\n  'long',\n  'ago',\n  'for',\n  'her',\n  'to',\n  'have',\n  'more',\n  'than',\n  'an',\n  'indistinct',\n  'remembrance',\n  'of',\n  'her',\n  'caresses',\n  ';',\n  'and',\n  'her',\n  'place',\n  'had',\n  'been',\n  'supplied',\n  'by',\n  'an',\n  'excellent',\n  'woman',\n  'as',\n  'governess',\n  ',',\n  'who',\n  'had',\n  'fallen',\n  'little',\n  'short',\n  'of',\n  'a',\n  'mother',\n  'in',\n  'affection',\n  '.']]"
          },
          "metadata": {},
          "execution_count": 12
        }
      ]
    },
    {
      "cell_type": "code",
      "metadata": {
        "id": "39ph4DvsvWJQ",
        "colab_type": "code",
        "colab": {
          "base_uri": "https://localhost:8080/",
          "height": 680
        },
        "outputId": "8999c2c5-e31f-4c7e-ad3f-d37e14ae3bd5"
      },
      "source": [
        "gberg_sents[4]"
      ],
      "execution_count": 13,
      "outputs": [
        {
          "output_type": "execute_result",
          "data": {
            "text/plain": "['She',\n 'was',\n 'the',\n 'youngest',\n 'of',\n 'the',\n 'two',\n 'daughters',\n 'of',\n 'a',\n 'most',\n 'affectionate',\n ',',\n 'indulgent',\n 'father',\n ';',\n 'and',\n 'had',\n ',',\n 'in',\n 'consequence',\n 'of',\n 'her',\n 'sister',\n \"'\",\n 's',\n 'marriage',\n ',',\n 'been',\n 'mistress',\n 'of',\n 'his',\n 'house',\n 'from',\n 'a',\n 'very',\n 'early',\n 'period',\n '.']"
          },
          "metadata": {},
          "execution_count": 13
        }
      ]
    },
    {
      "cell_type": "code",
      "metadata": {
        "id": "6h8GCeNfvbBo",
        "colab_type": "code",
        "colab": {
          "base_uri": "https://localhost:8080/",
          "height": 35
        },
        "outputId": "98aad503-bc20-456e-de95-9e44a5bc539e"
      },
      "source": [
        "gberg_sents[4][14]"
      ],
      "execution_count": 14,
      "outputs": [
        {
          "output_type": "execute_result",
          "data": {
            "text/plain": "'father'"
          },
          "metadata": {},
          "execution_count": 14
        }
      ]
    },
    {
      "cell_type": "code",
      "metadata": {
        "id": "EvaxsfVTvcW4",
        "colab_type": "code",
        "colab": {
          "base_uri": "https://localhost:8080/",
          "height": 34
        },
        "outputId": "819d1797-8a85-431c-c631-c8fc87be25d1"
      },
      "source": [
        "# another convenient method that we don't immediately need: \n",
        "gutenberg.words()\n",
        "\n",
        "# gutenberg.words() is analogous to the following line, which need not be run: \n",
        "# word_tokenize(gutenberg.raw())"
      ],
      "execution_count": 15,
      "outputs": [
        {
          "output_type": "execute_result",
          "data": {
            "text/plain": "['[', 'Emma', 'by', 'Jane', 'Austen', '1816', ']', ...]"
          },
          "metadata": {},
          "execution_count": 15
        }
      ]
    },
    {
      "cell_type": "code",
      "metadata": {
        "id": "IeOVRDoIvdhJ",
        "colab_type": "code",
        "colab": {
          "base_uri": "https://localhost:8080/",
          "height": 34
        },
        "outputId": "edf97509-48a6-48fc-9a8d-293439e9e516"
      },
      "source": [
        "# our Gutenberg corpus is 2.6m words in length: \n",
        "len(gutenberg.words())"
      ],
      "execution_count": 16,
      "outputs": [
        {
          "output_type": "execute_result",
          "data": {
            "text/plain": "2621613"
          },
          "metadata": {},
          "execution_count": 16
        }
      ]
    },
    {
      "cell_type": "code",
      "metadata": {
        "id": "6WfngSMfvhYg",
        "colab_type": "code",
        "colab": {}
      },
      "source": [
        ""
      ],
      "execution_count": null,
      "outputs": []
    },
    {
      "cell_type": "markdown",
      "metadata": {
        "id": "7sZyziSXvijG",
        "colab_type": "text"
      },
      "source": [
        "### Running word2vec"
      ]
    },
    {
      "cell_type": "code",
      "metadata": {
        "id": "r0X2cUncvjlg",
        "colab_type": "code",
        "colab": {
          "base_uri": "https://localhost:8080/",
          "height": 71
        },
        "outputId": "a22a1ec7-a252-42c1-8722-d2380291cee7"
      },
      "source": [
        "model = Word2Vec(sentences=gberg_sents, size=64, sg=1, window=10, min_count=5, workers=8) # sg = skip gram == 1 , 0 continuous bag of words, window_size = 10, iter = 5 (default), min_count = min number of times a word must occur across corpus in order to fit it in vector space, workers == processing cores\n",
        "model.save('model_output/raw_gutenberg_model.w2v')\n"
      ],
      "execution_count": 17,
      "outputs": []
    },
    {
      "cell_type": "markdown",
      "metadata": {
        "id": "Pe4VVFh_vqFS",
        "colab_type": "text"
      },
      "source": [
        "### Evaluate"
      ]
    },
    {
      "cell_type": "code",
      "metadata": {
        "id": "OFIM2z3OvodQ",
        "colab_type": "code",
        "colab": {
          "base_uri": "https://localhost:8080/",
          "height": 71
        },
        "outputId": "3116b984-d64c-4f61-f69c-da82da81c166"
      },
      "source": [
        "# skip re-training the model with the next line:  \n",
        "model = gensim.models.Word2Vec.load('model_output/raw_gutenberg_model.w2v')\n",
        "\n"
      ],
      "execution_count": 18,
      "outputs": []
    },
    {
      "cell_type": "code",
      "metadata": {
        "id": "KHVEi7q6vsqx",
        "colab_type": "code",
        "colab": {
          "base_uri": "https://localhost:8080/",
          "height": 306
        },
        "outputId": "3101fb81-a38b-4f44-f279-776aad825ad8"
      },
      "source": [
        "model.wv['dog']"
      ],
      "execution_count": 19,
      "outputs": [
        {
          "output_type": "execute_result",
          "data": {
            "text/plain": "array([ 0.4226558 ,  0.02448606, -0.41807085,  0.26955914,  0.10553136,\n        0.25590342, -0.12657648, -0.02339899,  0.29244262,  0.0510579 ,\n        0.24887173,  0.09414656, -0.12491327, -0.27467686, -0.093724  ,\n       -0.33949256,  0.07559001,  0.43766394,  0.47325373,  0.02063425,\n       -0.20066582,  0.07053802, -0.09124026,  0.30558187,  0.6162438 ,\n       -0.15669328,  0.04338922,  0.57369167, -0.32228184,  0.4124832 ,\n       -0.1545553 , -0.1358651 ,  0.7119419 , -0.5747579 , -0.26627415,\n       -0.22414848,  0.013143  ,  0.2873723 , -0.00465772, -0.15452005,\n        0.32250834,  0.12563957, -0.08129893, -0.08432494, -0.08771995,\n       -0.1944579 , -0.07339533,  0.24133126,  0.04558555, -0.3826227 ,\n        0.2764877 , -0.36965927,  0.00703222,  0.04124278, -0.17772743,\n        0.49824077, -0.04227719, -0.27596867, -0.4161617 ,  0.02790228,\n       -0.22703338,  0.76119006,  0.45782053,  0.17657396], dtype=float32)"
          },
          "metadata": {},
          "execution_count": 19
        }
      ]
    },
    {
      "cell_type": "code",
      "metadata": {
        "id": "kXaZBtGevtOA",
        "colab_type": "code",
        "colab": {
          "base_uri": "https://localhost:8080/",
          "height": 34
        },
        "outputId": "147602ca-9103-4e99-f9b2-53ecea6e6cfd"
      },
      "source": [
        "len(model.wv['dog'])"
      ],
      "execution_count": 20,
      "outputs": [
        {
          "output_type": "execute_result",
          "data": {
            "text/plain": "64"
          },
          "metadata": {},
          "execution_count": 20
        }
      ]
    },
    {
      "cell_type": "code",
      "metadata": {
        "id": "W92mqZFXvuco",
        "colab_type": "code",
        "colab": {
          "base_uri": "https://localhost:8080/",
          "height": 241
        },
        "outputId": "6fb7f5a6-8b16-49a0-c855-515936bf0026"
      },
      "source": [
        "model.wv.most_similar('dog') # distance"
      ],
      "execution_count": 21,
      "outputs": [
        {
          "output_type": "execute_result",
          "data": {
            "text/plain": "[('puppy', 0.8123878836631775),\n ('chimney', 0.7941816449165344),\n ('sweeper', 0.7764820456504822),\n ('cage', 0.7646546363830566),\n ('thief', 0.7599992752075195),\n ('broth', 0.7570700645446777),\n ('boy', 0.7502454519271851),\n ('whip', 0.7441377639770508),\n ('gallon', 0.7417463064193726),\n ('wid', 0.740312933921814)]"
          },
          "metadata": {},
          "execution_count": 21
        }
      ]
    },
    {
      "cell_type": "code",
      "metadata": {
        "id": "BjKcyEqHvvcg",
        "colab_type": "code",
        "colab": {
          "base_uri": "https://localhost:8080/",
          "height": 241
        },
        "outputId": "4111a545-41a3-4cfb-f7c7-cf7111974e93"
      },
      "source": [
        "model.wv.most_similar('think')"
      ],
      "execution_count": 22,
      "outputs": [
        {
          "output_type": "execute_result",
          "data": {
            "text/plain": "[('contradict', 0.8400367498397827),\n ('suppose', 0.8337477445602417),\n ('manage', 0.829731822013855),\n ('Mamma', 0.8158707022666931),\n ('really', 0.8141055703163147),\n ('believe', 0.8100804686546326),\n ('behave', 0.8042991161346436),\n ('guess', 0.7992029786109924),\n ('happen', 0.7978112697601318),\n ('NOW', 0.796760618686676)]"
          },
          "metadata": {},
          "execution_count": 22
        }
      ]
    },
    {
      "cell_type": "code",
      "metadata": {
        "id": "gPLVuiYHvwRQ",
        "colab_type": "code",
        "colab": {
          "base_uri": "https://localhost:8080/",
          "height": 241
        },
        "outputId": "52a2ee24-94da-431e-df29-0662824d74fa"
      },
      "source": [
        "model.wv.most_similar('day')"
      ],
      "execution_count": 23,
      "outputs": [
        {
          "output_type": "execute_result",
          "data": {
            "text/plain": "[('morning', 0.7836750745773315),\n ('time', 0.7652457356452942),\n ('night', 0.7573159337043762),\n ('month', 0.7365054488182068),\n ('week', 0.7267901301383972),\n ('evening', 0.6919419765472412),\n ('sabbath', 0.6876345276832581),\n ('Saturday', 0.6808834075927734),\n ('Adar', 0.6795975565910339),\n ('afternoon', 0.675356388092041)]"
          },
          "metadata": {},
          "execution_count": 23
        }
      ]
    },
    {
      "cell_type": "code",
      "metadata": {
        "id": "f2KiJLznvyvA",
        "colab_type": "code",
        "colab": {
          "base_uri": "https://localhost:8080/",
          "height": 241
        },
        "outputId": "aca6124d-286f-4914-a28e-98e39640e39f"
      },
      "source": [
        "model.wv.most_similar('father')"
      ],
      "execution_count": 24,
      "outputs": [
        {
          "output_type": "execute_result",
          "data": {
            "text/plain": "[('mother', 0.8632395267486572),\n ('brother', 0.8439583778381348),\n ('sister', 0.8127918839454651),\n ('wife', 0.7884070873260498),\n ('daughter', 0.7847610116004944),\n ('Amnon', 0.7597274780273438),\n ('servant', 0.7320384979248047),\n ('younger', 0.7281097769737244),\n ('David', 0.7275477647781372),\n ('uncle', 0.726576566696167)]"
          },
          "metadata": {},
          "execution_count": 24
        }
      ]
    },
    {
      "cell_type": "code",
      "metadata": {
        "id": "u7PnrKRTvzjP",
        "colab_type": "code",
        "colab": {
          "base_uri": "https://localhost:8080/",
          "height": 123
        },
        "outputId": "a2714ad7-4d9c-43f8-c9da-b7de552e92da"
      },
      "source": [
        "model.wv.doesnt_match(\"mother father daughter dog\".split())"
      ],
      "execution_count": 25,
      "outputs": [
        {
          "output_type": "execute_result",
          "data": {
            "text/plain": "'dog'"
          },
          "metadata": {},
          "execution_count": 25
        }
      ]
    },
    {
      "cell_type": "code",
      "metadata": {
        "id": "wzRDB9uGv0xB",
        "colab_type": "code",
        "colab": {
          "base_uri": "https://localhost:8080/",
          "height": 88
        },
        "outputId": "b6f6b48c-7575-4876-c1aa-8dbcf77692c8"
      },
      "source": [
        "model.wv.similarity('father', 'dog')"
      ],
      "execution_count": 26,
      "outputs": [
        {
          "output_type": "execute_result",
          "data": {
            "text/plain": "0.4857121"
          },
          "metadata": {},
          "execution_count": 26
        }
      ]
    },
    {
      "cell_type": "code",
      "metadata": {
        "id": "FgxNdYldv2i_",
        "colab_type": "code",
        "colab": {
          "base_uri": "https://localhost:8080/",
          "height": 241
        },
        "outputId": "1357a363-728b-40f2-f67c-a8fabbdd0d13"
      },
      "source": [
        "# close, but not quite; distinctly in female direction: \n",
        "model.wv.most_similar(positive=['father', 'woman'], negative=['man'])"
      ],
      "execution_count": 27,
      "outputs": [
        {
          "output_type": "execute_result",
          "data": {
            "text/plain": "[('daughter', 0.7914818525314331),\n ('mother', 0.7896489500999451),\n ('sister', 0.7877634763717651),\n ('husband', 0.7875680923461914),\n ('wife', 0.7837554812431335),\n ('brother', 0.7397383451461792),\n ('Rachel', 0.7329663634300232),\n ('Sarai', 0.7137974500656128),\n ('daughters', 0.7071865797042847),\n ('Sarah', 0.6965440511703491)]"
          },
          "metadata": {},
          "execution_count": 27
        }
      ]
    },
    {
      "cell_type": "code",
      "metadata": {
        "id": "RcT8tY3Zv3s4",
        "colab_type": "code",
        "colab": {
          "base_uri": "https://localhost:8080/",
          "height": 241
        },
        "outputId": "196340cc-836a-4a03-84a2-5ba039aadd81"
      },
      "source": [
        "# more confident about this one: \n",
        "model.wv.most_similar(positive=['son', 'woman'], negative=['man'])"
      ],
      "execution_count": 28,
      "outputs": [
        {
          "output_type": "execute_result",
          "data": {
            "text/plain": "[('daughter', 0.7628356218338013),\n ('Leah', 0.7462682723999023),\n ('Sarai', 0.7392925024032593),\n ('wife', 0.7346237897872925),\n ('Rachel', 0.7345350384712219),\n ('Hagar', 0.7269033193588257),\n ('Bethuel', 0.7259371876716614),\n ('Sarah', 0.7173603773117065),\n ('Bilhah', 0.7109167575836182),\n ('Abram', 0.7043097019195557)]"
          },
          "metadata": {},
          "execution_count": 28
        }
      ]
    },
    {
      "cell_type": "code",
      "metadata": {
        "id": "3q1aNQfQv5Nw",
        "colab_type": "code",
        "colab": {
          "base_uri": "https://localhost:8080/",
          "height": 241
        },
        "outputId": "f25bf592-1fe5-4d03-90ba-5d245ae25e0e"
      },
      "source": [
        "model.wv.most_similar(positive=['husband', 'woman'], negative=['man'])"
      ],
      "execution_count": 29,
      "outputs": [
        {
          "output_type": "execute_result",
          "data": {
            "text/plain": "[('wife', 0.731613278388977),\n ('sister', 0.7058153748512268),\n ('conceived', 0.6886899471282959),\n ('daughter', 0.6862990856170654),\n ('mother', 0.6789271831512451),\n ('child', 0.675650954246521),\n ('maid', 0.6623833775520325),\n ('Rachel', 0.6582338809967041),\n ('widow', 0.6521735191345215),\n ('whoredoms', 0.6426436901092529)]"
          },
          "metadata": {},
          "execution_count": 29
        }
      ]
    },
    {
      "cell_type": "code",
      "metadata": {
        "id": "BhwdfB71v6k4",
        "colab_type": "code",
        "colab": {
          "base_uri": "https://localhost:8080/",
          "height": 581
        },
        "outputId": "d60386e4-a143-4e0a-ab53-3a29b72a1e70"
      },
      "source": [
        "model.wv.most_similar(positive=['king', 'woman'], negative=['man'], topn=30)"
      ],
      "execution_count": 30,
      "outputs": [
        {
          "output_type": "execute_result",
          "data": {
            "text/plain": "[('Sarah', 0.7233039140701294),\n ('Rachel', 0.7136567234992981),\n ('Sarai', 0.6866680383682251),\n ('Leah', 0.6775226593017578),\n ('Abram', 0.6749584078788757),\n ('Padanaram', 0.6722350120544434),\n ('daughter', 0.6673407554626465),\n ('Laban', 0.6667613983154297),\n ('Bethuel', 0.666467547416687),\n ('Cain', 0.6645205020904541),\n ('Hagar', 0.6643502712249756),\n ('Babylon', 0.6641674637794495),\n ('Hanun', 0.6588125228881836),\n ('Judah', 0.6540241241455078),\n ('tribute', 0.6522761583328247),\n ('David', 0.6496819257736206),\n ('queen', 0.6477495431900024),\n ('household', 0.6465251445770264),\n ('Rahab', 0.6429450511932373),\n ('Solomon', 0.6417278051376343),\n ('Onan', 0.6369689702987671),\n ('Bilhah', 0.6316032409667969),\n ('Pharaoh', 0.6302520036697388),\n ('Vashti', 0.6297912001609802),\n ('Rebekah', 0.6291931867599487),\n ('Esther', 0.6262664198875427),\n ('Hamor', 0.625645637512207),\n ('magicians', 0.6234855651855469),\n ('captivity', 0.6212238669395447),\n ('Zilpah', 0.6205405592918396)]"
          },
          "metadata": {},
          "execution_count": 30
        }
      ]
    },
    {
      "cell_type": "markdown",
      "metadata": {
        "id": "KyDbERrZv-_3",
        "colab_type": "text"
      },
      "source": [
        "### Reduce word vector dimensionality with t-SNE\n",
        "- Collapes 64 dimensional space down to 2 dimensions"
      ]
    },
    {
      "cell_type": "code",
      "metadata": {
        "id": "2hQ4qZ43wCJ2",
        "colab_type": "code",
        "colab": {
          "base_uri": "https://localhost:8080/",
          "height": 34
        },
        "outputId": "afc51392-9d2d-4c5b-cabe-e3e7cbc20bf0",
        "tags": []
      },
      "source": [
        "print('words that got through:', len(model.wv.vocab))"
      ],
      "execution_count": 43,
      "outputs": [
        {
          "output_type": "stream",
          "name": "stdout",
          "text": "words that got through: 17011\n"
        }
      ]
    },
    {
      "cell_type": "code",
      "metadata": {
        "id": "evXOwjjjwHVh",
        "colab_type": "code",
        "colab": {}
      },
      "source": [
        "X = model.wv[model.wv.vocab]\n",
        "tsne = TSNE(n_components=2, n_iter=1000) # 200 is minimum iter; default is 1000\n",
        "X_2d = tsne.fit_transform(X)"
      ],
      "execution_count": 32,
      "outputs": []
    },
    {
      "cell_type": "code",
      "metadata": {
        "id": "54BQFE9zwN9f",
        "colab_type": "code",
        "colab": {
          "base_uri": "https://localhost:8080/",
          "height": 102
        },
        "outputId": "648bb314-8414-4ab4-a219-942c5e940bd2"
      },
      "source": [
        "X_2d[0:5]"
      ],
      "execution_count": null,
      "outputs": []
    },
    {
      "cell_type": "code",
      "metadata": {
        "id": "MoOuSDBAwOSf",
        "colab_type": "code",
        "colab": {}
      },
      "source": [
        "# create DataFrame for storing results and plotting\n",
        "coords_df = pd.DataFrame(X_2d, columns=['x','y'])\n",
        "coords_df['token'] = model.wv.vocab.keys()"
      ],
      "execution_count": 35,
      "outputs": []
    },
    {
      "cell_type": "code",
      "metadata": {
        "id": "oM36RBkCwPgH",
        "colab_type": "code",
        "colab": {
          "base_uri": "https://localhost:8080/",
          "height": 204
        },
        "outputId": "67e7b604-93f7-4d37-c550-2709c6489648"
      },
      "source": [
        "coords_df.head()"
      ],
      "execution_count": 36,
      "outputs": [
        {
          "output_type": "execute_result",
          "data": {
            "text/plain": "           x          y token\n0 -51.602955  25.015600     [\n1 -52.998913 -33.808945  Emma\n2   2.438241 -32.696819    by\n3 -52.478035 -36.892040  Jane\n4 -51.523075  25.036707     ]",
            "text/html": "<div>\n<style scoped>\n    .dataframe tbody tr th:only-of-type {\n        vertical-align: middle;\n    }\n\n    .dataframe tbody tr th {\n        vertical-align: top;\n    }\n\n    .dataframe thead th {\n        text-align: right;\n    }\n</style>\n<table border=\"1\" class=\"dataframe\">\n  <thead>\n    <tr style=\"text-align: right;\">\n      <th></th>\n      <th>x</th>\n      <th>y</th>\n      <th>token</th>\n    </tr>\n  </thead>\n  <tbody>\n    <tr>\n      <th>0</th>\n      <td>-51.602955</td>\n      <td>25.015600</td>\n      <td>[</td>\n    </tr>\n    <tr>\n      <th>1</th>\n      <td>-52.998913</td>\n      <td>-33.808945</td>\n      <td>Emma</td>\n    </tr>\n    <tr>\n      <th>2</th>\n      <td>2.438241</td>\n      <td>-32.696819</td>\n      <td>by</td>\n    </tr>\n    <tr>\n      <th>3</th>\n      <td>-52.478035</td>\n      <td>-36.892040</td>\n      <td>Jane</td>\n    </tr>\n    <tr>\n      <th>4</th>\n      <td>-51.523075</td>\n      <td>25.036707</td>\n      <td>]</td>\n    </tr>\n  </tbody>\n</table>\n</div>"
          },
          "metadata": {},
          "execution_count": 36
        }
      ]
    },
    {
      "cell_type": "code",
      "metadata": {
        "id": "N51-iwjWwQUP",
        "colab_type": "code",
        "colab": {}
      },
      "source": [
        "# coords_df.to_csv('model_output/raw_gutenberg_tsne.csv', index=False) #save"
      ],
      "execution_count": 37,
      "outputs": []
    },
    {
      "cell_type": "markdown",
      "metadata": {
        "id": "h4SJosBswVCt",
        "colab_type": "text"
      },
      "source": [
        "### Visualize 2D Representation"
      ]
    },
    {
      "cell_type": "code",
      "metadata": {
        "id": "vd9aB9BpwTan",
        "colab_type": "code",
        "colab": {}
      },
      "source": [
        "coords_df = pd.read_csv('model_output/raw_gutenberg_tsne.csv')"
      ],
      "execution_count": 38,
      "outputs": []
    },
    {
      "cell_type": "code",
      "metadata": {
        "id": "6h5nDqJrwYT_",
        "colab_type": "code",
        "colab": {}
      },
      "source": [
        "output_notebook() # output bokeh plots inline in notebook"
      ],
      "execution_count": 39,
      "outputs": [
        {
          "output_type": "display_data",
          "data": {
            "text/html": "\n    <div class=\"bk-root\">\n        <a href=\"https://bokeh.org\" target=\"_blank\" class=\"bk-logo bk-logo-small bk-logo-notebook\"></a>\n        <span id=\"1001\">Loading BokehJS ...</span>\n    </div>"
          },
          "metadata": {}
        },
        {
          "output_type": "display_data",
          "data": {
            "application/javascript": "\n(function(root) {\n  function now() {\n    return new Date();\n  }\n\n  var force = true;\n\n  if (typeof root._bokeh_onload_callbacks === \"undefined\" || force === true) {\n    root._bokeh_onload_callbacks = [];\n    root._bokeh_is_loading = undefined;\n  }\n\n  var JS_MIME_TYPE = 'application/javascript';\n  var HTML_MIME_TYPE = 'text/html';\n  var EXEC_MIME_TYPE = 'application/vnd.bokehjs_exec.v0+json';\n  var CLASS_NAME = 'output_bokeh rendered_html';\n\n  /**\n   * Render data to the DOM node\n   */\n  function render(props, node) {\n    var script = document.createElement(\"script\");\n    node.appendChild(script);\n  }\n\n  /**\n   * Handle when an output is cleared or removed\n   */\n  function handleClearOutput(event, handle) {\n    var cell = handle.cell;\n\n    var id = cell.output_area._bokeh_element_id;\n    var server_id = cell.output_area._bokeh_server_id;\n    // Clean up Bokeh references\n    if (id != null && id in Bokeh.index) {\n      Bokeh.index[id].model.document.clear();\n      delete Bokeh.index[id];\n    }\n\n    if (server_id !== undefined) {\n      // Clean up Bokeh references\n      var cmd = \"from bokeh.io.state import curstate; print(curstate().uuid_to_server['\" + server_id + \"'].get_sessions()[0].document.roots[0]._id)\";\n      cell.notebook.kernel.execute(cmd, {\n        iopub: {\n          output: function(msg) {\n            var id = msg.content.text.trim();\n            if (id in Bokeh.index) {\n              Bokeh.index[id].model.document.clear();\n              delete Bokeh.index[id];\n            }\n          }\n        }\n      });\n      // Destroy server and session\n      var cmd = \"import bokeh.io.notebook as ion; ion.destroy_server('\" + server_id + \"')\";\n      cell.notebook.kernel.execute(cmd);\n    }\n  }\n\n  /**\n   * Handle when a new output is added\n   */\n  function handleAddOutput(event, handle) {\n    var output_area = handle.output_area;\n    var output = handle.output;\n\n    // limit handleAddOutput to display_data with EXEC_MIME_TYPE content only\n    if ((output.output_type != \"display_data\") || (!output.data.hasOwnProperty(EXEC_MIME_TYPE))) {\n      return\n    }\n\n    var toinsert = output_area.element.find(\".\" + CLASS_NAME.split(' ')[0]);\n\n    if (output.metadata[EXEC_MIME_TYPE][\"id\"] !== undefined) {\n      toinsert[toinsert.length - 1].firstChild.textContent = output.data[JS_MIME_TYPE];\n      // store reference to embed id on output_area\n      output_area._bokeh_element_id = output.metadata[EXEC_MIME_TYPE][\"id\"];\n    }\n    if (output.metadata[EXEC_MIME_TYPE][\"server_id\"] !== undefined) {\n      var bk_div = document.createElement(\"div\");\n      bk_div.innerHTML = output.data[HTML_MIME_TYPE];\n      var script_attrs = bk_div.children[0].attributes;\n      for (var i = 0; i < script_attrs.length; i++) {\n        toinsert[toinsert.length - 1].firstChild.setAttribute(script_attrs[i].name, script_attrs[i].value);\n        toinsert[toinsert.length - 1].firstChild.textContent = bk_div.children[0].textContent\n      }\n      // store reference to server id on output_area\n      output_area._bokeh_server_id = output.metadata[EXEC_MIME_TYPE][\"server_id\"];\n    }\n  }\n\n  function register_renderer(events, OutputArea) {\n\n    function append_mime(data, metadata, element) {\n      // create a DOM node to render to\n      var toinsert = this.create_output_subarea(\n        metadata,\n        CLASS_NAME,\n        EXEC_MIME_TYPE\n      );\n      this.keyboard_manager.register_events(toinsert);\n      // Render to node\n      var props = {data: data, metadata: metadata[EXEC_MIME_TYPE]};\n      render(props, toinsert[toinsert.length - 1]);\n      element.append(toinsert);\n      return toinsert\n    }\n\n    /* Handle when an output is cleared or removed */\n    events.on('clear_output.CodeCell', handleClearOutput);\n    events.on('delete.Cell', handleClearOutput);\n\n    /* Handle when a new output is added */\n    events.on('output_added.OutputArea', handleAddOutput);\n\n    /**\n     * Register the mime type and append_mime function with output_area\n     */\n    OutputArea.prototype.register_mime_type(EXEC_MIME_TYPE, append_mime, {\n      /* Is output safe? */\n      safe: true,\n      /* Index of renderer in `output_area.display_order` */\n      index: 0\n    });\n  }\n\n  // register the mime type if in Jupyter Notebook environment and previously unregistered\n  if (root.Jupyter !== undefined) {\n    var events = require('base/js/events');\n    var OutputArea = require('notebook/js/outputarea').OutputArea;\n\n    if (OutputArea.prototype.mime_types().indexOf(EXEC_MIME_TYPE) == -1) {\n      register_renderer(events, OutputArea);\n    }\n  }\n\n  \n  if (typeof (root._bokeh_timeout) === \"undefined\" || force === true) {\n    root._bokeh_timeout = Date.now() + 5000;\n    root._bokeh_failed_load = false;\n  }\n\n  var NB_LOAD_WARNING = {'data': {'text/html':\n     \"<div style='background-color: #fdd'>\\n\"+\n     \"<p>\\n\"+\n     \"BokehJS does not appear to have successfully loaded. If loading BokehJS from CDN, this \\n\"+\n     \"may be due to a slow or bad network connection. Possible fixes:\\n\"+\n     \"</p>\\n\"+\n     \"<ul>\\n\"+\n     \"<li>re-rerun `output_notebook()` to attempt to load from CDN again, or</li>\\n\"+\n     \"<li>use INLINE resources instead, as so:</li>\\n\"+\n     \"</ul>\\n\"+\n     \"<code>\\n\"+\n     \"from bokeh.resources import INLINE\\n\"+\n     \"output_notebook(resources=INLINE)\\n\"+\n     \"</code>\\n\"+\n     \"</div>\"}};\n\n  function display_loaded() {\n    var el = document.getElementById(\"1001\");\n    if (el != null) {\n      el.textContent = \"BokehJS is loading...\";\n    }\n    if (root.Bokeh !== undefined) {\n      if (el != null) {\n        el.textContent = \"BokehJS \" + root.Bokeh.version + \" successfully loaded.\";\n      }\n    } else if (Date.now() < root._bokeh_timeout) {\n      setTimeout(display_loaded, 100)\n    }\n  }\n\n\n  function run_callbacks() {\n    try {\n      root._bokeh_onload_callbacks.forEach(function(callback) {\n        if (callback != null)\n          callback();\n      });\n    } finally {\n      delete root._bokeh_onload_callbacks\n    }\n    console.debug(\"Bokeh: all callbacks have finished\");\n  }\n\n  function load_libs(css_urls, js_urls, callback) {\n    if (css_urls == null) css_urls = [];\n    if (js_urls == null) js_urls = [];\n\n    root._bokeh_onload_callbacks.push(callback);\n    if (root._bokeh_is_loading > 0) {\n      console.debug(\"Bokeh: BokehJS is being loaded, scheduling callback at\", now());\n      return null;\n    }\n    if (js_urls == null || js_urls.length === 0) {\n      run_callbacks();\n      return null;\n    }\n    console.debug(\"Bokeh: BokehJS not loaded, scheduling load and callback at\", now());\n    root._bokeh_is_loading = css_urls.length + js_urls.length;\n\n    function on_load() {\n      root._bokeh_is_loading--;\n      if (root._bokeh_is_loading === 0) {\n        console.debug(\"Bokeh: all BokehJS libraries/stylesheets loaded\");\n        run_callbacks()\n      }\n    }\n\n    function on_error() {\n      console.error(\"failed to load \" + url);\n    }\n\n    for (var i = 0; i < css_urls.length; i++) {\n      var url = css_urls[i];\n      const element = document.createElement(\"link\");\n      element.onload = on_load;\n      element.onerror = on_error;\n      element.rel = \"stylesheet\";\n      element.type = \"text/css\";\n      element.href = url;\n      console.debug(\"Bokeh: injecting link tag for BokehJS stylesheet: \", url);\n      document.body.appendChild(element);\n    }\n\n    const hashes = {\"https://cdn.bokeh.org/bokeh/release/bokeh-2.1.1.min.js\": \"kLr4fYcqcSpbuI95brIH3vnnYCquzzSxHPU6XGQCIkQRGJwhg0StNbj1eegrHs12\", \"https://cdn.bokeh.org/bokeh/release/bokeh-widgets-2.1.1.min.js\": \"xIGPmVtaOm+z0BqfSOMn4lOR6ciex448GIKG4eE61LsAvmGj48XcMQZtKcE/UXZe\", \"https://cdn.bokeh.org/bokeh/release/bokeh-tables-2.1.1.min.js\": \"Dc9u1wF/0zApGIWoBbH77iWEHtdmkuYWG839Uzmv8y8yBLXebjO9ZnERsde5Ln/P\", \"https://cdn.bokeh.org/bokeh/release/bokeh-gl-2.1.1.min.js\": \"cT9JaBz7GiRXdENrJLZNSC6eMNF3nh3fa5fTF51Svp+ukxPdwcU5kGXGPBgDCa2j\"};\n\n    for (var i = 0; i < js_urls.length; i++) {\n      var url = js_urls[i];\n      var element = document.createElement('script');\n      element.onload = on_load;\n      element.onerror = on_error;\n      element.async = false;\n      element.src = url;\n      if (url in hashes) {\n        element.crossOrigin = \"anonymous\";\n        element.integrity = \"sha384-\" + hashes[url];\n      }\n      console.debug(\"Bokeh: injecting script tag for BokehJS library: \", url);\n      document.head.appendChild(element);\n    }\n  };\n\n  function inject_raw_css(css) {\n    const element = document.createElement(\"style\");\n    element.appendChild(document.createTextNode(css));\n    document.body.appendChild(element);\n  }\n\n  \n  var js_urls = [\"https://cdn.bokeh.org/bokeh/release/bokeh-2.1.1.min.js\", \"https://cdn.bokeh.org/bokeh/release/bokeh-widgets-2.1.1.min.js\", \"https://cdn.bokeh.org/bokeh/release/bokeh-tables-2.1.1.min.js\", \"https://cdn.bokeh.org/bokeh/release/bokeh-gl-2.1.1.min.js\"];\n  var css_urls = [];\n  \n\n  var inline_js = [\n    function(Bokeh) {\n      Bokeh.set_log_level(\"info\");\n    },\n    function(Bokeh) {\n    \n    \n    }\n  ];\n\n  function run_inline_js() {\n    \n    if (root.Bokeh !== undefined || force === true) {\n      \n    for (var i = 0; i < inline_js.length; i++) {\n      inline_js[i].call(root, root.Bokeh);\n    }\n    if (force === true) {\n        display_loaded();\n      }} else if (Date.now() < root._bokeh_timeout) {\n      setTimeout(run_inline_js, 100);\n    } else if (!root._bokeh_failed_load) {\n      console.log(\"Bokeh: BokehJS failed to load within specified timeout.\");\n      root._bokeh_failed_load = true;\n    } else if (force !== true) {\n      var cell = $(document.getElementById(\"1001\")).parents('.cell').data().cell;\n      cell.output_area.append_execute_result(NB_LOAD_WARNING)\n    }\n\n  }\n\n  if (root._bokeh_is_loading === 0) {\n    console.debug(\"Bokeh: BokehJS loaded, going straight to plotting\");\n    run_inline_js();\n  } else {\n    load_libs(css_urls, js_urls, function() {\n      console.debug(\"Bokeh: BokehJS plotting callback run at\", now());\n      run_inline_js();\n    });\n  }\n}(window));",
            "application/vnd.bokehjs_load.v0+json": "\n(function(root) {\n  function now() {\n    return new Date();\n  }\n\n  var force = true;\n\n  if (typeof root._bokeh_onload_callbacks === \"undefined\" || force === true) {\n    root._bokeh_onload_callbacks = [];\n    root._bokeh_is_loading = undefined;\n  }\n\n  \n\n  \n  if (typeof (root._bokeh_timeout) === \"undefined\" || force === true) {\n    root._bokeh_timeout = Date.now() + 5000;\n    root._bokeh_failed_load = false;\n  }\n\n  var NB_LOAD_WARNING = {'data': {'text/html':\n     \"<div style='background-color: #fdd'>\\n\"+\n     \"<p>\\n\"+\n     \"BokehJS does not appear to have successfully loaded. If loading BokehJS from CDN, this \\n\"+\n     \"may be due to a slow or bad network connection. Possible fixes:\\n\"+\n     \"</p>\\n\"+\n     \"<ul>\\n\"+\n     \"<li>re-rerun `output_notebook()` to attempt to load from CDN again, or</li>\\n\"+\n     \"<li>use INLINE resources instead, as so:</li>\\n\"+\n     \"</ul>\\n\"+\n     \"<code>\\n\"+\n     \"from bokeh.resources import INLINE\\n\"+\n     \"output_notebook(resources=INLINE)\\n\"+\n     \"</code>\\n\"+\n     \"</div>\"}};\n\n  function display_loaded() {\n    var el = document.getElementById(\"1001\");\n    if (el != null) {\n      el.textContent = \"BokehJS is loading...\";\n    }\n    if (root.Bokeh !== undefined) {\n      if (el != null) {\n        el.textContent = \"BokehJS \" + root.Bokeh.version + \" successfully loaded.\";\n      }\n    } else if (Date.now() < root._bokeh_timeout) {\n      setTimeout(display_loaded, 100)\n    }\n  }\n\n\n  function run_callbacks() {\n    try {\n      root._bokeh_onload_callbacks.forEach(function(callback) {\n        if (callback != null)\n          callback();\n      });\n    } finally {\n      delete root._bokeh_onload_callbacks\n    }\n    console.debug(\"Bokeh: all callbacks have finished\");\n  }\n\n  function load_libs(css_urls, js_urls, callback) {\n    if (css_urls == null) css_urls = [];\n    if (js_urls == null) js_urls = [];\n\n    root._bokeh_onload_callbacks.push(callback);\n    if (root._bokeh_is_loading > 0) {\n      console.debug(\"Bokeh: BokehJS is being loaded, scheduling callback at\", now());\n      return null;\n    }\n    if (js_urls == null || js_urls.length === 0) {\n      run_callbacks();\n      return null;\n    }\n    console.debug(\"Bokeh: BokehJS not loaded, scheduling load and callback at\", now());\n    root._bokeh_is_loading = css_urls.length + js_urls.length;\n\n    function on_load() {\n      root._bokeh_is_loading--;\n      if (root._bokeh_is_loading === 0) {\n        console.debug(\"Bokeh: all BokehJS libraries/stylesheets loaded\");\n        run_callbacks()\n      }\n    }\n\n    function on_error() {\n      console.error(\"failed to load \" + url);\n    }\n\n    for (var i = 0; i < css_urls.length; i++) {\n      var url = css_urls[i];\n      const element = document.createElement(\"link\");\n      element.onload = on_load;\n      element.onerror = on_error;\n      element.rel = \"stylesheet\";\n      element.type = \"text/css\";\n      element.href = url;\n      console.debug(\"Bokeh: injecting link tag for BokehJS stylesheet: \", url);\n      document.body.appendChild(element);\n    }\n\n    const hashes = {\"https://cdn.bokeh.org/bokeh/release/bokeh-2.1.1.min.js\": \"kLr4fYcqcSpbuI95brIH3vnnYCquzzSxHPU6XGQCIkQRGJwhg0StNbj1eegrHs12\", \"https://cdn.bokeh.org/bokeh/release/bokeh-widgets-2.1.1.min.js\": \"xIGPmVtaOm+z0BqfSOMn4lOR6ciex448GIKG4eE61LsAvmGj48XcMQZtKcE/UXZe\", \"https://cdn.bokeh.org/bokeh/release/bokeh-tables-2.1.1.min.js\": \"Dc9u1wF/0zApGIWoBbH77iWEHtdmkuYWG839Uzmv8y8yBLXebjO9ZnERsde5Ln/P\", \"https://cdn.bokeh.org/bokeh/release/bokeh-gl-2.1.1.min.js\": \"cT9JaBz7GiRXdENrJLZNSC6eMNF3nh3fa5fTF51Svp+ukxPdwcU5kGXGPBgDCa2j\"};\n\n    for (var i = 0; i < js_urls.length; i++) {\n      var url = js_urls[i];\n      var element = document.createElement('script');\n      element.onload = on_load;\n      element.onerror = on_error;\n      element.async = false;\n      element.src = url;\n      if (url in hashes) {\n        element.crossOrigin = \"anonymous\";\n        element.integrity = \"sha384-\" + hashes[url];\n      }\n      console.debug(\"Bokeh: injecting script tag for BokehJS library: \", url);\n      document.head.appendChild(element);\n    }\n  };\n\n  function inject_raw_css(css) {\n    const element = document.createElement(\"style\");\n    element.appendChild(document.createTextNode(css));\n    document.body.appendChild(element);\n  }\n\n  \n  var js_urls = [\"https://cdn.bokeh.org/bokeh/release/bokeh-2.1.1.min.js\", \"https://cdn.bokeh.org/bokeh/release/bokeh-widgets-2.1.1.min.js\", \"https://cdn.bokeh.org/bokeh/release/bokeh-tables-2.1.1.min.js\", \"https://cdn.bokeh.org/bokeh/release/bokeh-gl-2.1.1.min.js\"];\n  var css_urls = [];\n  \n\n  var inline_js = [\n    function(Bokeh) {\n      Bokeh.set_log_level(\"info\");\n    },\n    function(Bokeh) {\n    \n    \n    }\n  ];\n\n  function run_inline_js() {\n    \n    if (root.Bokeh !== undefined || force === true) {\n      \n    for (var i = 0; i < inline_js.length; i++) {\n      inline_js[i].call(root, root.Bokeh);\n    }\n    if (force === true) {\n        display_loaded();\n      }} else if (Date.now() < root._bokeh_timeout) {\n      setTimeout(run_inline_js, 100);\n    } else if (!root._bokeh_failed_load) {\n      console.log(\"Bokeh: BokehJS failed to load within specified timeout.\");\n      root._bokeh_failed_load = true;\n    } else if (force !== true) {\n      var cell = $(document.getElementById(\"1001\")).parents('.cell').data().cell;\n      cell.output_area.append_execute_result(NB_LOAD_WARNING)\n    }\n\n  }\n\n  if (root._bokeh_is_loading === 0) {\n    console.debug(\"Bokeh: BokehJS loaded, going straight to plotting\");\n    run_inline_js();\n  } else {\n    load_libs(css_urls, js_urls, function() {\n      console.debug(\"Bokeh: BokehJS plotting callback run at\", now());\n      run_inline_js();\n    });\n  }\n}(window));"
          },
          "metadata": {}
        }
      ]
    },
    {
      "cell_type": "code",
      "metadata": {
        "id": "JtJl41hOwbDA",
        "colab_type": "code",
        "colab": {}
      },
      "source": [
        "subset_df = coords_df.sample(n=200)"
      ],
      "execution_count": 40,
      "outputs": []
    },
    {
      "cell_type": "code",
      "metadata": {
        "id": "3lYhUzzNwbYo",
        "colab_type": "code",
        "colab": {}
      },
      "source": [
        "p = figure(plot_width=800, plot_height=800)\n",
        "_ = p.text(x=subset_df.x, y=subset_df.y, text=subset_df.token)"
      ],
      "execution_count": 41,
      "outputs": []
    },
    {
      "cell_type": "code",
      "metadata": {
        "id": "MLKACyj1wc0X",
        "colab_type": "code",
        "colab": {
          "base_uri": "https://localhost:8080/",
          "height": 817
        },
        "outputId": "683bbfd0-26bb-4c76-c705-15071b8849df"
      },
      "source": [
        "show(p)"
      ],
      "execution_count": 42,
      "outputs": [
        {
          "output_type": "display_data",
          "data": {
            "text/html": "\n\n\n\n\n\n  <div class=\"bk-root\" id=\"f870a411-5ad1-488a-96d6-fcd2a1fafa5c\" data-root-id=\"1002\"></div>\n"
          },
          "metadata": {}
        },
        {
          "output_type": "display_data",
          "data": {
            "application/javascript": "(function(root) {\n  function embed_document(root) {\n    \n  var docs_json = {\"cf6ea2f6-75e0-469d-9bf7-12bc224dce56\":{\"roots\":{\"references\":[{\"attributes\":{\"below\":[{\"id\":\"1011\"}],\"center\":[{\"id\":\"1014\"},{\"id\":\"1018\"}],\"left\":[{\"id\":\"1015\"}],\"plot_height\":800,\"plot_width\":800,\"renderers\":[{\"id\":\"1036\"}],\"title\":{\"id\":\"1038\"},\"toolbar\":{\"id\":\"1026\"},\"x_range\":{\"id\":\"1003\"},\"x_scale\":{\"id\":\"1007\"},\"y_range\":{\"id\":\"1005\"},\"y_scale\":{\"id\":\"1009\"}},\"id\":\"1002\",\"subtype\":\"Figure\",\"type\":\"Plot\"},{\"attributes\":{},\"id\":\"1020\",\"type\":\"WheelZoomTool\"},{\"attributes\":{},\"id\":\"1044\",\"type\":\"Selection\"},{\"attributes\":{\"data\":{\"text\":[\"Counsellor\",\"honest\",\"beer\",\"flourish\",\"chapiters\",\"third\",\"Linnaeus\",\"practise\",\"/\",\"posture\",\"limpid\",\"princess\",\"nettles\",\"waste\",\"Lightfoot\",\"powder\",\"brazen\",\"rous\",\"connected\",\"reject\",\"stalks\",\"Greater\",\"fitted\",\"goods\",\"intrusion\",\"indecent\",\"expand\",\"mou\",\"commandment\",\"door\",\"Cawdor\",\"glimmering\",\"disguise\",\"useless\",\"headway\",\"Flood\",\"Being\",\"visits\",\"justification\",\"tossing\",\"canst\",\"Celestial\",\"mortar\",\"parched\",\"rarely\",\"carts\",\"Grammar\",\"Head\",\"vapours\",\"wish\",\"thrusting\",\"woof\",\"Enemy\",\"selling\",\"plunging\",\"conjectured\",\"fir\",\"inquired\",\"brass\",\"Michael\",\"borne\",\"Uriah\",\"Reuel\",\"burned\",\"intuitions\",\"Patagonian\",\"highest\",\"shining\",\"Gladly\",\"unconsciously\",\"artists\",\"TREE\",\"rang\",\"nourished\",\"sledge\",\"tide\",\"oftentimes\",\"unlock\",\"emptied\",\"reigning\",\"sweetest\",\"amid\",\"threaten\",\"Watching\",\"Nights\",\"summer\",\"unfolded\",\"bearest\",\"Cinna\",\"enquiring\",\"Seth\",\"slunk\",\"Ahab\",\"superficial\",\"tradition\",\"masts\",\"soever\",\"Walking\",\"haunted\",\"bill\",\"pate\",\"languages\",\"colt\",\"horrour\",\"lamb\",\"farm\",\"knight\",\"bewitching\",\"Lucky\",\"picturesque\",\"foresight\",\"seamen\",\"hermit\",\"Eglon\",\"Goose\",\"Andes\",\"volley\",\"chests\",\"...\\\"\",\"courses\",\"recurring\",\"finely\",\"methinks\",\"voices\",\"wait\",\"simpler\",\"meanness\",\"dismiss\",\"reminded\",\"wept\",\"insensible\",\"troubled\",\"alert\",\"bear\",\"mindful\",\"unsuitable\",\"Now\",\"contemptible\",\"rationality\",\"Passion\",\"Newes\",\"heal\",\"mistress\",\"key\",\"terrific\",\"usury\",\"squalid\",\"array\",\"Seest\",\"marrow\",\"bursting\",\"treason\",\"Ratcliffe\",\"hoe\",\"beds\",\"methought\",\"shy\",\"Canterbury\",\"maritime\",\"incredulous\",\"cats\",\"dispose\",\"steal\",\"extracts\",\"Anyhow\",\"tormented\",\"dreadful\",\"certainly\",\"seams\",\"sapphire\",\"haven\",\"dictionary\",\"Heiligwaldenstein\",\"pallid\",\"possessed\",\"Atheist_\",\"rational\",\"Ethiopia\",\"laver\",\"sing\",\"quick\",\"feareth\",\"dividing\",\"renewing\",\"preceding\",\"100\",\"knowest\",\"excursion\",\"beautifully\",\"sentimental\",\"scriptures\",\"ceasing\",\"heare\",\"lamentation\",\"touches\",\"Full\",\"Lightning\",\"indulge\",\"guided\",\"irons\"],\"x\":{\"__ndarray__\":\"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\",\"dtype\":\"float64\",\"order\":\"little\",\"shape\":[200]},\"y\":{\"__ndarray__\":\"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\",\"dtype\":\"float64\",\"order\":\"little\",\"shape\":[200]}},\"selected\":{\"id\":\"1044\"},\"selection_policy\":{\"id\":\"1045\"}},\"id\":\"1033\",\"type\":\"ColumnDataSource\"},{\"attributes\":{\"source\":{\"id\":\"1033\"}},\"id\":\"1037\",\"type\":\"CDSView\"},{\"attributes\":{},\"id\":\"1024\",\"type\":\"HelpTool\"},{\"attributes\":{},\"id\":\"1045\",\"type\":\"UnionRenderers\"},{\"attributes\":{\"overlay\":{\"id\":\"1025\"}},\"id\":\"1021\",\"type\":\"BoxZoomTool\"},{\"attributes\":{},\"id\":\"1022\",\"type\":\"SaveTool\"},{\"attributes\":{},\"id\":\"1023\",\"type\":\"ResetTool\"},{\"attributes\":{\"formatter\":{\"id\":\"1040\"},\"ticker\":{\"id\":\"1016\"}},\"id\":\"1015\",\"type\":\"LinearAxis\"},{\"attributes\":{},\"id\":\"1042\",\"type\":\"BasicTickFormatter\"},{\"attributes\":{\"text\":\"\"},\"id\":\"1038\",\"type\":\"Title\"},{\"attributes\":{},\"id\":\"1040\",\"type\":\"BasicTickFormatter\"},{\"attributes\":{\"text_color\":{\"value\":\"black\"},\"x\":{\"field\":\"x\"},\"y\":{\"field\":\"y\"}},\"id\":\"1034\",\"type\":\"Text\"},{\"attributes\":{},\"id\":\"1016\",\"type\":\"BasicTicker\"},{\"attributes\":{},\"id\":\"1009\",\"type\":\"LinearScale\"},{\"attributes\":{\"text_alpha\":{\"value\":0.1},\"text_color\":{\"value\":\"black\"},\"x\":{\"field\":\"x\"},\"y\":{\"field\":\"y\"}},\"id\":\"1035\",\"type\":\"Text\"},{\"attributes\":{\"bottom_units\":\"screen\",\"fill_alpha\":0.5,\"fill_color\":\"lightgrey\",\"left_units\":\"screen\",\"level\":\"overlay\",\"line_alpha\":1.0,\"line_color\":\"black\",\"line_dash\":[4,4],\"line_width\":2,\"right_units\":\"screen\",\"top_units\":\"screen\"},\"id\":\"1025\",\"type\":\"BoxAnnotation\"},{\"attributes\":{\"axis\":{\"id\":\"1015\"},\"dimension\":1,\"ticker\":null},\"id\":\"1018\",\"type\":\"Grid\"},{\"attributes\":{},\"id\":\"1005\",\"type\":\"DataRange1d\"},{\"attributes\":{},\"id\":\"1003\",\"type\":\"DataRange1d\"},{\"attributes\":{},\"id\":\"1007\",\"type\":\"LinearScale\"},{\"attributes\":{\"formatter\":{\"id\":\"1042\"},\"ticker\":{\"id\":\"1012\"}},\"id\":\"1011\",\"type\":\"LinearAxis\"},{\"attributes\":{\"data_source\":{\"id\":\"1033\"},\"glyph\":{\"id\":\"1034\"},\"hover_glyph\":null,\"muted_glyph\":null,\"nonselection_glyph\":{\"id\":\"1035\"},\"selection_glyph\":null,\"view\":{\"id\":\"1037\"}},\"id\":\"1036\",\"type\":\"GlyphRenderer\"},{\"attributes\":{},\"id\":\"1019\",\"type\":\"PanTool\"},{\"attributes\":{},\"id\":\"1012\",\"type\":\"BasicTicker\"},{\"attributes\":{\"active_drag\":\"auto\",\"active_inspect\":\"auto\",\"active_multi\":null,\"active_scroll\":\"auto\",\"active_tap\":\"auto\",\"tools\":[{\"id\":\"1019\"},{\"id\":\"1020\"},{\"id\":\"1021\"},{\"id\":\"1022\"},{\"id\":\"1023\"},{\"id\":\"1024\"}]},\"id\":\"1026\",\"type\":\"Toolbar\"},{\"attributes\":{\"axis\":{\"id\":\"1011\"},\"ticker\":null},\"id\":\"1014\",\"type\":\"Grid\"}],\"root_ids\":[\"1002\"]},\"title\":\"Bokeh Application\",\"version\":\"2.1.1\"}};\n  var render_items = [{\"docid\":\"cf6ea2f6-75e0-469d-9bf7-12bc224dce56\",\"root_ids\":[\"1002\"],\"roots\":{\"1002\":\"f870a411-5ad1-488a-96d6-fcd2a1fafa5c\"}}];\n  root.Bokeh.embed.embed_items_notebook(docs_json, render_items);\n\n  }\n  if (root.Bokeh !== undefined) {\n    embed_document(root);\n  } else {\n    var attempts = 0;\n    var timer = setInterval(function(root) {\n      if (root.Bokeh !== undefined) {\n        clearInterval(timer);\n        embed_document(root);\n      } else {\n        attempts++;\n        if (attempts > 100) {\n          clearInterval(timer);\n          console.log(\"Bokeh: ERROR: Unable to run BokehJS code because BokehJS library is missing\");\n        }\n      }\n    }, 10, root)\n  }\n})(window);",
            "application/vnd.bokehjs_exec.v0+json": ""
          },
          "metadata": {
            "application/vnd.bokehjs_exec.v0+json": {
              "id": "1002"
            }
          }
        }
      ]
    }
  ],
  "metadata": {
    "colab": {
      "name": "creating_word_vectors_with_word2vec.ipynb",
      "provenance": [],
      "collapsed_sections": []
    },
    "kernelspec": {
      "name": "python3",
      "display_name": "Python 3"
    },
    "accelerator": "GPU"
  },
  "nbformat": 4,
  "nbformat_minor": 0
}