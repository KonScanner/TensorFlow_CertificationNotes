{
  "nbformat": 4,
  "nbformat_minor": 0,
  "metadata": {
    "language_info": {
      "codemirror_mode": {
        "name": "ipython",
        "version": 3
      },
      "file_extension": ".py",
      "mimetype": "text/x-python",
      "name": "python",
      "nbconvert_exporter": "python",
      "pygments_lexer": "ipython3",
      "version": "3.8.3-final"
    },
    "orig_nbformat": 2,
    "kernelspec": {
      "name": "python38164bit0942e7715c2041d4a9221d3e47caa33a",
      "display_name": "Python 3.8.1 64-bit"
    },
    "colab": {
      "name": "LeNet5-modified.ipynb",
      "provenance": [],
      "collapsed_sections": []
    },
    "accelerator": "GPU"
  },
  "cells": [
    {
      "cell_type": "markdown",
      "metadata": {
        "id": "iQxf61iVBH-j",
        "colab_type": "text"
      },
      "source": [
        "# LeNet-5 (modified)\n",
        "### More kernels in 2 conv layers of architecture\n",
        "32/64 instead of 6/16\n",
        "### Utilize ReLu and Dropout\n"
      ]
    },
    {
      "cell_type": "code",
      "metadata": {
        "id": "83brNcwoBH-k",
        "colab_type": "code",
        "colab": {}
      },
      "source": [
        "import tensorflow\n",
        "from tensorflow.keras.datasets import mnist\n",
        "from tensorflow.keras.utils import to_categorical\n",
        "from tensorflow.keras.models import Sequential\n",
        "from tensorflow.keras.layers import Dense, Dropout, BatchNormalization, Conv2D, MaxPooling2D, Flatten\n",
        "import logging\n",
        "logging.disable(logging.WARNING)"
      ],
      "execution_count": 1,
      "outputs": []
    },
    {
      "cell_type": "code",
      "metadata": {
        "id": "dz7gD0OTBH-n",
        "colab_type": "code",
        "colab": {
          "base_uri": "https://localhost:8080/",
          "height": 51
        },
        "outputId": "045a64a3-d458-4803-c922-fbad35903eac"
      },
      "source": [
        "(x_train, y_train), (x_validation, y_validation)  = mnist.load_data()"
      ],
      "execution_count": 2,
      "outputs": [
        {
          "output_type": "stream",
          "text": [
            "Downloading data from https://storage.googleapis.com/tensorflow/tf-keras-datasets/mnist.npz\n",
            "11493376/11490434 [==============================] - 0s 0us/step\n"
          ],
          "name": "stdout"
        }
      ]
    },
    {
      "cell_type": "code",
      "metadata": {
        "id": "zPYHoNSMBH-p",
        "colab_type": "code",
        "colab": {}
      },
      "source": [
        "# Reshaping\n",
        "x_train = x_train.reshape(60000, 28, 28, 1).astype('float32') # last bit is 1 (monochromatic)\n",
        "x_validation = x_validation.reshape(10000, 28, 28, 1).astype('float32')\n",
        "\n",
        "# Normalizing\n",
        "x_train /= 255\n",
        "x_validation /=255\n",
        "\n",
        "# One hot encoding (binarization of labels, ideal output)\n",
        "n_classes = 10\n",
        "y_train = to_categorical(y_train, n_classes)\n",
        "y_validation = to_categorical(y_validation, n_classes)"
      ],
      "execution_count": 3,
      "outputs": []
    },
    {
      "cell_type": "code",
      "metadata": {
        "tags": [],
        "id": "hDjgo_-oBH-r",
        "colab_type": "code",
        "colab": {
          "base_uri": "https://localhost:8080/",
          "height": 425
        },
        "outputId": "7a09fd9d-abc9-4046-a687-5f76ffc8d2b3"
      },
      "source": [
        "model = Sequential()\n",
        "\n",
        "# First Hidden Layer\n",
        "model.add(Conv2D(32,kernel_size=(3,3), activation='relu',input_shape=(28,28,1))) # kenrel size = filter size\n",
        "\n",
        "# Second Hidden Layer\n",
        "model.add(Conv2D(64, kernel_size=(3,3), activation='relu',input_shape=(28,28,1))) # more complex representations\n",
        "model.add(MaxPooling2D(pool_size=(2,2), strides=(1,1))) # Filter of 2x2 Every 4 - output 1\n",
        "model.add(Dropout(0.25))\n",
        "model.add(Flatten())\n",
        "\n",
        "# Third Hidden Layer\n",
        "model.add(Dense(128,activation='relu'))\n",
        "model.add(Dropout(0.5))\n",
        "\n",
        "# Output Layer\n",
        "model.add(Dense(10, activation='softmax'))\n",
        "\n",
        "model.summary()"
      ],
      "execution_count": 4,
      "outputs": [
        {
          "output_type": "stream",
          "text": [
            "Model: \"sequential\"\n",
            "_________________________________________________________________\n",
            "Layer (type)                 Output Shape              Param #   \n",
            "=================================================================\n",
            "conv2d (Conv2D)              (None, 26, 26, 32)        320       \n",
            "_________________________________________________________________\n",
            "conv2d_1 (Conv2D)            (None, 24, 24, 64)        18496     \n",
            "_________________________________________________________________\n",
            "max_pooling2d (MaxPooling2D) (None, 23, 23, 64)        0         \n",
            "_________________________________________________________________\n",
            "dropout (Dropout)            (None, 23, 23, 64)        0         \n",
            "_________________________________________________________________\n",
            "flatten (Flatten)            (None, 33856)             0         \n",
            "_________________________________________________________________\n",
            "dense (Dense)                (None, 128)               4333696   \n",
            "_________________________________________________________________\n",
            "dropout_1 (Dropout)          (None, 128)               0         \n",
            "_________________________________________________________________\n",
            "dense_1 (Dense)              (None, 10)                1290      \n",
            "=================================================================\n",
            "Total params: 4,353,802\n",
            "Trainable params: 4,353,802\n",
            "Non-trainable params: 0\n",
            "_________________________________________________________________\n"
          ],
          "name": "stdout"
        }
      ]
    },
    {
      "cell_type": "code",
      "metadata": {
        "id": "kBWFbBUeBH-u",
        "colab_type": "code",
        "colab": {}
      },
      "source": [
        "model.compile(loss='categorical_crossentropy', optimizer='nadam', metrics=['accuracy'])"
      ],
      "execution_count": 5,
      "outputs": []
    },
    {
      "cell_type": "code",
      "metadata": {
        "tags": [],
        "id": "NCsycatmBH-x",
        "colab_type": "code",
        "colab": {
          "base_uri": "https://localhost:8080/",
          "height": 374
        },
        "outputId": "f2c233d6-ff98-4d20-a962-6ede1e749c7a"
      },
      "source": [
        "model.fit(x_train, y_train, batch_size=128, epochs=10, verbose=1, validation_data=(x_validation,y_validation))"
      ],
      "execution_count": 6,
      "outputs": [
        {
          "output_type": "stream",
          "text": [
            "Epoch 1/10\n",
            "469/469 [==============================] - 13s 27ms/step - loss: 0.1881 - accuracy: 0.9434 - val_loss: 0.0431 - val_accuracy: 0.9856\n",
            "Epoch 2/10\n",
            "469/469 [==============================] - 12s 26ms/step - loss: 0.0707 - accuracy: 0.9788 - val_loss: 0.0334 - val_accuracy: 0.9891\n",
            "Epoch 3/10\n",
            "469/469 [==============================] - 12s 26ms/step - loss: 0.0514 - accuracy: 0.9840 - val_loss: 0.0294 - val_accuracy: 0.9899\n",
            "Epoch 4/10\n",
            "469/469 [==============================] - 12s 26ms/step - loss: 0.0401 - accuracy: 0.9881 - val_loss: 0.0320 - val_accuracy: 0.9901\n",
            "Epoch 5/10\n",
            "469/469 [==============================] - 12s 26ms/step - loss: 0.0375 - accuracy: 0.9886 - val_loss: 0.0297 - val_accuracy: 0.9909\n",
            "Epoch 6/10\n",
            "469/469 [==============================] - 12s 26ms/step - loss: 0.0291 - accuracy: 0.9912 - val_loss: 0.0253 - val_accuracy: 0.9922\n",
            "Epoch 7/10\n",
            "469/469 [==============================] - 12s 26ms/step - loss: 0.0255 - accuracy: 0.9920 - val_loss: 0.0272 - val_accuracy: 0.9928\n",
            "Epoch 8/10\n",
            "469/469 [==============================] - 12s 26ms/step - loss: 0.0227 - accuracy: 0.9930 - val_loss: 0.0246 - val_accuracy: 0.9930\n",
            "Epoch 9/10\n",
            "469/469 [==============================] - 12s 26ms/step - loss: 0.0201 - accuracy: 0.9935 - val_loss: 0.0284 - val_accuracy: 0.9927\n",
            "Epoch 10/10\n",
            "469/469 [==============================] - 12s 26ms/step - loss: 0.0191 - accuracy: 0.9936 - val_loss: 0.0301 - val_accuracy: 0.9925\n"
          ],
          "name": "stdout"
        },
        {
          "output_type": "execute_result",
          "data": {
            "text/plain": [
              "<tensorflow.python.keras.callbacks.History at 0x7f16a9de6ac8>"
            ]
          },
          "metadata": {
            "tags": []
          },
          "execution_count": 6
        }
      ]
    },
    {
      "cell_type": "markdown",
      "metadata": {
        "id": "_nM2HcaKBH-0",
        "colab_type": "text"
      },
      "source": [
        "## Inference"
      ]
    },
    {
      "cell_type": "code",
      "metadata": {
        "id": "xZutx2fuBH-0",
        "colab_type": "code",
        "colab": {
          "base_uri": "https://localhost:8080/",
          "height": 34
        },
        "outputId": "8fb7a747-c848-4139-e39a-98e874c1c736"
      },
      "source": [
        "valid_0 = x_validation[0].reshape(1, 28, 28, 1)\n",
        "model.predict(valid_0)\n",
        "model.predict_classes(valid_0)"
      ],
      "execution_count": 13,
      "outputs": [
        {
          "output_type": "execute_result",
          "data": {
            "text/plain": [
              "array([7])"
            ]
          },
          "metadata": {
            "tags": []
          },
          "execution_count": 13
        }
      ]
    },
    {
      "cell_type": "code",
      "metadata": {
        "id": "-WZoWFrhCFal",
        "colab_type": "code",
        "colab": {}
      },
      "source": [
        ""
      ],
      "execution_count": null,
      "outputs": []
    }
  ]
}