{
 "cells": [
  {
   "cell_type": "code",
   "execution_count": 1,
   "metadata": {},
   "outputs": [],
   "source": [
    "import tensorflow as tf\n",
    "from tensorflow import keras\n",
    "from tensorflow.keras.preprocessing.text import Tokenizer"
   ]
  },
  {
   "cell_type": "code",
   "execution_count": 2,
   "metadata": {},
   "outputs": [],
   "source": [
    "sentences = [\n",
    "    \"i love my dog!\",\n",
    "    \"I love my cat\",\n",
    "    \"my dog loves me\",\n",
    "    \"my cat does not love me\",\n",
    "    \"You love my dog!\",\n",
    "    \"Do you not think my dog is amazing?\"\n",
    "]"
   ]
  },
  {
   "cell_type": "markdown",
   "metadata": {},
   "source": [
    "## Create Tokenizer instance\n",
    "`num_words` = 100 are the unique distinct words in some text, in this case `sentences`. \n",
    "`oov_token` takes care of unseen words"
   ]
  },
  {
   "cell_type": "code",
   "execution_count": 3,
   "metadata": {},
   "outputs": [],
   "source": [
    "tokenizer = Tokenizer(num_words=100, oov_token=\"<OOV>\")\n",
    "tokenizer.fit_on_texts(sentences)"
   ]
  },
  {
   "cell_type": "code",
   "execution_count": 4,
   "metadata": {},
   "outputs": [],
   "source": [
    "word_index = tokenizer.word_index"
   ]
  },
  {
   "cell_type": "code",
   "execution_count": 5,
   "metadata": {
    "tags": []
   },
   "outputs": [
    {
     "output_type": "stream",
     "name": "stdout",
     "text": "{'<OOV>': 1, 'my': 2, 'love': 3, 'dog': 4, 'i': 5, 'cat': 6, 'me': 7, 'not': 8, 'you': 9, 'loves': 10, 'does': 11, 'do': 12, 'think': 13, 'is': 14, 'amazing': 15}\n"
    }
   ],
   "source": [
    "print(word_index) # Notice case insensitive"
   ]
  },
  {
   "cell_type": "code",
   "execution_count": 6,
   "metadata": {},
   "outputs": [],
   "source": [
    "sequences = tokenizer.texts_to_sequences(sentences)"
   ]
  },
  {
   "cell_type": "code",
   "execution_count": 7,
   "metadata": {
    "tags": []
   },
   "outputs": [
    {
     "output_type": "stream",
     "name": "stdout",
     "text": "[[5, 3, 2, 4], [5, 3, 2, 6], [2, 4, 10, 7], [2, 6, 11, 8, 3, 7], [9, 3, 2, 4], [12, 9, 8, 13, 2, 4, 14, 15]]\n"
    }
   ],
   "source": [
    "print(sequences) # Tokens replacing the words"
   ]
  },
  {
   "cell_type": "code",
   "execution_count": 8,
   "metadata": {},
   "outputs": [],
   "source": [
    "test_data = [\"I really love my dog\",\n",
    "\"my dog really loves my sandals\"]"
   ]
  },
  {
   "cell_type": "code",
   "execution_count": 9,
   "metadata": {
    "tags": []
   },
   "outputs": [
    {
     "output_type": "stream",
     "name": "stdout",
     "text": "[[5, 1, 3, 2, 4], [2, 4, 1, 10, 2, 1]]\n"
    }
   ],
   "source": [
    "test_seq = tokenizer.texts_to_sequences(test_data) # need to tokenize test data\n",
    "print(test_seq) "
   ]
  },
  {
   "cell_type": "code",
   "execution_count": null,
   "metadata": {},
   "outputs": [],
   "source": []
  }
 ],
 "metadata": {
  "language_info": {
   "codemirror_mode": {
    "name": "ipython",
    "version": 3
   },
   "file_extension": ".py",
   "mimetype": "text/x-python",
   "name": "python",
   "nbconvert_exporter": "python",
   "pygments_lexer": "ipython3",
   "version": "3.8.3-final"
  },
  "orig_nbformat": 2,
  "kernelspec": {
   "name": "python38164bit0942e7715c2041d4a9221d3e47caa33a",
   "display_name": "Python 3.8.1 64-bit"
  }
 },
 "nbformat": 4,
 "nbformat_minor": 2
}