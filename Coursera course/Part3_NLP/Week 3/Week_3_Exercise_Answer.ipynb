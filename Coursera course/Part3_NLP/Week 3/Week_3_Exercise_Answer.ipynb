{
  "nbformat": 4,
  "nbformat_minor": 0,
  "metadata": {
    "accelerator": "TPU",
    "colab": {
      "name": "NLP Course - Week 3 Exercise Answer.ipynb",
      "provenance": [],
      "toc_visible": true
    },
    "kernelspec": {
      "display_name": "Python 3",
      "language": "python",
      "name": "python3"
    },
    "language_info": {
      "codemirror_mode": {
        "name": "ipython",
        "version": 3
      },
      "file_extension": ".py",
      "mimetype": "text/x-python",
      "name": "python",
      "nbconvert_exporter": "python",
      "pygments_lexer": "ipython3",
      "version": "3.7.6"
    }
  },
  "cells": [
    {
      "cell_type": "code",
      "metadata": {
        "colab_type": "code",
        "id": "zX4Kg8DUTKWO",
        "colab": {}
      },
      "source": [
        "#@title Licensed under the Apache License, Version 2.0 (the \"License\");\n",
        "# you may not use this file except in compliance with the License.\n",
        "# You may obtain a copy of the License at\n",
        "#\n",
        "# https://www.apache.org/licenses/LICENSE-2.0\n",
        "#\n",
        "# Unless required by applicable law or agreed to in writing, software\n",
        "# distributed under the License is distributed on an \"AS IS\" BASIS,\n",
        "# WITHOUT WARRANTIES OR CONDITIONS OF ANY KIND, either express or implied.\n",
        "# See the License for the specific language governing permissions and\n",
        "# limitations under the License."
      ],
      "execution_count": 1,
      "outputs": []
    },
    {
      "cell_type": "markdown",
      "metadata": {
        "id": "FKIkdE3ZExDM",
        "colab_type": "text"
      },
      "source": [
        "<a href=\"https://colab.research.google.com/github/lmoroney/dlaicourse/blob/master/TensorFlow%20In%20Practice/Course%203%20-%20NLP/NLP%20Course%20-%20Week%203%20Exercise%20Answer.ipynb\" target=\"_parent\"><img src=\"https://colab.research.google.com/assets/colab-badge.svg\" alt=\"Open In Colab\"/></a>"
      ]
    },
    {
      "cell_type": "code",
      "metadata": {
        "colab_type": "code",
        "id": "hmA6EzkQJ5jt",
        "colab": {}
      },
      "source": [
        "import json\n",
        "import tensorflow as tf\n",
        "import csv\n",
        "import random\n",
        "import numpy as np\n",
        "\n",
        "from tensorflow.keras.preprocessing.text import Tokenizer\n",
        "from tensorflow.keras.preprocessing.sequence import pad_sequences\n",
        "from tensorflow.keras.utils import to_categorical\n",
        "from tensorflow.keras import regularizers\n",
        "\n",
        "\n",
        "embedding_dim = 100\n",
        "max_length = 16\n",
        "trunc_type='post'\n",
        "padding_type='post'\n",
        "oov_tok = \"<OOV>\"\n",
        "training_size=160000\n",
        "test_portion=.1\n",
        "\n",
        "corpus = []\n"
      ],
      "execution_count": 2,
      "outputs": []
    },
    {
      "cell_type": "code",
      "metadata": {
        "colab_type": "code",
        "id": "bM0l_dORKqE0",
        "colab": {
          "base_uri": "https://localhost:8080/",
          "height": 204
        },
        "outputId": "4d368d5e-5553-426c-84f3-8acf53ddda4f"
      },
      "source": [
        "# Note that I cleaned the Stanford dataset to remove LATIN1 encoding to make it easier for Python CSV reader\n",
        "# You can do that yourself with:\n",
        "# iconv -f LATIN1 -t UTF8 training.1600000.processed.noemoticon.csv -o training_cleaned.csv\n",
        "# I then hosted it on my site to make it easier to use in this notebook\n",
        "\n",
        "!wget --no-check-certificate \\\n",
        "    https://storage.googleapis.com/laurencemoroney-blog.appspot.com/training_cleaned.csv \\\n",
        "    -O /tmp/training_cleaned.csv\n",
        "\n",
        "num_sentences = 0\n",
        "\n",
        "with open(\"/tmp/training_cleaned.csv\") as csvfile:\n",
        "    reader = csv.reader(csvfile, delimiter=',')\n",
        "    for row in reader:\n",
        "        list_item=[]\n",
        "        list_item.append(row[5])\n",
        "        this_label=row[0]\n",
        "        if this_label=='0':\n",
        "            list_item.append(0)\n",
        "        else:\n",
        "            list_item.append(1)\n",
        "        num_sentences = num_sentences + 1\n",
        "        corpus.append(list_item)\n"
      ],
      "execution_count": 3,
      "outputs": [
        {
          "output_type": "stream",
          "text": [
            "--2020-07-18 13:18:30--  https://storage.googleapis.com/laurencemoroney-blog.appspot.com/training_cleaned.csv\n",
            "Resolving storage.googleapis.com (storage.googleapis.com)... 172.217.212.128, 172.217.214.128, 142.250.1.128, ...\n",
            "Connecting to storage.googleapis.com (storage.googleapis.com)|172.217.212.128|:443... connected.\n",
            "HTTP request sent, awaiting response... 200 OK\n",
            "Length: 238942690 (228M) [application/octet-stream]\n",
            "Saving to: ‘/tmp/training_cleaned.csv’\n",
            "\n",
            "/tmp/training_clean 100%[===================>] 227.87M   151MB/s    in 1.5s    \n",
            "\n",
            "2020-07-18 13:18:32 (151 MB/s) - ‘/tmp/training_cleaned.csv’ saved [238942690/238942690]\n",
            "\n"
          ],
          "name": "stdout"
        }
      ]
    },
    {
      "cell_type": "code",
      "metadata": {
        "colab_type": "code",
        "id": "3kxblBUjEUX-",
        "colab": {
          "base_uri": "https://localhost:8080/",
          "height": 68
        },
        "outputId": "5d5daa82-c2a1-4e36-ccd9-65df4b2ed97b"
      },
      "source": [
        "print(num_sentences)\n",
        "print(len(corpus))\n",
        "print(corpus[1])\n",
        "\n",
        "# Expected Output:\n",
        "# 1600000\n",
        "# 1600000\n",
        "# [\"is upset that he can't update his Facebook by texting it... and might cry as a result  School today also. Blah!\", 0]"
      ],
      "execution_count": 4,
      "outputs": [
        {
          "output_type": "stream",
          "text": [
            "1600000\n",
            "1600000\n",
            "[\"is upset that he can't update his Facebook by texting it... and might cry as a result  School today also. Blah!\", 0]\n"
          ],
          "name": "stdout"
        }
      ]
    },
    {
      "cell_type": "code",
      "metadata": {
        "colab_type": "code",
        "id": "ohOGz24lsNAD",
        "colab": {}
      },
      "source": [
        "sentences=[]\n",
        "labels=[]\n",
        "random.shuffle(corpus)\n",
        "for x in range(training_size):\n",
        "    sentences.append(corpus[x][0])\n",
        "    labels.append(corpus[x][1])\n",
        "\n",
        "\n",
        "tokenizer = Tokenizer()\n",
        "tokenizer.fit_on_texts(sentences)\n",
        "\n",
        "word_index = tokenizer.word_index\n",
        "vocab_size=len(word_index)\n",
        "\n",
        "sequences = tokenizer.texts_to_sequences(sentences)\n",
        "padded = pad_sequences(sequences, maxlen=max_length, padding=padding_type, truncating=trunc_type)\n",
        "\n",
        "split = int(test_portion * training_size)\n",
        "\n",
        "test_sequences = padded[0:split]\n",
        "training_sequences = padded[split:training_size]\n",
        "test_labels = labels[0:split]\n",
        "training_labels = labels[split:training_size]"
      ],
      "execution_count": 5,
      "outputs": []
    },
    {
      "cell_type": "code",
      "metadata": {
        "colab_type": "code",
        "id": "gIrtRem1En3N",
        "colab": {
          "base_uri": "https://localhost:8080/",
          "height": 51
        },
        "outputId": "fb9ced40-4500-4778-a14d-c31b4f9ac833"
      },
      "source": [
        "print(vocab_size)\n",
        "print(word_index['i'])\n",
        "# Expected Output\n",
        "# 138858\n",
        "# 1"
      ],
      "execution_count": 6,
      "outputs": [
        {
          "output_type": "stream",
          "text": [
            "138361\n",
            "1\n"
          ],
          "name": "stdout"
        }
      ]
    },
    {
      "cell_type": "code",
      "metadata": {
        "colab_type": "code",
        "id": "C1zdgJkusRh0",
        "colab": {
          "base_uri": "https://localhost:8080/",
          "height": 204
        },
        "outputId": "da756a17-cb26-4cd7-dea8-cb661d421cb6"
      },
      "source": [
        "# Note this is the 100 dimension version of GloVe from Stanford\n",
        "# I unzipped and hosted it on my site to make this notebook easier\n",
        "!wget --no-check-certificate \\\n",
        "    https://storage.googleapis.com/laurencemoroney-blog.appspot.com/glove.6B.100d.txt \\\n",
        "    -O /tmp/glove.6B.100d.txt\n",
        "embeddings_index = {};\n",
        "with open('/tmp/glove.6B.100d.txt') as f:\n",
        "    for line in f:\n",
        "        values = line.split();\n",
        "        word = values[0];\n",
        "        coefs = np.asarray(values[1:], dtype='float32');\n",
        "        embeddings_index[word] = coefs;\n",
        "\n",
        "embeddings_matrix = np.zeros((vocab_size+1, embedding_dim));\n",
        "for word, i in word_index.items():\n",
        "    embedding_vector = embeddings_index.get(word);\n",
        "    if embedding_vector is not None:\n",
        "        embeddings_matrix[i] = embedding_vector;"
      ],
      "execution_count": 7,
      "outputs": [
        {
          "output_type": "stream",
          "text": [
            "--2020-07-18 13:18:47--  https://storage.googleapis.com/laurencemoroney-blog.appspot.com/glove.6B.100d.txt\n",
            "Resolving storage.googleapis.com (storage.googleapis.com)... 172.217.212.128, 172.217.214.128, 108.177.111.128, ...\n",
            "Connecting to storage.googleapis.com (storage.googleapis.com)|172.217.212.128|:443... connected.\n",
            "HTTP request sent, awaiting response... 200 OK\n",
            "Length: 347116733 (331M) [text/plain]\n",
            "Saving to: ‘/tmp/glove.6B.100d.txt’\n",
            "\n",
            "/tmp/glove.6B.100d. 100%[===================>] 331.04M   125MB/s    in 2.7s    \n",
            "\n",
            "2020-07-18 13:18:50 (125 MB/s) - ‘/tmp/glove.6B.100d.txt’ saved [347116733/347116733]\n",
            "\n"
          ],
          "name": "stdout"
        }
      ]
    },
    {
      "cell_type": "code",
      "metadata": {
        "colab_type": "code",
        "id": "71NLk_lpFLNt",
        "colab": {
          "base_uri": "https://localhost:8080/",
          "height": 34
        },
        "outputId": "e4772edb-ab90-4fbf-b7ca-a2b7f80e2ea7"
      },
      "source": [
        "print(len(embeddings_matrix))\n",
        "# Expected Output\n",
        "# 138859"
      ],
      "execution_count": 8,
      "outputs": [
        {
          "output_type": "stream",
          "text": [
            "138362\n"
          ],
          "name": "stdout"
        }
      ]
    },
    {
      "cell_type": "code",
      "metadata": {
        "colab_type": "code",
        "id": "iKKvbuEBOGFz",
        "colab": {
          "base_uri": "https://localhost:8080/",
          "height": 1000
        },
        "outputId": "d160f803-776f-4a19-8474-a3ccc27a128b"
      },
      "source": [
        "model = tf.keras.Sequential([\n",
        "    tf.keras.layers.Embedding(vocab_size+1, embedding_dim, input_length=max_length, weights=[embeddings_matrix], trainable=False),\n",
        "    tf.keras.layers.Dropout(0.2),\n",
        "    tf.keras.layers.Conv1D(64, 5, activation='relu'),\n",
        "    tf.keras.layers.MaxPooling1D(pool_size=4),\n",
        "    tf.keras.layers.LSTM(64),\n",
        "    tf.keras.layers.Dense(1, activation='sigmoid')\n",
        "])\n",
        "model.compile(loss='binary_crossentropy',optimizer='adam',metrics=['accuracy'])\n",
        "model.summary()\n",
        "\n",
        "num_epochs = 50\n",
        "\n",
        "training_padded = np.array(training_sequences)\n",
        "training_labels = np.array(training_labels)\n",
        "testing_padded = np.array(test_sequences)\n",
        "testing_labels = np.array(test_labels)\n",
        "\n",
        "history = model.fit(training_padded, training_labels, epochs=num_epochs, validation_data=(testing_padded, testing_labels), verbose=1)\n",
        "\n",
        "print(\"Training Complete\")"
      ],
      "execution_count": 10,
      "outputs": [
        {
          "output_type": "stream",
          "text": [
            "Model: \"sequential_1\"\n",
            "_________________________________________________________________\n",
            "Layer (type)                 Output Shape              Param #   \n",
            "=================================================================\n",
            "embedding_1 (Embedding)      (None, 16, 100)           13836200  \n",
            "_________________________________________________________________\n",
            "dropout_1 (Dropout)          (None, 16, 100)           0         \n",
            "_________________________________________________________________\n",
            "conv1d_1 (Conv1D)            (None, 12, 64)            32064     \n",
            "_________________________________________________________________\n",
            "max_pooling1d_1 (MaxPooling1 (None, 3, 64)             0         \n",
            "_________________________________________________________________\n",
            "lstm_1 (LSTM)                (None, 64)                33024     \n",
            "_________________________________________________________________\n",
            "dense_1 (Dense)              (None, 1)                 65        \n",
            "=================================================================\n",
            "Total params: 13,901,353\n",
            "Trainable params: 65,153\n",
            "Non-trainable params: 13,836,200\n",
            "_________________________________________________________________\n",
            "Epoch 1/50\n",
            "4500/4500 [==============================] - 34s 7ms/step - loss: 0.5673 - accuracy: 0.7009 - val_loss: 0.5231 - val_accuracy: 0.7297\n",
            "Epoch 2/50\n",
            "4500/4500 [==============================] - 33s 7ms/step - loss: 0.5288 - accuracy: 0.7301 - val_loss: 0.5238 - val_accuracy: 0.7344\n",
            "Epoch 3/50\n",
            "4500/4500 [==============================] - 32s 7ms/step - loss: 0.5097 - accuracy: 0.7446 - val_loss: 0.4990 - val_accuracy: 0.7553\n",
            "Epoch 4/50\n",
            "4500/4500 [==============================] - 33s 7ms/step - loss: 0.4987 - accuracy: 0.7524 - val_loss: 0.5038 - val_accuracy: 0.7504\n",
            "Epoch 5/50\n",
            "4500/4500 [==============================] - 32s 7ms/step - loss: 0.4893 - accuracy: 0.7590 - val_loss: 0.5008 - val_accuracy: 0.7542\n",
            "Epoch 6/50\n",
            "4500/4500 [==============================] - 32s 7ms/step - loss: 0.4836 - accuracy: 0.7631 - val_loss: 0.4926 - val_accuracy: 0.7582\n",
            "Epoch 7/50\n",
            "4500/4500 [==============================] - 31s 7ms/step - loss: 0.4759 - accuracy: 0.7677 - val_loss: 0.4970 - val_accuracy: 0.7574\n",
            "Epoch 8/50\n",
            "4500/4500 [==============================] - 31s 7ms/step - loss: 0.4725 - accuracy: 0.7691 - val_loss: 0.4950 - val_accuracy: 0.7524\n",
            "Epoch 9/50\n",
            "4500/4500 [==============================] - 32s 7ms/step - loss: 0.4668 - accuracy: 0.7731 - val_loss: 0.4986 - val_accuracy: 0.7544\n",
            "Epoch 10/50\n",
            "4500/4500 [==============================] - 32s 7ms/step - loss: 0.4638 - accuracy: 0.7754 - val_loss: 0.4956 - val_accuracy: 0.7538\n",
            "Epoch 11/50\n",
            "4500/4500 [==============================] - 31s 7ms/step - loss: 0.4600 - accuracy: 0.7775 - val_loss: 0.4931 - val_accuracy: 0.7556\n",
            "Epoch 12/50\n",
            "4500/4500 [==============================] - 31s 7ms/step - loss: 0.4578 - accuracy: 0.7787 - val_loss: 0.4979 - val_accuracy: 0.7564\n",
            "Epoch 13/50\n",
            "4500/4500 [==============================] - 30s 7ms/step - loss: 0.4555 - accuracy: 0.7793 - val_loss: 0.4999 - val_accuracy: 0.7502\n",
            "Epoch 14/50\n",
            "4500/4500 [==============================] - 32s 7ms/step - loss: 0.4530 - accuracy: 0.7822 - val_loss: 0.5010 - val_accuracy: 0.7527\n",
            "Epoch 15/50\n",
            "4500/4500 [==============================] - 31s 7ms/step - loss: 0.4506 - accuracy: 0.7816 - val_loss: 0.5002 - val_accuracy: 0.7525\n",
            "Epoch 16/50\n",
            "4500/4500 [==============================] - 31s 7ms/step - loss: 0.4487 - accuracy: 0.7838 - val_loss: 0.5012 - val_accuracy: 0.7511\n",
            "Epoch 17/50\n",
            "4500/4500 [==============================] - 31s 7ms/step - loss: 0.4471 - accuracy: 0.7844 - val_loss: 0.5039 - val_accuracy: 0.7523\n",
            "Epoch 18/50\n",
            "4500/4500 [==============================] - 31s 7ms/step - loss: 0.4462 - accuracy: 0.7853 - val_loss: 0.5036 - val_accuracy: 0.7514\n",
            "Epoch 19/50\n",
            "4500/4500 [==============================] - 32s 7ms/step - loss: 0.4450 - accuracy: 0.7863 - val_loss: 0.5068 - val_accuracy: 0.7523\n",
            "Epoch 20/50\n",
            "4500/4500 [==============================] - 31s 7ms/step - loss: 0.4431 - accuracy: 0.7868 - val_loss: 0.5018 - val_accuracy: 0.7522\n",
            "Epoch 21/50\n",
            "4500/4500 [==============================] - 32s 7ms/step - loss: 0.4398 - accuracy: 0.7895 - val_loss: 0.5106 - val_accuracy: 0.7515\n",
            "Epoch 22/50\n",
            "4500/4500 [==============================] - 31s 7ms/step - loss: 0.4411 - accuracy: 0.7893 - val_loss: 0.5118 - val_accuracy: 0.7485\n",
            "Epoch 23/50\n",
            "4500/4500 [==============================] - 31s 7ms/step - loss: 0.4383 - accuracy: 0.7895 - val_loss: 0.5119 - val_accuracy: 0.7510\n",
            "Epoch 24/50\n",
            "4500/4500 [==============================] - 32s 7ms/step - loss: 0.4378 - accuracy: 0.7901 - val_loss: 0.5130 - val_accuracy: 0.7449\n",
            "Epoch 25/50\n",
            "4500/4500 [==============================] - 31s 7ms/step - loss: 0.4386 - accuracy: 0.7897 - val_loss: 0.5118 - val_accuracy: 0.7511\n",
            "Epoch 26/50\n",
            "4500/4500 [==============================] - 31s 7ms/step - loss: 0.4373 - accuracy: 0.7908 - val_loss: 0.5117 - val_accuracy: 0.7492\n",
            "Epoch 27/50\n",
            "4500/4500 [==============================] - 31s 7ms/step - loss: 0.4335 - accuracy: 0.7937 - val_loss: 0.5076 - val_accuracy: 0.7469\n",
            "Epoch 28/50\n",
            "4500/4500 [==============================] - 35s 8ms/step - loss: 0.4351 - accuracy: 0.7915 - val_loss: 0.5169 - val_accuracy: 0.7476\n",
            "Epoch 29/50\n",
            "4500/4500 [==============================] - 31s 7ms/step - loss: 0.4336 - accuracy: 0.7935 - val_loss: 0.5148 - val_accuracy: 0.7497\n",
            "Epoch 30/50\n",
            "4500/4500 [==============================] - 31s 7ms/step - loss: 0.4338 - accuracy: 0.7931 - val_loss: 0.5120 - val_accuracy: 0.7470\n",
            "Epoch 31/50\n",
            "4500/4500 [==============================] - 31s 7ms/step - loss: 0.4330 - accuracy: 0.7942 - val_loss: 0.5171 - val_accuracy: 0.7469\n",
            "Epoch 32/50\n",
            "4500/4500 [==============================] - 31s 7ms/step - loss: 0.4332 - accuracy: 0.7936 - val_loss: 0.5185 - val_accuracy: 0.7422\n",
            "Epoch 33/50\n",
            "4500/4500 [==============================] - 31s 7ms/step - loss: 0.4320 - accuracy: 0.7950 - val_loss: 0.5177 - val_accuracy: 0.7476\n",
            "Epoch 34/50\n",
            "4500/4500 [==============================] - 32s 7ms/step - loss: 0.4319 - accuracy: 0.7939 - val_loss: 0.5168 - val_accuracy: 0.7469\n",
            "Epoch 35/50\n",
            "4500/4500 [==============================] - 31s 7ms/step - loss: 0.4305 - accuracy: 0.7957 - val_loss: 0.5180 - val_accuracy: 0.7455\n",
            "Epoch 36/50\n",
            "4500/4500 [==============================] - 31s 7ms/step - loss: 0.4305 - accuracy: 0.7954 - val_loss: 0.5176 - val_accuracy: 0.7483\n",
            "Epoch 37/50\n",
            "4500/4500 [==============================] - 31s 7ms/step - loss: 0.4314 - accuracy: 0.7953 - val_loss: 0.5177 - val_accuracy: 0.7475\n",
            "Epoch 38/50\n",
            "4500/4500 [==============================] - 31s 7ms/step - loss: 0.4287 - accuracy: 0.7960 - val_loss: 0.5143 - val_accuracy: 0.7458\n",
            "Epoch 39/50\n",
            "4500/4500 [==============================] - 31s 7ms/step - loss: 0.4279 - accuracy: 0.7965 - val_loss: 0.5160 - val_accuracy: 0.7484\n",
            "Epoch 40/50\n",
            "4500/4500 [==============================] - 31s 7ms/step - loss: 0.4299 - accuracy: 0.7959 - val_loss: 0.5164 - val_accuracy: 0.7486\n",
            "Epoch 41/50\n",
            "4500/4500 [==============================] - 31s 7ms/step - loss: 0.4272 - accuracy: 0.7973 - val_loss: 0.5210 - val_accuracy: 0.7458\n",
            "Epoch 42/50\n",
            "4500/4500 [==============================] - 31s 7ms/step - loss: 0.4305 - accuracy: 0.7946 - val_loss: 0.5128 - val_accuracy: 0.7481\n",
            "Epoch 43/50\n",
            "4500/4500 [==============================] - 31s 7ms/step - loss: 0.4282 - accuracy: 0.7956 - val_loss: 0.5167 - val_accuracy: 0.7459\n",
            "Epoch 44/50\n",
            "4500/4500 [==============================] - 33s 7ms/step - loss: 0.4287 - accuracy: 0.7956 - val_loss: 0.5137 - val_accuracy: 0.7451\n",
            "Epoch 45/50\n",
            "4500/4500 [==============================] - 31s 7ms/step - loss: 0.4281 - accuracy: 0.7959 - val_loss: 0.5146 - val_accuracy: 0.7505\n",
            "Epoch 46/50\n",
            "4500/4500 [==============================] - 31s 7ms/step - loss: 0.4275 - accuracy: 0.7972 - val_loss: 0.5168 - val_accuracy: 0.7513\n",
            "Epoch 47/50\n",
            "4500/4500 [==============================] - 31s 7ms/step - loss: 0.4261 - accuracy: 0.7993 - val_loss: 0.5158 - val_accuracy: 0.7477\n",
            "Epoch 48/50\n",
            "4500/4500 [==============================] - 35s 8ms/step - loss: 0.4270 - accuracy: 0.7970 - val_loss: 0.5153 - val_accuracy: 0.7483\n",
            "Epoch 49/50\n",
            "4500/4500 [==============================] - 31s 7ms/step - loss: 0.4261 - accuracy: 0.7984 - val_loss: 0.5165 - val_accuracy: 0.7485\n",
            "Epoch 50/50\n",
            "4500/4500 [==============================] - 31s 7ms/step - loss: 0.4264 - accuracy: 0.7967 - val_loss: 0.5196 - val_accuracy: 0.7477\n",
            "Training Complete\n"
          ],
          "name": "stdout"
        }
      ]
    },
    {
      "cell_type": "code",
      "metadata": {
        "colab_type": "code",
        "id": "qxju4ItJKO8F",
        "colab": {
          "base_uri": "https://localhost:8080/",
          "height": 607
        },
        "outputId": "a94d95f6-8d24-475b-8d59-5ed50047149c"
      },
      "source": [
        "import matplotlib.image  as mpimg\n",
        "import matplotlib.pyplot as plt\n",
        "\n",
        "#-----------------------------------------------------------\n",
        "# Retrieve a list of list results on training and test data\n",
        "# sets for each training epoch\n",
        "#-----------------------------------------------------------\n",
        "acc=history.history['accuracy']\n",
        "val_acc=history.history['val_accuracy']\n",
        "loss=history.history['loss']\n",
        "val_loss=history.history['val_loss']\n",
        "\n",
        "epochs=range(len(acc)) # Get number of epochs\n",
        "\n",
        "#------------------------------------------------\n",
        "# Plot training and validation accuracy per epoch\n",
        "#------------------------------------------------\n",
        "plt.plot(epochs, acc, 'r')\n",
        "plt.plot(epochs, val_acc, 'b')\n",
        "plt.title('Training and validation accuracy')\n",
        "plt.xlabel(\"Epochs\")\n",
        "plt.ylabel(\"Accuracy\")\n",
        "plt.legend([\"Accuracy\", \"Validation Accuracy\"])\n",
        "\n",
        "plt.figure()\n",
        "\n",
        "#------------------------------------------------\n",
        "# Plot training and validation loss per epoch\n",
        "#------------------------------------------------\n",
        "plt.plot(epochs, loss, 'r')\n",
        "plt.plot(epochs, val_loss, 'b')\n",
        "plt.title('Training and validation loss')\n",
        "plt.xlabel(\"Epochs\")\n",
        "plt.ylabel(\"Loss\")\n",
        "plt.legend([\"Loss\", \"Validation Loss\"])\n",
        "\n",
        "plt.figure()\n",
        "\n",
        "\n",
        "# Expected Output\n",
        "# A chart where the validation loss does not increase sharply!"
      ],
      "execution_count": 11,
      "outputs": [
        {
          "output_type": "execute_result",
          "data": {
            "text/plain": [
              "<Figure size 432x288 with 0 Axes>"
            ]
          },
          "metadata": {
            "tags": []
          },
          "execution_count": 11
        },
        {
          "output_type": "display_data",
          "data": {
            "image/png": "[encoded data removed]",
            "text/plain": [
              "<Figure size 432x288 with 1 Axes>"
            ]
          },
          "metadata": {
            "tags": [],
            "needs_background": "light"
          }
        },
        {
          "output_type": "display_data",
          "data": {
            "image/png": "[encoded data removed]",
            "text/plain": [
              "<Figure size 432x288 with 1 Axes>"
            ]
          },
          "metadata": {
            "tags": [],
            "needs_background": "light"
          }
        },
        {
          "output_type": "display_data",
          "data": {
            "text/plain": [
              "<Figure size 432x288 with 0 Axes>"
            ]
          },
          "metadata": {
            "tags": []
          }
        }
      ]
    }
  ]
}