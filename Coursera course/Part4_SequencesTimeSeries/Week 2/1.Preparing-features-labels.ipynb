{
 "metadata": {
  "language_info": {
   "codemirror_mode": {
    "name": "ipython",
    "version": 3
   },
   "file_extension": ".py",
   "mimetype": "text/x-python",
   "name": "python",
   "nbconvert_exporter": "python",
   "pygments_lexer": "ipython3",
   "version": "3.8.3-final"
  },
  "orig_nbformat": 2,
  "kernelspec": {
   "name": "python38164bit0942e7715c2041d4a9221d3e47caa33a",
   "display_name": "Python 3.8.1 64-bit"
  }
 },
 "nbformat": 4,
 "nbformat_minor": 2,
 "cells": [
  {
   "cell_type": "code",
   "execution_count": 5,
   "metadata": {
    "tags": []
   },
   "outputs": [],
   "source": [
    "import tensorflow as tf\n",
    "import numpy as np\n",
    "import matplotlib.pyplot as plt"
   ]
  },
  {
   "cell_type": "code",
   "execution_count": 9,
   "metadata": {
    "tags": []
   },
   "outputs": [
    {
     "output_type": "stream",
     "name": "stdout",
     "text": "[[2 3 4 5]\n [5 6 7 8]\n [3 4 5 6]\n [4 5 6 7]] [[6]\n [9]\n [7]\n [8]]\n[[1 2 3 4]\n [0 1 2 3]] [[5]\n [4]]\n"
    }
   ],
   "source": [
    "def windowed_dataset(series, window_size, batch_size, shuffle_buffer):\n",
    "    dataset = tf.data.Dataset.range(series)\n",
    "    dataset = dataset.window(window_size+1, shift=1, drop_remainder=True) # windowed data, drop_remainder chops bottom of gen data and ensures same len\n",
    "    dataset = dataset.flat_map(lambda window: window.batch(window_size + 1)) # MAPPING OPERATIONS\n",
    "    dataset = dataset.shuffle(buffer_size=shuffle_buffer).map(lambda window: (window[:-1], window[-1:])) # SHUFFLING\n",
    "    dataset = dataset.batch(batch_size).prefetch(1) # BATCHING\n",
    "    return dataset\n",
    "dataset = windowed_dataset(series=10, window_size=4, batch_size=4, shuffle_buffer=10)\n",
    "for train,test in dataset:\n",
    "    print(train.numpy(), test.numpy())"
   ]
  },
  {
   "cell_type": "code",
   "execution_count": null,
   "metadata": {},
   "outputs": [],
   "source": []
  }
 ]
}