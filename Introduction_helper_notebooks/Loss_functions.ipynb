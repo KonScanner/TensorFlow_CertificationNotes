{
 "cells": [
  {
   "cell_type": "markdown",
   "metadata": {},
   "source": [
    "## Quadratic Cost"
   ]
  },
  {
   "cell_type": "code",
   "execution_count": 2,
   "metadata": {},
   "outputs": [],
   "source": [
    "def squared_error(y,y_hat):\n",
    "    return (y-y_hat)**2"
   ]
  },
  {
   "cell_type": "code",
   "execution_count": 4,
   "metadata": {
    "tags": []
   },
   "outputs": [
    {
     "output_type": "stream",
     "name": "stdout",
     "text": "0.0025000000000000044\n0.48999999999999994\n"
    }
   ],
   "source": [
    "print(squared_error(1,0.95)) # small changes are not penalized\n",
    "print(squared_error(1,0.3)) # big changes are penalized"
   ]
  },
  {
   "cell_type": "markdown",
   "metadata": {},
   "source": [
    "## Cross-Entropy Function"
   ]
  },
  {
   "cell_type": "code",
   "execution_count": 1,
   "metadata": {},
   "outputs": [],
   "source": [
    "from numpy import log\n",
    "def cross_entropy(y,a):\n",
    "    # a is activation, same as y_hat\n",
    "    return -1*(y*log(a) + (1-y)*log(1-a))"
   ]
  },
  {
   "cell_type": "code",
   "execution_count": 3,
   "metadata": {
    "tags": []
   },
   "outputs": [
    {
     "output_type": "stream",
     "name": "stdout",
     "text": "0.05129329438755058\n2.2072749131897207\n"
    }
   ],
   "source": [
    "print(cross_entropy(1,0.95)) # small changes are not penalized\n",
    "print(cross_entropy(1,0.11)) # big changes, changes the rate of learning of the neuron"
   ]
  },
  {
   "cell_type": "code",
   "execution_count": null,
   "metadata": {},
   "outputs": [],
   "source": []
  }
 ],
 "metadata": {
  "language_info": {
   "codemirror_mode": {
    "name": "ipython",
    "version": 3
   },
   "file_extension": ".py",
   "mimetype": "text/x-python",
   "name": "python",
   "nbconvert_exporter": "python",
   "pygments_lexer": "ipython3",
   "version": "3.8.3-final"
  },
  "orig_nbformat": 2,
  "kernelspec": {
   "name": "python38164bit0942e7715c2041d4a9221d3e47caa33a",
   "display_name": "Python 3.8.1 64-bit"
  }
 },
 "nbformat": 4,
 "nbformat_minor": 2
}