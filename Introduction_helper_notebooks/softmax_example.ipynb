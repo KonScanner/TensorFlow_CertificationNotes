{
 "cells": [
  {
   "cell_type": "code",
   "execution_count": 31,
   "metadata": {},
   "outputs": [],
   "source": [
    "from numpy import exp"
   ]
  },
  {
   "cell_type": "code",
   "execution_count": 56,
   "metadata": {
    "tags": []
   },
   "outputs": [
    {
     "output_type": "stream",
     "name": "stdout",
     "text": "Estimated chances for each class\n\nhot-dog ('hot-dog', 0.0024282580295913376)\nburger ('burger', 0.017942534803329194)\npizza ('pizza', 0.9796292071670795)\n"
    }
   ],
   "source": [
    "input_vector = {'labels': ['hot-dog','burger', 'pizza'], 'input': [-1, 1, 5]}\n",
    "pre_out = [(input_vector['labels'][c], exp(i)) for c,i in enumerate(input_vector['input'])]\n",
    "total = sum([i[1] for i in pre_out])\n",
    "output = [(input_vector['labels'][c], exp(i)/total) for c,i in enumerate(input_vector['input'])]\n",
    "\n",
    "print('Estimated chances for each class:\\n')\n",
    "for c,i in enumerate(output):\n",
    "    print(labels[c],i)"
   ]
  },
  {
   "cell_type": "code",
   "execution_count": null,
   "metadata": {},
   "outputs": [],
   "source": []
  }
 ],
 "metadata": {
  "language_info": {
   "codemirror_mode": {
    "name": "ipython",
    "version": 3
   },
   "file_extension": ".py",
   "mimetype": "text/x-python",
   "name": "python",
   "nbconvert_exporter": "python",
   "pygments_lexer": "ipython3",
   "version": "3.8.3-final"
  },
  "orig_nbformat": 2,
  "kernelspec": {
   "name": "python38164bit0942e7715c2041d4a9221d3e47caa33a",
   "display_name": "Python 3.8.1 64-bit"
  }
 },
 "nbformat": 4,
 "nbformat_minor": 2
}